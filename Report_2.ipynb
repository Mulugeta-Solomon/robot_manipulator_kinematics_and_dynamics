{
 "cells": [
  {
   "cell_type": "markdown",
   "id": "124c95fe-8374-4632-8d3a-1206ebc2c347",
   "metadata": {
    "tags": []
   },
   "source": [
    "## Kinematics and velocity relation using DH Method "
   ]
  },
  {
   "cell_type": "code",
   "execution_count": 2,
   "id": "4686dbba-36a2-4195-abcd-ce1c31ada5c6",
   "metadata": {},
   "outputs": [],
   "source": [
    "import sympy as sym"
   ]
  },
  {
   "cell_type": "code",
   "execution_count": 3,
   "id": "8420ce48-446f-46ae-9a9a-fc3cb61b6f53",
   "metadata": {},
   "outputs": [],
   "source": [
    "from sympy.physics.vector import init_vprinting\n",
    "init_vprinting(use_latex='mathjax', pretty_print=False)"
   ]
  },
  {
   "cell_type": "code",
   "execution_count": 4,
   "id": "57a7309e-a46b-47c8-a5b8-affc0308676d",
   "metadata": {},
   "outputs": [],
   "source": [
    "from sympy.physics.mechanics import dynamicsymbols \n",
    "from sympy.physics.vector import *\n",
    "from sympy.vector import CoordSys3D\n",
    "N = CoordSys3D('N')"
   ]
  },
  {
   "cell_type": "code",
   "execution_count": 69,
   "id": "ca7f695e-6076-4422-9797-75a0d3bcbc13",
   "metadata": {},
   "outputs": [
    {
     "data": {
      "text/latex": [
       "$\\displaystyle \\left( \\theta_{1}, \\  \\theta_{2}, \\  \\theta_{3}, \\  \\theta_{4}, \\  \\theta_{5}, \\  \\theta_{6}, \\  l_{1}, \\  l_{2}, \\  l_{3}, \\  l_{4}, \\  h_{1}, \\  \\theta, \\  \\alpha, \\  a, \\  d\\right)$"
      ],
      "text/plain": [
       "(theta1, theta2, theta3, theta4, theta5, theta6, l1, l2, l3, l4, h1, theta, alpha, a, d)"
      ]
     },
     "execution_count": 69,
     "metadata": {},
     "output_type": "execute_result"
    }
   ],
   "source": [
    "theta1, theta2, theta3, theta4, theta5, theta6, l1, l2, l3, l4, h1, theta, alpha, a, d = dynamicsymbols('theta1 theta2 theta3 theta4 theta5 theta6 l1 l2 l3 l4 h1 theta alpha a d')\n",
    "theta1, theta2,theta3, theta4, theta5, theta6, l1, l2, l3, l4, h1, theta, alpha, a, d "
   ]
  },
  {
   "cell_type": "markdown",
   "id": "d0003dba-a681-43ce-b2bf-d90b129b6f47",
   "metadata": {},
   "source": [
    "## DH Table \n",
    "### The DH table for 6DOF Link Robot Mnipulator shown above can be formulated as,"
   ]
  },
  {
   "cell_type": "code",
   "execution_count": 70,
   "id": "bc401741-33c5-4b9c-a2f5-a8f8c6104346",
   "metadata": {},
   "outputs": [
    {
     "data": {
      "text/latex": [
       "$\\displaystyle \\left[\\begin{matrix}\\cos{\\left(\\theta \\right)} & - \\sin{\\left(\\theta \\right)} & 0 & a\\\\\\sin{\\left(\\theta \\right)} \\cos{\\left(\\alpha \\right)} & \\cos{\\left(\\alpha \\right)} \\cos{\\left(\\theta \\right)} & - \\sin{\\left(\\alpha \\right)} & - d \\sin{\\left(\\alpha \\right)}\\\\\\sin{\\left(\\alpha \\right)} \\sin{\\left(\\theta \\right)} & \\sin{\\left(\\alpha \\right)} \\cos{\\left(\\theta \\right)} & \\cos{\\left(\\alpha \\right)} & d \\cos{\\left(\\alpha \\right)}\\\\0 & 0 & 0 & 1\\end{matrix}\\right]$"
      ],
      "text/plain": [
       "Matrix([\n",
       "[           cos(theta),           -sin(theta),           0,             a],\n",
       "[sin(theta)*cos(alpha), cos(alpha)*cos(theta), -sin(alpha), -d*sin(alpha)],\n",
       "[sin(alpha)*sin(theta), sin(alpha)*cos(theta),  cos(alpha),  d*cos(alpha)],\n",
       "[                    0,                     0,           0,             1]])"
      ]
     },
     "execution_count": 70,
     "metadata": {},
     "output_type": "execute_result"
    }
   ],
   "source": [
    "#rot_matrix = sym.Matrix([[sym.cos(theta), -sym.sin(theta)*sym.cos(alpha), sym.sin(theta)*sym.sin(alpha)],\n",
    "                # [sym.sin(theta), sym.cos(theta)*sym.cos(alpha), -sym.cos(theta)*sym.sin(alpha)],\n",
    "                 #[0, sym.sin(alpha), sym.cos(alpha)]])\n",
    "#trans_matrix = sym.Matrix([a*sym.cos(theta),a*sym.sin(theta),d])\n",
    "#T_homog = T_homog.subs({alpha:alpha1, a:a1,theta:theta1, d:d1})\n",
    "\n",
    "rot_matrix = sym.Matrix([[sym.cos(theta), -sym.sin(theta), 0],\n",
    "                 [sym.cos(alpha)*sym.sin(theta), sym.cos(alpha)*sym.cos(theta), -sym.sin(alpha)],\n",
    "                 [sym.sin(alpha)*sym.sin(theta), sym.sin(alpha)*sym.cos(theta), sym.cos(alpha)]])\n",
    "\n",
    "\n",
    "trans_matrix = sym.Matrix([a, -sym.sin(alpha)*d, sym.cos(alpha)*d])\n",
    "\n",
    "last_row = sym.Matrix([[0, 0, 0, 1]])\n",
    "\n",
    "T_homog = sym.Matrix.vstack(sym.Matrix.hstack(rot_matrix, trans_matrix), last_row)\n",
    "T_homog\n"
   ]
  },
  {
   "cell_type": "markdown",
   "id": "3c93dda8-8064-4bbc-aae8-24c340b75f24",
   "metadata": {},
   "source": [
    "### Finding the homogenious matrices for each joint "
   ]
  },
  {
   "cell_type": "code",
   "execution_count": 71,
   "id": "f52b7971-a58a-471e-bec8-4d6dcd2ce3f3",
   "metadata": {},
   "outputs": [
    {
     "data": {
      "text/latex": [
       "$\\displaystyle \\left[\\begin{matrix}\\cos{\\left(\\theta_{1} \\right)} & - \\sin{\\left(\\theta_{1} \\right)} & 0 & 0\\\\\\sin{\\left(\\theta_{1} \\right)} & \\cos{\\left(\\theta_{1} \\right)} & 0 & 0\\\\0 & 0 & 1 & h_{1}\\\\0 & 0 & 0 & 1\\end{matrix}\\right]$"
      ],
      "text/plain": [
       "Matrix([\n",
       "[cos(theta1), -sin(theta1), 0,  0],\n",
       "[sin(theta1),  cos(theta1), 0,  0],\n",
       "[          0,            0, 1, h1],\n",
       "[          0,            0, 0,  1]])"
      ]
     },
     "execution_count": 71,
     "metadata": {},
     "output_type": "execute_result"
    }
   ],
   "source": [
    "T0_1 = T_homog.subs({alpha:0, a:0, theta:theta1, d:h1})\n",
    "T0_1"
   ]
  },
  {
   "cell_type": "code",
   "execution_count": 72,
   "id": "cf51117c-efd8-43b2-bb72-84410657bc58",
   "metadata": {},
   "outputs": [
    {
     "data": {
      "text/latex": [
       "$\\displaystyle \\left[\\begin{matrix}\\cos{\\left(\\theta_{2} \\right)} & - \\sin{\\left(\\theta_{2} \\right)} & 0 & 0\\\\\\sin{\\left(\\theta_{2} \\right)} & \\cos{\\left(\\theta_{2} \\right)} & 0 & 0\\\\0 & 0 & 1 & 0\\\\0 & 0 & 0 & 1\\end{matrix}\\right]$"
      ],
      "text/plain": [
       "Matrix([\n",
       "[cos(theta2), -sin(theta2), 0, 0],\n",
       "[sin(theta2),  cos(theta2), 0, 0],\n",
       "[          0,            0, 1, 0],\n",
       "[          0,            0, 0, 1]])"
      ]
     },
     "execution_count": 72,
     "metadata": {},
     "output_type": "execute_result"
    }
   ],
   "source": [
    "T1_2 = T_homog.subs({alpha:0, a:0, theta:theta2, d:0})\n",
    "T1_2"
   ]
  },
  {
   "cell_type": "code",
   "execution_count": 73,
   "id": "3baa0f00-0412-4916-9c29-604bdfc380de",
   "metadata": {},
   "outputs": [
    {
     "data": {
      "text/latex": [
       "$\\displaystyle \\left[\\begin{matrix}\\cos{\\left(\\theta_{3} \\right)} & - \\sin{\\left(\\theta_{3} \\right)} & 0 & l_{1}\\\\0 & 0 & -1 & 0\\\\\\sin{\\left(\\theta_{3} \\right)} & \\cos{\\left(\\theta_{3} \\right)} & 0 & 0\\\\0 & 0 & 0 & 1\\end{matrix}\\right]$"
      ],
      "text/plain": [
       "Matrix([\n",
       "[cos(theta3), -sin(theta3),  0, l1],\n",
       "[          0,            0, -1,  0],\n",
       "[sin(theta3),  cos(theta3),  0,  0],\n",
       "[          0,            0,  0,  1]])"
      ]
     },
     "execution_count": 73,
     "metadata": {},
     "output_type": "execute_result"
    }
   ],
   "source": [
    "T2_3 = T_homog.subs({alpha:sym.pi/2, a:l1, theta:theta3, d:0})\n",
    "T2_3"
   ]
  },
  {
   "cell_type": "code",
   "execution_count": 74,
   "id": "d417c804-8652-48c0-82b0-fe8a276d227e",
   "metadata": {},
   "outputs": [
    {
     "data": {
      "text/latex": [
       "$\\displaystyle \\left[\\begin{matrix}\\cos{\\left(\\theta_{4} \\right)} & - \\sin{\\left(\\theta_{4} \\right)} & 0 & l_{2}\\\\\\sin{\\left(\\theta_{4} \\right)} & \\cos{\\left(\\theta_{4} \\right)} & 0 & 0\\\\0 & 0 & 1 & 0\\\\0 & 0 & 0 & 1\\end{matrix}\\right]$"
      ],
      "text/plain": [
       "Matrix([\n",
       "[cos(theta4), -sin(theta4), 0, l2],\n",
       "[sin(theta4),  cos(theta4), 0,  0],\n",
       "[          0,            0, 1,  0],\n",
       "[          0,            0, 0,  1]])"
      ]
     },
     "execution_count": 74,
     "metadata": {},
     "output_type": "execute_result"
    }
   ],
   "source": [
    "T3_4 = T_homog.subs({alpha:0, a:l2, theta:theta4, d:0})\n",
    "T3_4"
   ]
  },
  {
   "cell_type": "code",
   "execution_count": 75,
   "id": "a60b5ee9-ed4f-4cd4-b44a-4645dfe3e5bb",
   "metadata": {},
   "outputs": [
    {
     "data": {
      "text/latex": [
       "$\\displaystyle \\left[\\begin{matrix}\\cos{\\left(\\theta_{5} \\right)} & - \\sin{\\left(\\theta_{5} \\right)} & 0 & l_{3}\\\\\\sin{\\left(\\theta_{5} \\right)} & \\cos{\\left(\\theta_{5} \\right)} & 0 & 0\\\\0 & 0 & 1 & 0\\\\0 & 0 & 0 & 1\\end{matrix}\\right]$"
      ],
      "text/plain": [
       "Matrix([\n",
       "[cos(theta5), -sin(theta5), 0, l3],\n",
       "[sin(theta5),  cos(theta5), 0,  0],\n",
       "[          0,            0, 1,  0],\n",
       "[          0,            0, 0,  1]])"
      ]
     },
     "execution_count": 75,
     "metadata": {},
     "output_type": "execute_result"
    }
   ],
   "source": [
    "T4_5 = T_homog.subs({alpha:0, a:l3, theta:theta5, d:0})\n",
    "T4_5"
   ]
  },
  {
   "cell_type": "code",
   "execution_count": 76,
   "id": "59f72b40-255d-4eea-9031-9f5d7e5225e2",
   "metadata": {},
   "outputs": [
    {
     "data": {
      "text/latex": [
       "$\\displaystyle \\left[\\begin{matrix}\\cos{\\left(\\theta_{6} \\right)} & - \\sin{\\left(\\theta_{6} \\right)} & 0 & l_{4}\\\\0 & 0 & 1 & 0\\\\- \\sin{\\left(\\theta_{6} \\right)} & - \\cos{\\left(\\theta_{6} \\right)} & 0 & 0\\\\0 & 0 & 0 & 1\\end{matrix}\\right]$"
      ],
      "text/plain": [
       "Matrix([\n",
       "[ cos(theta6), -sin(theta6), 0, l4],\n",
       "[           0,            0, 1,  0],\n",
       "[-sin(theta6), -cos(theta6), 0,  0],\n",
       "[           0,            0, 0,  1]])"
      ]
     },
     "execution_count": 76,
     "metadata": {},
     "output_type": "execute_result"
    }
   ],
   "source": [
    "T5_6 = T_homog.subs({alpha:-sym.pi/2, a:l4, theta:theta6, d:0})\n",
    "T5_6"
   ]
  },
  {
   "cell_type": "code",
   "execution_count": 77,
   "id": "a2c54cfb-bbed-4042-b907-df9e8cb9631e",
   "metadata": {},
   "outputs": [
    {
     "data": {
      "text/latex": [
       "$\\displaystyle \\left[\\begin{matrix}1 & 0 & 0 & 0\\\\0 & 0 & -1 & 0\\\\0 & 1 & 0 & 0\\\\0 & 0 & 0 & 1\\end{matrix}\\right]$"
      ],
      "text/plain": [
       "Matrix([\n",
       "[1, 0,  0, 0],\n",
       "[0, 0, -1, 0],\n",
       "[0, 1,  0, 0],\n",
       "[0, 0,  0, 1]])"
      ]
     },
     "execution_count": 77,
     "metadata": {},
     "output_type": "execute_result"
    }
   ],
   "source": [
    "T6_E = T_homog.subs({alpha:sym.pi/2, a:0, theta:0, d:0})\n",
    "T6_E"
   ]
  },
  {
   "cell_type": "code",
   "execution_count": 78,
   "id": "ad500599-5189-4f1e-9a87-dcf69e228466",
   "metadata": {},
   "outputs": [
    {
     "data": {
      "text/latex": [
       "$\\displaystyle \\left[\\begin{matrix}\\left(\\left(- \\left(- \\sin{\\left(\\theta_{1} \\right)} \\sin{\\left(\\theta_{2} \\right)} + \\cos{\\left(\\theta_{1} \\right)} \\cos{\\left(\\theta_{2} \\right)}\\right) \\sin{\\left(\\theta_{3} \\right)} \\sin{\\left(\\theta_{4} \\right)} + \\left(- \\sin{\\left(\\theta_{1} \\right)} \\sin{\\left(\\theta_{2} \\right)} + \\cos{\\left(\\theta_{1} \\right)} \\cos{\\left(\\theta_{2} \\right)}\\right) \\cos{\\left(\\theta_{3} \\right)} \\cos{\\left(\\theta_{4} \\right)}\\right) \\cos{\\left(\\theta_{5} \\right)} + \\left(- \\left(- \\sin{\\left(\\theta_{1} \\right)} \\sin{\\left(\\theta_{2} \\right)} + \\cos{\\left(\\theta_{1} \\right)} \\cos{\\left(\\theta_{2} \\right)}\\right) \\sin{\\left(\\theta_{3} \\right)} \\cos{\\left(\\theta_{4} \\right)} - \\left(- \\sin{\\left(\\theta_{1} \\right)} \\sin{\\left(\\theta_{2} \\right)} + \\cos{\\left(\\theta_{1} \\right)} \\cos{\\left(\\theta_{2} \\right)}\\right) \\sin{\\left(\\theta_{4} \\right)} \\cos{\\left(\\theta_{3} \\right)}\\right) \\sin{\\left(\\theta_{5} \\right)}\\right) \\cos{\\left(\\theta_{6} \\right)} - \\left(\\sin{\\left(\\theta_{1} \\right)} \\cos{\\left(\\theta_{2} \\right)} + \\sin{\\left(\\theta_{2} \\right)} \\cos{\\left(\\theta_{1} \\right)}\\right) \\sin{\\left(\\theta_{6} \\right)} & - \\left(- \\left(- \\sin{\\left(\\theta_{1} \\right)} \\sin{\\left(\\theta_{2} \\right)} + \\cos{\\left(\\theta_{1} \\right)} \\cos{\\left(\\theta_{2} \\right)}\\right) \\sin{\\left(\\theta_{3} \\right)} \\sin{\\left(\\theta_{4} \\right)} + \\left(- \\sin{\\left(\\theta_{1} \\right)} \\sin{\\left(\\theta_{2} \\right)} + \\cos{\\left(\\theta_{1} \\right)} \\cos{\\left(\\theta_{2} \\right)}\\right) \\cos{\\left(\\theta_{3} \\right)} \\cos{\\left(\\theta_{4} \\right)}\\right) \\sin{\\left(\\theta_{5} \\right)} + \\left(- \\left(- \\sin{\\left(\\theta_{1} \\right)} \\sin{\\left(\\theta_{2} \\right)} + \\cos{\\left(\\theta_{1} \\right)} \\cos{\\left(\\theta_{2} \\right)}\\right) \\sin{\\left(\\theta_{3} \\right)} \\cos{\\left(\\theta_{4} \\right)} - \\left(- \\sin{\\left(\\theta_{1} \\right)} \\sin{\\left(\\theta_{2} \\right)} + \\cos{\\left(\\theta_{1} \\right)} \\cos{\\left(\\theta_{2} \\right)}\\right) \\sin{\\left(\\theta_{4} \\right)} \\cos{\\left(\\theta_{3} \\right)}\\right) \\cos{\\left(\\theta_{5} \\right)} & \\left(\\left(- \\left(- \\sin{\\left(\\theta_{1} \\right)} \\sin{\\left(\\theta_{2} \\right)} + \\cos{\\left(\\theta_{1} \\right)} \\cos{\\left(\\theta_{2} \\right)}\\right) \\sin{\\left(\\theta_{3} \\right)} \\sin{\\left(\\theta_{4} \\right)} + \\left(- \\sin{\\left(\\theta_{1} \\right)} \\sin{\\left(\\theta_{2} \\right)} + \\cos{\\left(\\theta_{1} \\right)} \\cos{\\left(\\theta_{2} \\right)}\\right) \\cos{\\left(\\theta_{3} \\right)} \\cos{\\left(\\theta_{4} \\right)}\\right) \\cos{\\left(\\theta_{5} \\right)} + \\left(- \\left(- \\sin{\\left(\\theta_{1} \\right)} \\sin{\\left(\\theta_{2} \\right)} + \\cos{\\left(\\theta_{1} \\right)} \\cos{\\left(\\theta_{2} \\right)}\\right) \\sin{\\left(\\theta_{3} \\right)} \\cos{\\left(\\theta_{4} \\right)} - \\left(- \\sin{\\left(\\theta_{1} \\right)} \\sin{\\left(\\theta_{2} \\right)} + \\cos{\\left(\\theta_{1} \\right)} \\cos{\\left(\\theta_{2} \\right)}\\right) \\sin{\\left(\\theta_{4} \\right)} \\cos{\\left(\\theta_{3} \\right)}\\right) \\sin{\\left(\\theta_{5} \\right)}\\right) \\sin{\\left(\\theta_{6} \\right)} + \\left(\\sin{\\left(\\theta_{1} \\right)} \\cos{\\left(\\theta_{2} \\right)} + \\sin{\\left(\\theta_{2} \\right)} \\cos{\\left(\\theta_{1} \\right)}\\right) \\cos{\\left(\\theta_{6} \\right)} & \\left(\\left(- \\left(- \\sin{\\left(\\theta_{1} \\right)} \\sin{\\left(\\theta_{2} \\right)} + \\cos{\\left(\\theta_{1} \\right)} \\cos{\\left(\\theta_{2} \\right)}\\right) \\sin{\\left(\\theta_{3} \\right)} \\sin{\\left(\\theta_{4} \\right)} + \\left(- \\sin{\\left(\\theta_{1} \\right)} \\sin{\\left(\\theta_{2} \\right)} + \\cos{\\left(\\theta_{1} \\right)} \\cos{\\left(\\theta_{2} \\right)}\\right) \\cos{\\left(\\theta_{3} \\right)} \\cos{\\left(\\theta_{4} \\right)}\\right) \\cos{\\left(\\theta_{5} \\right)} + \\left(- \\left(- \\sin{\\left(\\theta_{1} \\right)} \\sin{\\left(\\theta_{2} \\right)} + \\cos{\\left(\\theta_{1} \\right)} \\cos{\\left(\\theta_{2} \\right)}\\right) \\sin{\\left(\\theta_{3} \\right)} \\cos{\\left(\\theta_{4} \\right)} - \\left(- \\sin{\\left(\\theta_{1} \\right)} \\sin{\\left(\\theta_{2} \\right)} + \\cos{\\left(\\theta_{1} \\right)} \\cos{\\left(\\theta_{2} \\right)}\\right) \\sin{\\left(\\theta_{4} \\right)} \\cos{\\left(\\theta_{3} \\right)}\\right) \\sin{\\left(\\theta_{5} \\right)}\\right) l_{4} + \\left(- \\sin{\\left(\\theta_{1} \\right)} \\sin{\\left(\\theta_{2} \\right)} + \\cos{\\left(\\theta_{1} \\right)} \\cos{\\left(\\theta_{2} \\right)}\\right) l_{1} + \\left(- \\sin{\\left(\\theta_{1} \\right)} \\sin{\\left(\\theta_{2} \\right)} + \\cos{\\left(\\theta_{1} \\right)} \\cos{\\left(\\theta_{2} \\right)}\\right) l_{2} \\cos{\\left(\\theta_{3} \\right)} + \\left(- \\left(- \\sin{\\left(\\theta_{1} \\right)} \\sin{\\left(\\theta_{2} \\right)} + \\cos{\\left(\\theta_{1} \\right)} \\cos{\\left(\\theta_{2} \\right)}\\right) \\sin{\\left(\\theta_{3} \\right)} \\sin{\\left(\\theta_{4} \\right)} + \\left(- \\sin{\\left(\\theta_{1} \\right)} \\sin{\\left(\\theta_{2} \\right)} + \\cos{\\left(\\theta_{1} \\right)} \\cos{\\left(\\theta_{2} \\right)}\\right) \\cos{\\left(\\theta_{3} \\right)} \\cos{\\left(\\theta_{4} \\right)}\\right) l_{3}\\\\\\left(\\left(- \\left(\\sin{\\left(\\theta_{1} \\right)} \\cos{\\left(\\theta_{2} \\right)} + \\sin{\\left(\\theta_{2} \\right)} \\cos{\\left(\\theta_{1} \\right)}\\right) \\sin{\\left(\\theta_{3} \\right)} \\sin{\\left(\\theta_{4} \\right)} + \\left(\\sin{\\left(\\theta_{1} \\right)} \\cos{\\left(\\theta_{2} \\right)} + \\sin{\\left(\\theta_{2} \\right)} \\cos{\\left(\\theta_{1} \\right)}\\right) \\cos{\\left(\\theta_{3} \\right)} \\cos{\\left(\\theta_{4} \\right)}\\right) \\cos{\\left(\\theta_{5} \\right)} + \\left(- \\left(\\sin{\\left(\\theta_{1} \\right)} \\cos{\\left(\\theta_{2} \\right)} + \\sin{\\left(\\theta_{2} \\right)} \\cos{\\left(\\theta_{1} \\right)}\\right) \\sin{\\left(\\theta_{3} \\right)} \\cos{\\left(\\theta_{4} \\right)} - \\left(\\sin{\\left(\\theta_{1} \\right)} \\cos{\\left(\\theta_{2} \\right)} + \\sin{\\left(\\theta_{2} \\right)} \\cos{\\left(\\theta_{1} \\right)}\\right) \\sin{\\left(\\theta_{4} \\right)} \\cos{\\left(\\theta_{3} \\right)}\\right) \\sin{\\left(\\theta_{5} \\right)}\\right) \\cos{\\left(\\theta_{6} \\right)} - \\left(\\sin{\\left(\\theta_{1} \\right)} \\sin{\\left(\\theta_{2} \\right)} - \\cos{\\left(\\theta_{1} \\right)} \\cos{\\left(\\theta_{2} \\right)}\\right) \\sin{\\left(\\theta_{6} \\right)} & - \\left(- \\left(\\sin{\\left(\\theta_{1} \\right)} \\cos{\\left(\\theta_{2} \\right)} + \\sin{\\left(\\theta_{2} \\right)} \\cos{\\left(\\theta_{1} \\right)}\\right) \\sin{\\left(\\theta_{3} \\right)} \\sin{\\left(\\theta_{4} \\right)} + \\left(\\sin{\\left(\\theta_{1} \\right)} \\cos{\\left(\\theta_{2} \\right)} + \\sin{\\left(\\theta_{2} \\right)} \\cos{\\left(\\theta_{1} \\right)}\\right) \\cos{\\left(\\theta_{3} \\right)} \\cos{\\left(\\theta_{4} \\right)}\\right) \\sin{\\left(\\theta_{5} \\right)} + \\left(- \\left(\\sin{\\left(\\theta_{1} \\right)} \\cos{\\left(\\theta_{2} \\right)} + \\sin{\\left(\\theta_{2} \\right)} \\cos{\\left(\\theta_{1} \\right)}\\right) \\sin{\\left(\\theta_{3} \\right)} \\cos{\\left(\\theta_{4} \\right)} - \\left(\\sin{\\left(\\theta_{1} \\right)} \\cos{\\left(\\theta_{2} \\right)} + \\sin{\\left(\\theta_{2} \\right)} \\cos{\\left(\\theta_{1} \\right)}\\right) \\sin{\\left(\\theta_{4} \\right)} \\cos{\\left(\\theta_{3} \\right)}\\right) \\cos{\\left(\\theta_{5} \\right)} & \\left(\\left(- \\left(\\sin{\\left(\\theta_{1} \\right)} \\cos{\\left(\\theta_{2} \\right)} + \\sin{\\left(\\theta_{2} \\right)} \\cos{\\left(\\theta_{1} \\right)}\\right) \\sin{\\left(\\theta_{3} \\right)} \\sin{\\left(\\theta_{4} \\right)} + \\left(\\sin{\\left(\\theta_{1} \\right)} \\cos{\\left(\\theta_{2} \\right)} + \\sin{\\left(\\theta_{2} \\right)} \\cos{\\left(\\theta_{1} \\right)}\\right) \\cos{\\left(\\theta_{3} \\right)} \\cos{\\left(\\theta_{4} \\right)}\\right) \\cos{\\left(\\theta_{5} \\right)} + \\left(- \\left(\\sin{\\left(\\theta_{1} \\right)} \\cos{\\left(\\theta_{2} \\right)} + \\sin{\\left(\\theta_{2} \\right)} \\cos{\\left(\\theta_{1} \\right)}\\right) \\sin{\\left(\\theta_{3} \\right)} \\cos{\\left(\\theta_{4} \\right)} - \\left(\\sin{\\left(\\theta_{1} \\right)} \\cos{\\left(\\theta_{2} \\right)} + \\sin{\\left(\\theta_{2} \\right)} \\cos{\\left(\\theta_{1} \\right)}\\right) \\sin{\\left(\\theta_{4} \\right)} \\cos{\\left(\\theta_{3} \\right)}\\right) \\sin{\\left(\\theta_{5} \\right)}\\right) \\sin{\\left(\\theta_{6} \\right)} + \\left(\\sin{\\left(\\theta_{1} \\right)} \\sin{\\left(\\theta_{2} \\right)} - \\cos{\\left(\\theta_{1} \\right)} \\cos{\\left(\\theta_{2} \\right)}\\right) \\cos{\\left(\\theta_{6} \\right)} & \\left(\\left(- \\left(\\sin{\\left(\\theta_{1} \\right)} \\cos{\\left(\\theta_{2} \\right)} + \\sin{\\left(\\theta_{2} \\right)} \\cos{\\left(\\theta_{1} \\right)}\\right) \\sin{\\left(\\theta_{3} \\right)} \\sin{\\left(\\theta_{4} \\right)} + \\left(\\sin{\\left(\\theta_{1} \\right)} \\cos{\\left(\\theta_{2} \\right)} + \\sin{\\left(\\theta_{2} \\right)} \\cos{\\left(\\theta_{1} \\right)}\\right) \\cos{\\left(\\theta_{3} \\right)} \\cos{\\left(\\theta_{4} \\right)}\\right) \\cos{\\left(\\theta_{5} \\right)} + \\left(- \\left(\\sin{\\left(\\theta_{1} \\right)} \\cos{\\left(\\theta_{2} \\right)} + \\sin{\\left(\\theta_{2} \\right)} \\cos{\\left(\\theta_{1} \\right)}\\right) \\sin{\\left(\\theta_{3} \\right)} \\cos{\\left(\\theta_{4} \\right)} - \\left(\\sin{\\left(\\theta_{1} \\right)} \\cos{\\left(\\theta_{2} \\right)} + \\sin{\\left(\\theta_{2} \\right)} \\cos{\\left(\\theta_{1} \\right)}\\right) \\sin{\\left(\\theta_{4} \\right)} \\cos{\\left(\\theta_{3} \\right)}\\right) \\sin{\\left(\\theta_{5} \\right)}\\right) l_{4} + \\left(\\sin{\\left(\\theta_{1} \\right)} \\cos{\\left(\\theta_{2} \\right)} + \\sin{\\left(\\theta_{2} \\right)} \\cos{\\left(\\theta_{1} \\right)}\\right) l_{1} + \\left(\\sin{\\left(\\theta_{1} \\right)} \\cos{\\left(\\theta_{2} \\right)} + \\sin{\\left(\\theta_{2} \\right)} \\cos{\\left(\\theta_{1} \\right)}\\right) l_{2} \\cos{\\left(\\theta_{3} \\right)} + \\left(- \\left(\\sin{\\left(\\theta_{1} \\right)} \\cos{\\left(\\theta_{2} \\right)} + \\sin{\\left(\\theta_{2} \\right)} \\cos{\\left(\\theta_{1} \\right)}\\right) \\sin{\\left(\\theta_{3} \\right)} \\sin{\\left(\\theta_{4} \\right)} + \\left(\\sin{\\left(\\theta_{1} \\right)} \\cos{\\left(\\theta_{2} \\right)} + \\sin{\\left(\\theta_{2} \\right)} \\cos{\\left(\\theta_{1} \\right)}\\right) \\cos{\\left(\\theta_{3} \\right)} \\cos{\\left(\\theta_{4} \\right)}\\right) l_{3}\\\\\\left(\\left(- \\sin{\\left(\\theta_{3} \\right)} \\sin{\\left(\\theta_{4} \\right)} + \\cos{\\left(\\theta_{3} \\right)} \\cos{\\left(\\theta_{4} \\right)}\\right) \\sin{\\left(\\theta_{5} \\right)} + \\left(\\sin{\\left(\\theta_{3} \\right)} \\cos{\\left(\\theta_{4} \\right)} + \\sin{\\left(\\theta_{4} \\right)} \\cos{\\left(\\theta_{3} \\right)}\\right) \\cos{\\left(\\theta_{5} \\right)}\\right) \\cos{\\left(\\theta_{6} \\right)} & \\left(- \\sin{\\left(\\theta_{3} \\right)} \\sin{\\left(\\theta_{4} \\right)} + \\cos{\\left(\\theta_{3} \\right)} \\cos{\\left(\\theta_{4} \\right)}\\right) \\cos{\\left(\\theta_{5} \\right)} - \\left(\\sin{\\left(\\theta_{3} \\right)} \\cos{\\left(\\theta_{4} \\right)} + \\sin{\\left(\\theta_{4} \\right)} \\cos{\\left(\\theta_{3} \\right)}\\right) \\sin{\\left(\\theta_{5} \\right)} & \\left(\\left(- \\sin{\\left(\\theta_{3} \\right)} \\sin{\\left(\\theta_{4} \\right)} + \\cos{\\left(\\theta_{3} \\right)} \\cos{\\left(\\theta_{4} \\right)}\\right) \\sin{\\left(\\theta_{5} \\right)} + \\left(\\sin{\\left(\\theta_{3} \\right)} \\cos{\\left(\\theta_{4} \\right)} + \\sin{\\left(\\theta_{4} \\right)} \\cos{\\left(\\theta_{3} \\right)}\\right) \\cos{\\left(\\theta_{5} \\right)}\\right) \\sin{\\left(\\theta_{6} \\right)} & \\left(\\left(- \\sin{\\left(\\theta_{3} \\right)} \\sin{\\left(\\theta_{4} \\right)} + \\cos{\\left(\\theta_{3} \\right)} \\cos{\\left(\\theta_{4} \\right)}\\right) \\sin{\\left(\\theta_{5} \\right)} + \\left(\\sin{\\left(\\theta_{3} \\right)} \\cos{\\left(\\theta_{4} \\right)} + \\sin{\\left(\\theta_{4} \\right)} \\cos{\\left(\\theta_{3} \\right)}\\right) \\cos{\\left(\\theta_{5} \\right)}\\right) l_{4} + \\left(\\sin{\\left(\\theta_{3} \\right)} \\cos{\\left(\\theta_{4} \\right)} + \\sin{\\left(\\theta_{4} \\right)} \\cos{\\left(\\theta_{3} \\right)}\\right) l_{3} + h_{1} + l_{2} \\sin{\\left(\\theta_{3} \\right)}\\\\0 & 0 & 0 & 1\\end{matrix}\\right]$"
      ],
      "text/plain": [
       "Matrix([\n",
       "[((-(-sin(theta1)*sin(theta2) + cos(theta1)*cos(theta2))*sin(theta3)*sin(theta4) + (-sin(theta1)*sin(theta2) + cos(theta1)*cos(theta2))*cos(theta3)*cos(theta4))*cos(theta5) + (-(-sin(theta1)*sin(theta2) + cos(theta1)*cos(theta2))*sin(theta3)*cos(theta4) - (-sin(theta1)*sin(theta2) + cos(theta1)*cos(theta2))*sin(theta4)*cos(theta3))*sin(theta5))*cos(theta6) - (sin(theta1)*cos(theta2) + sin(theta2)*cos(theta1))*sin(theta6), -(-(-sin(theta1)*sin(theta2) + cos(theta1)*cos(theta2))*sin(theta3)*sin(theta4) + (-sin(theta1)*sin(theta2) + cos(theta1)*cos(theta2))*cos(theta3)*cos(theta4))*sin(theta5) + (-(-sin(theta1)*sin(theta2) + cos(theta1)*cos(theta2))*sin(theta3)*cos(theta4) - (-sin(theta1)*sin(theta2) + cos(theta1)*cos(theta2))*sin(theta4)*cos(theta3))*cos(theta5), ((-(-sin(theta1)*sin(theta2) + cos(theta1)*cos(theta2))*sin(theta3)*sin(theta4) + (-sin(theta1)*sin(theta2) + cos(theta1)*cos(theta2))*cos(theta3)*cos(theta4))*cos(theta5) + (-(-sin(theta1)*sin(theta2) + cos(theta1)*cos(theta2))*sin(theta3)*cos(theta4) - (-sin(theta1)*sin(theta2) + cos(theta1)*cos(theta2))*sin(theta4)*cos(theta3))*sin(theta5))*sin(theta6) + (sin(theta1)*cos(theta2) + sin(theta2)*cos(theta1))*cos(theta6), ((-(-sin(theta1)*sin(theta2) + cos(theta1)*cos(theta2))*sin(theta3)*sin(theta4) + (-sin(theta1)*sin(theta2) + cos(theta1)*cos(theta2))*cos(theta3)*cos(theta4))*cos(theta5) + (-(-sin(theta1)*sin(theta2) + cos(theta1)*cos(theta2))*sin(theta3)*cos(theta4) - (-sin(theta1)*sin(theta2) + cos(theta1)*cos(theta2))*sin(theta4)*cos(theta3))*sin(theta5))*l4 + (-sin(theta1)*sin(theta2) + cos(theta1)*cos(theta2))*l1 + (-sin(theta1)*sin(theta2) + cos(theta1)*cos(theta2))*l2*cos(theta3) + (-(-sin(theta1)*sin(theta2) + cos(theta1)*cos(theta2))*sin(theta3)*sin(theta4) + (-sin(theta1)*sin(theta2) + cos(theta1)*cos(theta2))*cos(theta3)*cos(theta4))*l3],\n",
       "[    ((-(sin(theta1)*cos(theta2) + sin(theta2)*cos(theta1))*sin(theta3)*sin(theta4) + (sin(theta1)*cos(theta2) + sin(theta2)*cos(theta1))*cos(theta3)*cos(theta4))*cos(theta5) + (-(sin(theta1)*cos(theta2) + sin(theta2)*cos(theta1))*sin(theta3)*cos(theta4) - (sin(theta1)*cos(theta2) + sin(theta2)*cos(theta1))*sin(theta4)*cos(theta3))*sin(theta5))*cos(theta6) - (sin(theta1)*sin(theta2) - cos(theta1)*cos(theta2))*sin(theta6),     -(-(sin(theta1)*cos(theta2) + sin(theta2)*cos(theta1))*sin(theta3)*sin(theta4) + (sin(theta1)*cos(theta2) + sin(theta2)*cos(theta1))*cos(theta3)*cos(theta4))*sin(theta5) + (-(sin(theta1)*cos(theta2) + sin(theta2)*cos(theta1))*sin(theta3)*cos(theta4) - (sin(theta1)*cos(theta2) + sin(theta2)*cos(theta1))*sin(theta4)*cos(theta3))*cos(theta5),     ((-(sin(theta1)*cos(theta2) + sin(theta2)*cos(theta1))*sin(theta3)*sin(theta4) + (sin(theta1)*cos(theta2) + sin(theta2)*cos(theta1))*cos(theta3)*cos(theta4))*cos(theta5) + (-(sin(theta1)*cos(theta2) + sin(theta2)*cos(theta1))*sin(theta3)*cos(theta4) - (sin(theta1)*cos(theta2) + sin(theta2)*cos(theta1))*sin(theta4)*cos(theta3))*sin(theta5))*sin(theta6) + (sin(theta1)*sin(theta2) - cos(theta1)*cos(theta2))*cos(theta6),         ((-(sin(theta1)*cos(theta2) + sin(theta2)*cos(theta1))*sin(theta3)*sin(theta4) + (sin(theta1)*cos(theta2) + sin(theta2)*cos(theta1))*cos(theta3)*cos(theta4))*cos(theta5) + (-(sin(theta1)*cos(theta2) + sin(theta2)*cos(theta1))*sin(theta3)*cos(theta4) - (sin(theta1)*cos(theta2) + sin(theta2)*cos(theta1))*sin(theta4)*cos(theta3))*sin(theta5))*l4 + (sin(theta1)*cos(theta2) + sin(theta2)*cos(theta1))*l1 + (sin(theta1)*cos(theta2) + sin(theta2)*cos(theta1))*l2*cos(theta3) + (-(sin(theta1)*cos(theta2) + sin(theta2)*cos(theta1))*sin(theta3)*sin(theta4) + (sin(theta1)*cos(theta2) + sin(theta2)*cos(theta1))*cos(theta3)*cos(theta4))*l3],\n",
       "[                                                                                                                                                                                                                                                                                       ((-sin(theta3)*sin(theta4) + cos(theta3)*cos(theta4))*sin(theta5) + (sin(theta3)*cos(theta4) + sin(theta4)*cos(theta3))*cos(theta5))*cos(theta6),                                                                                                                                                                                                                       (-sin(theta3)*sin(theta4) + cos(theta3)*cos(theta4))*cos(theta5) - (sin(theta3)*cos(theta4) + sin(theta4)*cos(theta3))*sin(theta5),                                                                                                                                                                                                                                                                                        ((-sin(theta3)*sin(theta4) + cos(theta3)*cos(theta4))*sin(theta5) + (sin(theta3)*cos(theta4) + sin(theta4)*cos(theta3))*cos(theta5))*sin(theta6),                                                                                                                                                                                                                                                                                                                                                                                                                                           ((-sin(theta3)*sin(theta4) + cos(theta3)*cos(theta4))*sin(theta5) + (sin(theta3)*cos(theta4) + sin(theta4)*cos(theta3))*cos(theta5))*l4 + (sin(theta3)*cos(theta4) + sin(theta4)*cos(theta3))*l3 + h1 + l2*sin(theta3)],\n",
       "[                                                                                                                                                                                                                                                                                                                                                                                                                                      0,                                                                                                                                                                                                                                                                                                                                                        0,                                                                                                                                                                                                                                                                                                                                                                                                                                       0,                                                                                                                                                                                                                                                                                                                                                                                                                                                                                                                                                                                                                                                                1]])"
      ]
     },
     "execution_count": 78,
     "metadata": {},
     "output_type": "execute_result"
    }
   ],
   "source": [
    "T_B_E = (T0_1 * T1_2 * T2_3 * T3_4 * T4_5 * T5_6 * T6_E)\n",
    "#T02 = T02.subs({ theta1:sym.pi/2, theta2: sym.pi/3,  l1:0.5, h1:0.5, h2:0.5, h3:0.5,})\n",
    "T_B_E"
   ]
  },
  {
   "cell_type": "markdown",
   "id": "37654298-b150-4660-b7ee-57253b6ca949",
   "metadata": {},
   "source": [
    "##### Simplify the final transformation matrix"
   ]
  },
  {
   "cell_type": "code",
   "execution_count": 91,
   "id": "afd91f9d-34c3-4c86-a9c1-dcb6f6fa0871",
   "metadata": {},
   "outputs": [],
   "source": [
    "T_B_E_simplify= sym.Matrix([[T_B_E[0,0].simplify(), T_B_E[0,1].simplify(),T_B_E[0,2].simplify(), sym.trigsimp(T_B_E[0,3].simplify())],\n",
    "                 [T_B_E[1,0].simplify(), T_B_E[1,1].simplify(), T_B_E[1,2].simplify(), sym.trigsimp(T_B_E[1,3].simplify())],\n",
    "                 [T_B_E[2,0].simplify(), T_B_E[2,1].simplify(), T_B_E[2,2].simplify(), sym.trigsimp(T_B_E[2,3].simplify())],\n",
    "                 [T_B_E[3,0].simplify(), T_B_E[3,1].simplify(), T_B_E[3,2].simplify(), sym.trigsimp(T_B_E[3,3].simplify())]])\n",
    "\n",
    "\n",
    "#T_B_E_simplify = T_B_E_simplify.subs({ theta1:0, theta2:sym.pi/4, theta3:sym.pi/3, theta4:-sym.pi/2,theta5:-sym.pi/3, theta6:sym.pi/6,  l1:0.5, l2:0.4, l3:0.3, l4:0.2, h1:0.5,})\n",
    "#T_B_E_simplify = T_B_E_simplify.subs({ theta1:-sym.pi/3, theta2:0, theta3:sym.pi/2, theta4:0,theta5:-4*sym.pi/3, theta6:0,  l1:0.5, l2:0.4, l3:0.3, l4:0.2, h1:0.5,})\n",
    "#T_B_E_simplify = T_B_E_simplify.subs({ theta1:-sym.pi/2, theta2:-sym.pi/6, theta3:sym.pi/4, theta4:-sym.pi/4,theta5:sym.pi/2, theta6:-sym.pi/3,  l1:0.5, l2:0.4, l3:0.3, l4:0.2, h1:0.5,})"
   ]
  },
  {
   "cell_type": "code",
   "execution_count": 92,
   "id": "e7303787-f3a5-492c-8144-9eb0be548516",
   "metadata": {},
   "outputs": [
    {
     "data": {
      "text/latex": [
       "$\\displaystyle \\left[\\begin{matrix}- \\sin{\\left(\\theta_{1} + \\theta_{2} \\right)} \\sin{\\left(\\theta_{6} \\right)} + \\cos{\\left(\\theta_{1} + \\theta_{2} \\right)} \\cos{\\left(\\theta_{3} + \\theta_{4} + \\theta_{5} \\right)} \\cos{\\left(\\theta_{6} \\right)} & - \\sin{\\left(\\theta_{3} + \\theta_{4} + \\theta_{5} \\right)} \\cos{\\left(\\theta_{1} + \\theta_{2} \\right)} & \\sin{\\left(\\theta_{1} + \\theta_{2} \\right)} \\cos{\\left(\\theta_{6} \\right)} + \\sin{\\left(\\theta_{6} \\right)} \\cos{\\left(\\theta_{1} + \\theta_{2} \\right)} \\cos{\\left(\\theta_{3} + \\theta_{4} + \\theta_{5} \\right)} & \\left(l_{1} + l_{2} \\cos{\\left(\\theta_{3} \\right)} + l_{3} \\cos{\\left(\\theta_{3} + \\theta_{4} \\right)} + l_{4} \\cos{\\left(\\theta_{3} + \\theta_{4} + \\theta_{5} \\right)}\\right) \\cos{\\left(\\theta_{1} + \\theta_{2} \\right)}\\\\\\sin{\\left(\\theta_{1} + \\theta_{2} \\right)} \\cos{\\left(\\theta_{3} + \\theta_{4} + \\theta_{5} \\right)} \\cos{\\left(\\theta_{6} \\right)} + \\sin{\\left(\\theta_{6} \\right)} \\cos{\\left(\\theta_{1} + \\theta_{2} \\right)} & - \\sin{\\left(\\theta_{1} + \\theta_{2} \\right)} \\sin{\\left(\\theta_{3} + \\theta_{4} + \\theta_{5} \\right)} & \\sin{\\left(\\theta_{1} + \\theta_{2} \\right)} \\sin{\\left(\\theta_{6} \\right)} \\cos{\\left(\\theta_{3} + \\theta_{4} + \\theta_{5} \\right)} - \\cos{\\left(\\theta_{1} + \\theta_{2} \\right)} \\cos{\\left(\\theta_{6} \\right)} & \\left(l_{1} + l_{2} \\cos{\\left(\\theta_{3} \\right)} + l_{3} \\cos{\\left(\\theta_{3} + \\theta_{4} \\right)} + l_{4} \\cos{\\left(\\theta_{3} + \\theta_{4} + \\theta_{5} \\right)}\\right) \\sin{\\left(\\theta_{1} + \\theta_{2} \\right)}\\\\\\sin{\\left(\\theta_{3} + \\theta_{4} + \\theta_{5} \\right)} \\cos{\\left(\\theta_{6} \\right)} & \\cos{\\left(\\theta_{3} + \\theta_{4} + \\theta_{5} \\right)} & \\sin{\\left(\\theta_{3} + \\theta_{4} + \\theta_{5} \\right)} \\sin{\\left(\\theta_{6} \\right)} & h_{1} + l_{2} \\sin{\\left(\\theta_{3} \\right)} + l_{3} \\sin{\\left(\\theta_{3} + \\theta_{4} \\right)} + l_{4} \\sin{\\left(\\theta_{3} + \\theta_{4} + \\theta_{5} \\right)}\\\\0 & 0 & 0 & 1\\end{matrix}\\right]$"
      ],
      "text/plain": [
       "Matrix([\n",
       "[-sin(theta1 + theta2)*sin(theta6) + cos(theta1 + theta2)*cos(theta3 + theta4 + theta5)*cos(theta6), -sin(theta3 + theta4 + theta5)*cos(theta1 + theta2), sin(theta1 + theta2)*cos(theta6) + sin(theta6)*cos(theta1 + theta2)*cos(theta3 + theta4 + theta5), (l1 + l2*cos(theta3) + l3*cos(theta3 + theta4) + l4*cos(theta3 + theta4 + theta5))*cos(theta1 + theta2)],\n",
       "[ sin(theta1 + theta2)*cos(theta3 + theta4 + theta5)*cos(theta6) + sin(theta6)*cos(theta1 + theta2), -sin(theta1 + theta2)*sin(theta3 + theta4 + theta5), sin(theta1 + theta2)*sin(theta6)*cos(theta3 + theta4 + theta5) - cos(theta1 + theta2)*cos(theta6), (l1 + l2*cos(theta3) + l3*cos(theta3 + theta4) + l4*cos(theta3 + theta4 + theta5))*sin(theta1 + theta2)],\n",
       "[                                                         sin(theta3 + theta4 + theta5)*cos(theta6),                       cos(theta3 + theta4 + theta5),                                                         sin(theta3 + theta4 + theta5)*sin(theta6),                        h1 + l2*sin(theta3) + l3*sin(theta3 + theta4) + l4*sin(theta3 + theta4 + theta5)],\n",
       "[                                                                                                 0,                                                   0,                                                                                                 0,                                                                                                       1]])"
      ]
     },
     "execution_count": 92,
     "metadata": {},
     "output_type": "execute_result"
    }
   ],
   "source": [
    "T_B_E_simplify"
   ]
  },
  {
   "cell_type": "markdown",
   "id": "64192f85-b8a9-4292-9293-c9f7e7a33547",
   "metadata": {},
   "source": [
    "## Finding the Jacobian matrix"
   ]
  },
  {
   "cell_type": "code",
   "execution_count": null,
   "id": "ef708492-d19f-49b0-b412-382da907948b",
   "metadata": {},
   "outputs": [],
   "source": []
  },
  {
   "cell_type": "code",
   "execution_count": 16,
   "id": "7cc488bb-2522-426a-84b3-eebd8bea3119",
   "metadata": {},
   "outputs": [
    {
     "data": {
      "text/latex": [
       "$\\displaystyle \\left[\\begin{matrix}- \\left(l_{1} + l_{2} \\cos{\\left(\\theta_{3} \\right)} + l_{3} \\cos{\\left(\\theta_{3} + \\theta_{4} \\right)} + l_{4} \\cos{\\left(\\theta_{3} + \\theta_{4} + \\theta_{5} \\right)}\\right) \\sin{\\left(\\theta_{1} + \\theta_{2} \\right)} & - \\left(l_{1} + l_{2} \\cos{\\left(\\theta_{3} \\right)} + l_{3} \\cos{\\left(\\theta_{3} + \\theta_{4} \\right)} + l_{4} \\cos{\\left(\\theta_{3} + \\theta_{4} + \\theta_{5} \\right)}\\right) \\sin{\\left(\\theta_{1} + \\theta_{2} \\right)} & \\left(- l_{2} \\sin{\\left(\\theta_{3} \\right)} - l_{3} \\sin{\\left(\\theta_{3} + \\theta_{4} \\right)} - l_{4} \\sin{\\left(\\theta_{3} + \\theta_{4} + \\theta_{5} \\right)}\\right) \\cos{\\left(\\theta_{1} + \\theta_{2} \\right)} & \\left(- l_{3} \\sin{\\left(\\theta_{3} + \\theta_{4} \\right)} - l_{4} \\sin{\\left(\\theta_{3} + \\theta_{4} + \\theta_{5} \\right)}\\right) \\cos{\\left(\\theta_{1} + \\theta_{2} \\right)} & - l_{4} \\sin{\\left(\\theta_{3} + \\theta_{4} + \\theta_{5} \\right)} \\cos{\\left(\\theta_{1} + \\theta_{2} \\right)} & 0\\\\\\left(l_{1} + l_{2} \\cos{\\left(\\theta_{3} \\right)} + l_{3} \\cos{\\left(\\theta_{3} + \\theta_{4} \\right)} + l_{4} \\cos{\\left(\\theta_{3} + \\theta_{4} + \\theta_{5} \\right)}\\right) \\cos{\\left(\\theta_{1} + \\theta_{2} \\right)} & \\left(l_{1} + l_{2} \\cos{\\left(\\theta_{3} \\right)} + l_{3} \\cos{\\left(\\theta_{3} + \\theta_{4} \\right)} + l_{4} \\cos{\\left(\\theta_{3} + \\theta_{4} + \\theta_{5} \\right)}\\right) \\cos{\\left(\\theta_{1} + \\theta_{2} \\right)} & \\left(- l_{2} \\sin{\\left(\\theta_{3} \\right)} - l_{3} \\sin{\\left(\\theta_{3} + \\theta_{4} \\right)} - l_{4} \\sin{\\left(\\theta_{3} + \\theta_{4} + \\theta_{5} \\right)}\\right) \\sin{\\left(\\theta_{1} + \\theta_{2} \\right)} & \\left(- l_{3} \\sin{\\left(\\theta_{3} + \\theta_{4} \\right)} - l_{4} \\sin{\\left(\\theta_{3} + \\theta_{4} + \\theta_{5} \\right)}\\right) \\sin{\\left(\\theta_{1} + \\theta_{2} \\right)} & - l_{4} \\sin{\\left(\\theta_{1} + \\theta_{2} \\right)} \\sin{\\left(\\theta_{3} + \\theta_{4} + \\theta_{5} \\right)} & 0\\\\0 & 0 & l_{2} \\cos{\\left(\\theta_{3} \\right)} + l_{3} \\cos{\\left(\\theta_{3} + \\theta_{4} \\right)} + l_{4} \\cos{\\left(\\theta_{3} + \\theta_{4} + \\theta_{5} \\right)} & l_{3} \\cos{\\left(\\theta_{3} + \\theta_{4} \\right)} + l_{4} \\cos{\\left(\\theta_{3} + \\theta_{4} + \\theta_{5} \\right)} & l_{4} \\cos{\\left(\\theta_{3} + \\theta_{4} + \\theta_{5} \\right)} & 0\\end{matrix}\\right]$"
      ],
      "text/plain": [
       "Matrix([\n",
       "[-(l1 + l2*cos(theta3) + l3*cos(theta3 + theta4) + l4*cos(theta3 + theta4 + theta5))*sin(theta1 + theta2), -(l1 + l2*cos(theta3) + l3*cos(theta3 + theta4) + l4*cos(theta3 + theta4 + theta5))*sin(theta1 + theta2), (-l2*sin(theta3) - l3*sin(theta3 + theta4) - l4*sin(theta3 + theta4 + theta5))*cos(theta1 + theta2), (-l3*sin(theta3 + theta4) - l4*sin(theta3 + theta4 + theta5))*cos(theta1 + theta2), -l4*sin(theta3 + theta4 + theta5)*cos(theta1 + theta2), 0],\n",
       "[ (l1 + l2*cos(theta3) + l3*cos(theta3 + theta4) + l4*cos(theta3 + theta4 + theta5))*cos(theta1 + theta2),  (l1 + l2*cos(theta3) + l3*cos(theta3 + theta4) + l4*cos(theta3 + theta4 + theta5))*cos(theta1 + theta2), (-l2*sin(theta3) - l3*sin(theta3 + theta4) - l4*sin(theta3 + theta4 + theta5))*sin(theta1 + theta2), (-l3*sin(theta3 + theta4) - l4*sin(theta3 + theta4 + theta5))*sin(theta1 + theta2), -l4*sin(theta1 + theta2)*sin(theta3 + theta4 + theta5), 0],\n",
       "[                                                                                                       0,                                                                                                        0,                         l2*cos(theta3) + l3*cos(theta3 + theta4) + l4*cos(theta3 + theta4 + theta5),                         l3*cos(theta3 + theta4) + l4*cos(theta3 + theta4 + theta5),                       l4*cos(theta3 + theta4 + theta5), 0]])"
      ]
     },
     "execution_count": 16,
     "metadata": {},
     "output_type": "execute_result"
    }
   ],
   "source": [
    "T_B_E_Position = T_B_E_simplify[:3,3]\n",
    "# Define the Jacobian matrix\n",
    "J = sym.Matrix([[sym.diff(T_B_E_Position[0], theta1), sym.diff(T_B_E_Position[0], theta2), sym.diff(T_B_E_Position[0], theta3), sym.diff(T_B_E_Position[0], theta4),sym.diff(T_B_E_Position[0],theta5), sym.diff(T_B_E_Position[0],theta6)],\n",
    "[sym.diff(T_B_E_Position[1], theta1), sym.diff(T_B_E_Position[1], theta2), sym.diff(T_B_E_Position[1], theta3), sym.diff(T_B_E_Position[1], theta4), sym.diff(T_B_E_Position[1], theta5), sym.diff(T_B_E_Position[1], theta6)],\n",
    "[sym.diff(T_B_E_Position[2], theta1), sym.diff(T_B_E_Position[2], theta2), sym.diff(T_B_E_Position[2], theta3), sym.diff(T_B_E_Position[2], theta4), sym.diff(T_B_E_Position[2], theta5), sym.diff(T_B_E_Position[2], theta6)]])\n",
    "J"
   ]
  },
  {
   "cell_type": "code",
   "execution_count": 17,
   "id": "d8a93337-ba7d-4e21-ba12-2ce5aa1b6121",
   "metadata": {},
   "outputs": [
    {
     "data": {
      "text/latex": [
       "$\\displaystyle \\left[\\begin{matrix}\\cos{\\left(\\theta_{1} + \\theta_{2} \\right)} \\cos{\\left(\\theta_{3} \\right)} & - \\sin{\\left(\\theta_{3} \\right)} \\cos{\\left(\\theta_{1} + \\theta_{2} \\right)} & \\sin{\\left(\\theta_{1} + \\theta_{2} \\right)} & l_{1} \\cos{\\left(\\theta_{1} + \\theta_{2} \\right)}\\\\\\sin{\\left(\\theta_{1} + \\theta_{2} \\right)} \\cos{\\left(\\theta_{3} \\right)} & - \\sin{\\left(\\theta_{1} + \\theta_{2} \\right)} \\sin{\\left(\\theta_{3} \\right)} & - \\cos{\\left(\\theta_{1} + \\theta_{2} \\right)} & l_{1} \\sin{\\left(\\theta_{1} + \\theta_{2} \\right)}\\\\\\sin{\\left(\\theta_{3} \\right)} & \\cos{\\left(\\theta_{3} \\right)} & 0 & h_{1}\\\\0 & 0 & 0 & 1\\end{matrix}\\right]$"
      ],
      "text/plain": [
       "Matrix([\n",
       "[cos(theta1 + theta2)*cos(theta3), -sin(theta3)*cos(theta1 + theta2),  sin(theta1 + theta2), l1*cos(theta1 + theta2)],\n",
       "[sin(theta1 + theta2)*cos(theta3), -sin(theta1 + theta2)*sin(theta3), -cos(theta1 + theta2), l1*sin(theta1 + theta2)],\n",
       "[                     sin(theta3),                       cos(theta3),                     0,                      h1],\n",
       "[                               0,                                 0,                     0,                       1]])"
      ]
     },
     "execution_count": 17,
     "metadata": {},
     "output_type": "execute_result"
    }
   ],
   "source": [
    "T0_2 = T0_1 * T1_2\n",
    "T_0_2_simplify= sym.Matrix([[T0_2[0,0].simplify(), T0_2[0,1].simplify(),T0_2[0,2].simplify(), sym.trigsimp(T0_2[0,3].simplify())],\n",
    "                 [T0_2[1,0].simplify(), T0_2[1,1].simplify(), T0_2[1,2].simplify(), sym.trigsimp(T0_2[1,3].simplify())],\n",
    "                 [T0_2[2,0].simplify(), T0_2[2,1].simplify(), T0_2[2,2].simplify(), sym.trigsimp(T0_2[2,3].simplify())],\n",
    "                 [T0_2[3,0].simplify(), T0_2[3,1].simplify(), T0_2[3,2].simplify(), sym.trigsimp(T0_2[3,3].simplify())]])\n",
    "\n",
    "\n",
    "T0_3 = T0_1 * T1_2 * T2_3\n",
    "T_0_3_simplify= sym.Matrix([[T0_3[0,0].simplify(), T0_3[0,1].simplify(),T0_3[0,2].simplify(), sym.trigsimp(T0_3[0,3].simplify())],\n",
    "                 [T0_3[1,0].simplify(), T0_3[1,1].simplify(), T0_3[1,2].simplify(), sym.trigsimp(T0_3[1,3].simplify())],\n",
    "                 [T0_3[2,0].simplify(), T0_3[2,1].simplify(), T0_3[2,2].simplify(), sym.trigsimp(T0_3[2,3].simplify())],\n",
    "                 [T0_3[3,0].simplify(), T0_3[3,1].simplify(), T0_3[3,2].simplify(), sym.trigsimp(T0_3[3,3].simplify())]])\n",
    "\n",
    "T0_4 = T0_1 * T1_2 * T2_3 *T3_4\n",
    "T_0_4_simplify= sym.Matrix([[T0_4[0,0].simplify(), T0_4[0,1].simplify(),T0_4[0,2].simplify(), sym.trigsimp(T0_4[0,3].simplify())],\n",
    "                 [T0_4[1,0].simplify(), T0_4[1,1].simplify(), T0_4[1,2].simplify(), sym.trigsimp(T0_4[1,3].simplify())],\n",
    "                 [T0_4[2,0].simplify(), T0_4[2,1].simplify(), T0_4[2,2].simplify(), sym.trigsimp(T0_4[2,3].simplify())],\n",
    "                 [T0_4[3,0].simplify(), T0_4[3,1].simplify(), T0_4[3,2].simplify(), sym.trigsimp(T0_4[3,3].simplify())]])\n",
    "\n",
    "T0_5 = T0_1 * T1_2 * T2_3 * T3_4 * T4_5\n",
    "T_0_5_simplify= sym.Matrix([[T0_5[0,0].simplify(), T0_5[0,1].simplify(),T0_5[0,2].simplify(), sym.trigsimp(T0_5[0,3].simplify())],\n",
    "                 [T0_5[1,0].simplify(), T0_5[1,1].simplify(), T0_5[1,2].simplify(), sym.trigsimp(T0_5[1,3].simplify())],\n",
    "                 [T0_5[2,0].simplify(), T0_5[2,1].simplify(), T0_5[2,2].simplify(), sym.trigsimp(T0_5[2,3].simplify())],\n",
    "                 [T0_5[3,0].simplify(), T0_5[3,1].simplify(), T0_5[3,2].simplify(), sym.trigsimp(T0_5[3,3].simplify())]])\n",
    "\n",
    "T0_6 = T0_1 * T1_2 * T2_3 * T3_4 * T4_5 * T5_6\n",
    "T_0_6_simplify= sym.Matrix([[T0_6[0,0].simplify(), T0_6[0,1].simplify(),T0_6[0,2].simplify(), sym.trigsimp(T0_6[0,3].simplify())],\n",
    "                 [T0_6[1,0].simplify(), T0_6[1,1].simplify(), T0_6[1,2].simplify(), sym.trigsimp(T0_6[1,3].simplify())],\n",
    "                 [T0_6[2,0].simplify(), T0_6[2,1].simplify(), T0_6[2,2].simplify(), sym.trigsimp(T0_6[2,3].simplify())],\n",
    "                 [T0_6[3,0].simplify(), T0_6[3,1].simplify(), T0_6[3,2].simplify(), sym.trigsimp(T0_6[3,3].simplify())]])\n",
    "\n",
    "T_0_3_simplify"
   ]
  },
  {
   "cell_type": "code",
   "execution_count": 18,
   "id": "a6861199-9266-485f-a9fd-8aa4bafd7bda",
   "metadata": {},
   "outputs": [
    {
     "data": {
      "text/latex": [
       "$\\displaystyle \\left[\\begin{matrix}- \\sin{\\left(\\theta_{1} + \\theta_{2} \\right)} \\sin{\\left(\\theta_{6} \\right)} + \\cos{\\left(\\theta_{1} + \\theta_{2} \\right)} \\cos{\\left(\\theta_{3} + \\theta_{4} + \\theta_{5} \\right)} \\cos{\\left(\\theta_{6} \\right)} & - \\sin{\\left(\\theta_{1} + \\theta_{2} \\right)} \\cos{\\left(\\theta_{6} \\right)} - \\sin{\\left(\\theta_{6} \\right)} \\cos{\\left(\\theta_{1} + \\theta_{2} \\right)} \\cos{\\left(\\theta_{3} + \\theta_{4} + \\theta_{5} \\right)} & - \\sin{\\left(\\theta_{3} + \\theta_{4} + \\theta_{5} \\right)} \\cos{\\left(\\theta_{1} + \\theta_{2} \\right)} & \\left(l_{1} + l_{2} \\cos{\\left(\\theta_{3} \\right)} + l_{3} \\cos{\\left(\\theta_{3} + \\theta_{4} \\right)} + l_{4} \\cos{\\left(\\theta_{3} + \\theta_{4} + \\theta_{5} \\right)}\\right) \\cos{\\left(\\theta_{1} + \\theta_{2} \\right)}\\\\\\sin{\\left(\\theta_{1} + \\theta_{2} \\right)} \\cos{\\left(\\theta_{3} + \\theta_{4} + \\theta_{5} \\right)} \\cos{\\left(\\theta_{6} \\right)} + \\sin{\\left(\\theta_{6} \\right)} \\cos{\\left(\\theta_{1} + \\theta_{2} \\right)} & - \\sin{\\left(\\theta_{1} + \\theta_{2} \\right)} \\sin{\\left(\\theta_{6} \\right)} \\cos{\\left(\\theta_{3} + \\theta_{4} + \\theta_{5} \\right)} + \\cos{\\left(\\theta_{1} + \\theta_{2} \\right)} \\cos{\\left(\\theta_{6} \\right)} & - \\sin{\\left(\\theta_{1} + \\theta_{2} \\right)} \\sin{\\left(\\theta_{3} + \\theta_{4} + \\theta_{5} \\right)} & \\left(l_{1} + l_{2} \\cos{\\left(\\theta_{3} \\right)} + l_{3} \\cos{\\left(\\theta_{3} + \\theta_{4} \\right)} + l_{4} \\cos{\\left(\\theta_{3} + \\theta_{4} + \\theta_{5} \\right)}\\right) \\sin{\\left(\\theta_{1} + \\theta_{2} \\right)}\\\\\\sin{\\left(\\theta_{3} + \\theta_{4} + \\theta_{5} \\right)} \\cos{\\left(\\theta_{6} \\right)} & - \\sin{\\left(\\theta_{3} + \\theta_{4} + \\theta_{5} \\right)} \\sin{\\left(\\theta_{6} \\right)} & \\cos{\\left(\\theta_{3} + \\theta_{4} + \\theta_{5} \\right)} & h_{1} + l_{2} \\sin{\\left(\\theta_{3} \\right)} + l_{3} \\sin{\\left(\\theta_{3} + \\theta_{4} \\right)} + l_{4} \\sin{\\left(\\theta_{3} + \\theta_{4} + \\theta_{5} \\right)}\\\\0 & 0 & 0 & 1\\end{matrix}\\right]$"
      ],
      "text/plain": [
       "Matrix([\n",
       "[-sin(theta1 + theta2)*sin(theta6) + cos(theta1 + theta2)*cos(theta3 + theta4 + theta5)*cos(theta6), -sin(theta1 + theta2)*cos(theta6) - sin(theta6)*cos(theta1 + theta2)*cos(theta3 + theta4 + theta5), -sin(theta3 + theta4 + theta5)*cos(theta1 + theta2), (l1 + l2*cos(theta3) + l3*cos(theta3 + theta4) + l4*cos(theta3 + theta4 + theta5))*cos(theta1 + theta2)],\n",
       "[ sin(theta1 + theta2)*cos(theta3 + theta4 + theta5)*cos(theta6) + sin(theta6)*cos(theta1 + theta2), -sin(theta1 + theta2)*sin(theta6)*cos(theta3 + theta4 + theta5) + cos(theta1 + theta2)*cos(theta6), -sin(theta1 + theta2)*sin(theta3 + theta4 + theta5), (l1 + l2*cos(theta3) + l3*cos(theta3 + theta4) + l4*cos(theta3 + theta4 + theta5))*sin(theta1 + theta2)],\n",
       "[                                                         sin(theta3 + theta4 + theta5)*cos(theta6),                                                         -sin(theta3 + theta4 + theta5)*sin(theta6),                       cos(theta3 + theta4 + theta5),                        h1 + l2*sin(theta3) + l3*sin(theta3 + theta4) + l4*sin(theta3 + theta4 + theta5)],\n",
       "[                                                                                                 0,                                                                                                  0,                                                   0,                                                                                                       1]])"
      ]
     },
     "execution_count": 18,
     "metadata": {},
     "output_type": "execute_result"
    }
   ],
   "source": [
    "T_0_6_simplify"
   ]
  },
  {
   "cell_type": "code",
   "execution_count": 19,
   "id": "fecd1cf1-013e-4b53-9587-1a1f62d29fde",
   "metadata": {},
   "outputs": [
    {
     "data": {
      "text/latex": [
       "$\\displaystyle \\left[\\begin{matrix}l_{1} \\cos{\\left(\\theta_{1} + \\theta_{2} \\right)}\\\\l_{1} \\sin{\\left(\\theta_{1} + \\theta_{2} \\right)}\\\\h_{1}\\end{matrix}\\right]$"
      ],
      "text/plain": [
       "Matrix([\n",
       "[l1*cos(theta1 + theta2)],\n",
       "[l1*sin(theta1 + theta2)],\n",
       "[                     h1]])"
      ]
     },
     "execution_count": 19,
     "metadata": {},
     "output_type": "execute_result"
    }
   ],
   "source": [
    "# P is the position vector for each joint taking from the homogenious matrix from each joint \n",
    "P_E = sym.Matrix([[T_B_E_simplify[0,3]],\n",
    "                 [T_B_E_simplify[1,3]],\n",
    "                 [T_B_E_simplify[2,3]]])\n",
    "\n",
    "P0_1 = sym.Matrix([[T0_1[0,3]],\n",
    "                 [T0_1[1,3]],\n",
    "                 [T0_1[2,3]]])\n",
    "\n",
    "P1_2 = sym.Matrix([[T_0_2_simplify[0,3]],\n",
    "                 [T_0_2_simplify[1,3]],\n",
    "                 [T_0_2_simplify[2,3]]])\n",
    "\n",
    "P2_3 = sym.Matrix([[T_0_3_simplify[0,3]],\n",
    "                 [T_0_3_simplify[1,3]],\n",
    "                 [T_0_3_simplify[2,3]]])\n",
    "\n",
    "P3_4 = sym.Matrix([[T_0_4_simplify[0,3]],\n",
    "                 [T_0_4_simplify[1,3]],\n",
    "                 [T_0_4_simplify[2,3]]])\n",
    "\n",
    "P4_5 = sym.Matrix([[T_0_5_simplify[0,3]],\n",
    "                 [T_0_5_simplify[1,3]],\n",
    "                 [T_0_5_simplify[2,3]]])\n",
    "\n",
    "P5_6 = sym.Matrix([[T_0_6_simplify[0,3]],\n",
    "                 [T_0_6_simplify[1,3]],\n",
    "                 [T_0_6_simplify[2,3]]])\n",
    "\n",
    "# Z vector is formed by taking the third column of rotation matrix from each joint \n",
    "Z0_1 = sym.Matrix([[T0_1[0,2]],\n",
    "                 [T0_1[1,2]],\n",
    "                 [T0_1[2,2]]])\n",
    "Z1_2 = sym.Matrix([[T_0_2_simplify[0,2]],\n",
    "                 [T_0_2_simplify[1,2]],\n",
    "                 [T_0_2_simplify[2,2]]])\n",
    "\n",
    "Z2_3 = sym.Matrix([[T_0_3_simplify[0,2]],\n",
    "                 [T_0_3_simplify[1,2]],\n",
    "                 [T_0_3_simplify[2,2]]])\n",
    "\n",
    "Z3_4 = sym.Matrix([[T_0_4_simplify[0,2]],\n",
    "                 [T_0_4_simplify[1,2]],\n",
    "                 [T_0_4_simplify[2,2]]])\n",
    "\n",
    "Z4_5 = sym.Matrix([[T_0_5_simplify[0,2]],\n",
    "                 [T_0_5_simplify[1,2]],\n",
    "                 [T_0_5_simplify[2,2]]])\n",
    "\n",
    "Z5_6 = sym.Matrix([[T_0_6_simplify[0,2]],\n",
    "                 [T_0_6_simplify[1,2]],\n",
    "                 [T_0_6_simplify[2,2]]])\n",
    "\n",
    "P2_3\n"
   ]
  },
  {
   "cell_type": "markdown",
   "id": "724d61ea-9139-4d20-8123-767c51c85a67",
   "metadata": {},
   "source": [
    "#### Find the jacobian for each joint"
   ]
  },
  {
   "cell_type": "code",
   "execution_count": 117,
   "id": "14129b06-396a-4bc5-a7b1-4892bf78b33f",
   "metadata": {},
   "outputs": [],
   "source": [
    "Jv_1_half = sym.Matrix([[J[0,0]],\n",
    "                 [J[1,0]],\n",
    "                 [J[2,0]]])\n",
    "Jv_1 = sym.Matrix.vstack(Jv_1_half, Z0_1)\n",
    "\n",
    "###########################################\n",
    "\n",
    "Jv_2_half = sym.Matrix([[J[0,1]],\n",
    "                 [J[1,1]],\n",
    "                 [J[2,1]]])\n",
    "Jv_2 = sym.Matrix.vstack(Jv_2_half, Z1_2)\n",
    "\n",
    "#########################################\n",
    "\n",
    "Jv_3_half = sym.Matrix([[J[0,2]],\n",
    "                 [J[1,2]],\n",
    "                 [J[2,2]]])\n",
    "Jv_3 = sym.Matrix.vstack(Jv_3_half, Z2_3)\n",
    "\n",
    "#######################################\n",
    "\n",
    "Jv_4_half = sym.Matrix([[J[0,3]],\n",
    "                 [J[1,3]],\n",
    "                 [J[2,3]]])\n",
    "Jv_4 = sym.Matrix.vstack(Jv_4_half, Z3_4)\n",
    "\n",
    "#######################################\n",
    "\n",
    "Jv_5_half = sym.Matrix([[J[0,4]],\n",
    "                 [J[1,4]],\n",
    "                 [J[2,4]]])\n",
    "Jv_5 = sym.Matrix.vstack(Jv_5_half, Z4_5)\n",
    "\n",
    "#######################################\n",
    "\n",
    "Jv_6_half = sym.Matrix([[J[0,5]],\n",
    "                 [J[1,5]],\n",
    "                 [J[2,5]]])\n",
    "Jv_6 = sym.Matrix.vstack(Jv_6_half, Z5_6)\n",
    "\n",
    "\n",
    "\n",
    "Jv_1 = Jv_1.subs({ theta1:0, theta2:sym.pi/4, theta3:sym.pi/3, theta4:-sym.pi/2,theta5:-sym.pi/3, theta6:sym.pi/6,  l1:0.5, l2:0.4, l3:0.3, l4:0.2, h1:0.5,})\n",
    "Jv_2 = Jv_2.subs({ theta1:0, theta2:sym.pi/4, theta3:sym.pi/3, theta4:-sym.pi/2,theta5:-sym.pi/3, theta6:sym.pi/6,  l1:0.5, l2:0.4, l3:0.3, l4:0.2, h1:0.5,})\n",
    "Jv_3 = Jv_3.subs({ theta1:0, theta2:sym.pi/4, theta3:sym.pi/3, theta4:-sym.pi/2,theta5:-sym.pi/3, theta6:sym.pi/6,  l1:0.5, l2:0.4, l3:0.3, l4:0.2, h1:0.5,})\n",
    "Jv_4 = Jv_4.subs({ theta1:0, theta2:sym.pi/4, theta3:sym.pi/3, theta4:-sym.pi/2,theta5:-sym.pi/3, theta6:sym.pi/6,  l1:0.5, l2:0.4, l3:0.3, l4:0.2, h1:0.5,})\n",
    "Jv_5 = Jv_5.subs({ theta1:0, theta2:sym.pi/4, theta3:sym.pi/3, theta4:-sym.pi/2,theta5:-sym.pi/3, theta6:sym.pi/6,  l1:0.5, l2:0.4, l3:0.3, l4:0.2, h1:0.5,})\n",
    "Jv_6 = Jv_6.subs({ theta1:0, theta2:sym.pi/4, theta3:sym.pi/3, theta4:-sym.pi/2,theta5:-sym.pi/3, theta6:sym.pi/6,  l1:0.5, l2:0.4, l3:0.3, l4:0.2, h1:0.5,})"
   ]
  },
  {
   "cell_type": "code",
   "execution_count": 118,
   "id": "e8909d07-4cc0-46a6-bb20-5ed0915c12b2",
   "metadata": {},
   "outputs": [
    {
     "data": {
      "text/latex": [
       "$\\displaystyle \\left[\\begin{matrix}0\\\\0\\\\0\\\\\\frac{\\sqrt{2}}{2}\\\\\\frac{\\sqrt{2}}{2}\\\\0\\end{matrix}\\right]$"
      ],
      "text/plain": [
       "Matrix([\n",
       "[        0],\n",
       "[        0],\n",
       "[        0],\n",
       "[sqrt(2)/2],\n",
       "[sqrt(2)/2],\n",
       "[        0]])"
      ]
     },
     "execution_count": 118,
     "metadata": {},
     "output_type": "execute_result"
    }
   ],
   "source": [
    "Jv_6\n",
    "\n"
   ]
  },
  {
   "cell_type": "code",
   "execution_count": 123,
   "id": "480933d4-1aa4-4d4b-ad93-9f294558c56d",
   "metadata": {},
   "outputs": [
    {
     "data": {
      "text/latex": [
       "$\\displaystyle \\left[\\begin{matrix}- 5 \\sqrt{2} \\cdot \\left(0.15 \\sqrt{3} + 0.7\\right) + 0.15\\\\- 5 \\sqrt{2} \\cdot \\left(0.15 \\sqrt{3} + 0.7\\right) + 0.15\\\\- 0.15 \\sqrt{2} + 25 \\sqrt{2} \\cdot \\left(0.35 - 0.2 \\sqrt{3}\\right) + 10.0 + 7.5 \\sqrt{3}\\\\8.6 \\sqrt{2} + 7.5 \\sqrt{3}\\\\4.85 \\sqrt{2}\\\\0.35 \\sqrt{2}\\end{matrix}\\right]$"
      ],
      "text/plain": [
       "Matrix([\n",
       "[                              -5*sqrt(2)*(0.15*sqrt(3) + 0.7) + 0.15],\n",
       "[                              -5*sqrt(2)*(0.15*sqrt(3) + 0.7) + 0.15],\n",
       "[-0.15*sqrt(2) + 25*sqrt(2)*(0.35 - 0.2*sqrt(3)) + 10.0 + 7.5*sqrt(3)],\n",
       "[                                           8.6*sqrt(2) + 7.5*sqrt(3)],\n",
       "[                                                        4.85*sqrt(2)],\n",
       "[                                                        0.35*sqrt(2)]])"
      ]
     },
     "execution_count": 123,
     "metadata": {},
     "output_type": "execute_result"
    }
   ],
   "source": [
    "#The final jacobian matrix can be formed by stacking each joint jacobian \n",
    "J_final = sym.Matrix.hstack(Jv_1, Jv_2, Jv_3, Jv_4, Jv_5, Jv_6)\n",
    "\n",
    "#The transpose of final jacobian for the force relation\n",
    "\n",
    "J_final_T = J_final.T\n",
    "\n",
    "rand = sym.Matrix([[2],\n",
    "                 [3.2],\n",
    "                 [1.1], [0.75], [2.7], [3]])\n",
    "rand2 = sym.Matrix([[30],\n",
    "                 [20],\n",
    "                 [50], [0.2], [0.5], [0.15]])\n",
    "J_final_T * rand2"
   ]
  },
  {
   "cell_type": "code",
   "execution_count": 122,
   "id": "4632de85-8ec3-44c6-9b61-dc94c1ad303d",
   "metadata": {},
   "outputs": [
    {
     "data": {
      "text/latex": [
       "$\\displaystyle \\left[\\begin{matrix}- \\frac{\\sqrt{2} \\cdot \\left(0.15 \\sqrt{3} + 0.7\\right)}{2} & \\frac{\\sqrt{2} \\cdot \\left(0.15 \\sqrt{3} + 0.7\\right)}{2} & 0 & 0 & 0 & 1\\\\- \\frac{\\sqrt{2} \\cdot \\left(0.15 \\sqrt{3} + 0.7\\right)}{2} & \\frac{\\sqrt{2} \\cdot \\left(0.15 \\sqrt{3} + 0.7\\right)}{2} & 0 & 0 & 0 & 1\\\\\\frac{\\sqrt{2} \\cdot \\left(0.35 - 0.2 \\sqrt{3}\\right)}{2} & \\frac{\\sqrt{2} \\cdot \\left(0.35 - 0.2 \\sqrt{3}\\right)}{2} & 0.2 + 0.15 \\sqrt{3} & \\frac{\\sqrt{2}}{2} & - \\frac{\\sqrt{2}}{2} & 0\\\\0.175 \\sqrt{2} & 0.175 \\sqrt{2} & 0.15 \\sqrt{3} & \\frac{\\sqrt{2}}{2} & - \\frac{\\sqrt{2}}{2} & 0\\\\0.1 \\sqrt{2} & 0.1 \\sqrt{2} & 0 & \\frac{\\sqrt{2}}{2} & - \\frac{\\sqrt{2}}{2} & 0\\\\0 & 0 & 0 & \\frac{\\sqrt{2}}{2} & \\frac{\\sqrt{2}}{2} & 0\\end{matrix}\\right]$"
      ],
      "text/plain": [
       "Matrix([\n",
       "[-sqrt(2)*(0.15*sqrt(3) + 0.7)/2, sqrt(2)*(0.15*sqrt(3) + 0.7)/2,                  0,         0,          0, 1],\n",
       "[-sqrt(2)*(0.15*sqrt(3) + 0.7)/2, sqrt(2)*(0.15*sqrt(3) + 0.7)/2,                  0,         0,          0, 1],\n",
       "[ sqrt(2)*(0.35 - 0.2*sqrt(3))/2, sqrt(2)*(0.35 - 0.2*sqrt(3))/2, 0.2 + 0.15*sqrt(3), sqrt(2)/2, -sqrt(2)/2, 0],\n",
       "[                  0.175*sqrt(2),                  0.175*sqrt(2),       0.15*sqrt(3), sqrt(2)/2, -sqrt(2)/2, 0],\n",
       "[                    0.1*sqrt(2),                    0.1*sqrt(2),                  0, sqrt(2)/2, -sqrt(2)/2, 0],\n",
       "[                              0,                              0,                  0, sqrt(2)/2,  sqrt(2)/2, 0]])"
      ]
     },
     "execution_count": 122,
     "metadata": {},
     "output_type": "execute_result"
    }
   ],
   "source": [
    "J_final_T #check weather the transpose worked or not, すごい "
   ]
  },
  {
   "cell_type": "code",
   "execution_count": 24,
   "id": "aae0cb8a-3b41-4618-a912-cdf0c4f43e73",
   "metadata": {},
   "outputs": [
    {
     "data": {
      "text/latex": [
       "$\\displaystyle \\left[\\begin{matrix}\\left(l_{1} + l_{2} \\cos{\\left(\\theta_{3} \\right)} + l_{3} \\cos{\\left(\\theta_{3} + \\theta_{4} \\right)} + l_{4} \\cos{\\left(\\theta_{3} + \\theta_{4} + \\theta_{5} \\right)}\\right) \\cos{\\left(\\theta_{1} + \\theta_{2} \\right)} - l_{1} \\cos{\\left(\\theta_{1} + \\theta_{2} \\right)}\\\\\\left(l_{1} + l_{2} \\cos{\\left(\\theta_{3} \\right)} + l_{3} \\cos{\\left(\\theta_{3} + \\theta_{4} \\right)} + l_{4} \\cos{\\left(\\theta_{3} + \\theta_{4} + \\theta_{5} \\right)}\\right) \\sin{\\left(\\theta_{1} + \\theta_{2} \\right)} - l_{1} \\sin{\\left(\\theta_{1} + \\theta_{2} \\right)}\\\\l_{2} \\sin{\\left(\\theta_{3} \\right)} + l_{3} \\sin{\\left(\\theta_{3} + \\theta_{4} \\right)} + l_{4} \\sin{\\left(\\theta_{3} + \\theta_{4} + \\theta_{5} \\right)}\\end{matrix}\\right]$"
      ],
      "text/plain": [
       "Matrix([\n",
       "[(l1 + l2*cos(theta3) + l3*cos(theta3 + theta4) + l4*cos(theta3 + theta4 + theta5))*cos(theta1 + theta2) - l1*cos(theta1 + theta2)],\n",
       "[(l1 + l2*cos(theta3) + l3*cos(theta3 + theta4) + l4*cos(theta3 + theta4 + theta5))*sin(theta1 + theta2) - l1*sin(theta1 + theta2)],\n",
       "[                                                      l2*sin(theta3) + l3*sin(theta3 + theta4) + l4*sin(theta3 + theta4 + theta5)]])"
      ]
     },
     "execution_count": 24,
     "metadata": {},
     "output_type": "execute_result"
    }
   ],
   "source": [
    "# Each position vector \n",
    "P1 = P_E - P0_1\n",
    "P2 = P_E - P1_2\n",
    "P3 = P_E - P2_3\n",
    "P4 = P_E - P3_4\n",
    "P5 = P_E - P4_5\n",
    "P6 = P_E - P5_6\n",
    "P3"
   ]
  },
  {
   "cell_type": "markdown",
   "id": "e257a449-1a39-43ca-bdfd-507ea62e3e31",
   "metadata": {},
   "source": [
    "#### Check the jacobian with vector cross product "
   ]
  },
  {
   "cell_type": "code",
   "execution_count": 25,
   "id": "340e03f1-7750-490a-ad78-bbb60e6a158f",
   "metadata": {},
   "outputs": [
    {
     "data": {
      "text/latex": [
       "$\\displaystyle \\left(- \\left(l_{1} + l_{2} \\cos{\\left(\\theta_{3} \\right)} + l_{3} \\cos{\\left(\\theta_{3} + \\theta_{4} \\right)} + l_{4} \\cos{\\left(\\theta_{3} + \\theta_{4} + \\theta_{5} \\right)}\\right) \\sin{\\left(\\theta_{1} + \\theta_{2} \\right)}\\right)\\mathbf{\\hat{i}_{N}} + \\left(\\left(l_{1} + l_{2} \\cos{\\left(\\theta_{3} \\right)} + l_{3} \\cos{\\left(\\theta_{3} + \\theta_{4} \\right)} + l_{4} \\cos{\\left(\\theta_{3} + \\theta_{4} + \\theta_{5} \\right)}\\right) \\cos{\\left(\\theta_{1} + \\theta_{2} \\right)}\\right)\\mathbf{\\hat{j}_{N}}$"
      ],
      "text/plain": [
       "(-(l1 + l2*cos(theta3) + l3*cos(theta3 + theta4) + l4*cos(theta3 + theta4 + theta5))*sin(theta1 + theta2))*N.i + ((l1 + l2*cos(theta3) + l3*cos(theta3 + theta4) + l4*cos(theta3 + theta4 + theta5))*cos(theta1 + theta2))*N.j"
      ]
     },
     "execution_count": 25,
     "metadata": {},
     "output_type": "execute_result"
    }
   ],
   "source": [
    "z0_1 = Z0_1[0] * N.i + Z0_1[1] * N.j + Z0_1[2] * N.k\n",
    "p1 = P1[0] * N.i + P1[1] * N.j + P1[2] * N.k\n",
    "Jv_1 = Vector.cross(z0_1, p1)\n",
    "\n",
    "z0_3 = Z2_3[0] * N.i + Z2_3[1] * N.j + Z2_3[2] * N.k\n",
    "p3 = P3[0] * N.i + P3[1] * N.j + P3[2] * N.k\n",
    "Jv_3 = Vector.cross(z0_3, p3)\n",
    "\n",
    "Jv_1.simplify()\n"
   ]
  },
  {
   "cell_type": "markdown",
   "id": "48d9fda4-8887-4f1e-9da8-9c18671eb4d2",
   "metadata": {},
   "source": [
    "## Langrangian for 2DOF Robot"
   ]
  },
  {
   "cell_type": "code",
   "execution_count": 26,
   "id": "ae4c9fd0-f1b2-4fd9-abc7-0ee22184351a",
   "metadata": {},
   "outputs": [],
   "source": [
    "#initialization \n",
    "t, g, m1, m2, I1, I2, l1, l2, lc1, lc2, Pc1, Pc2 = sym.symbols('t g m1 m2 I1 I2 l1 l2 lc1 lc2 Pc1 Pc2')\n",
    "theta1, theta2 = sym.symbols(r'theta1 \\theta2', cls=sym.Function)\n",
    "theta1 = theta1(t)\n",
    "theta2 = theta2(t)\n",
    "\n",
    "dtheta1dt = sym.diff(theta1,t)\n",
    "dtheta2dt = sym.diff(theta2,t)\n"
   ]
  },
  {
   "cell_type": "code",
   "execution_count": 27,
   "id": "d043357a-f7ce-4817-ac7d-1f264b2daa19",
   "metadata": {},
   "outputs": [
    {
     "data": {
      "text/latex": [
       "$\\displaystyle \\left[\\begin{matrix}l_{1} \\cos{\\left(\\theta_{1} \\right)} + lc_{2} \\cos{\\left(\\theta2 + \\theta_{1} \\right)}\\\\l_{1} \\sin{\\left(\\theta_{1} \\right)} + lc_{2} \\sin{\\left(\\theta2 + \\theta_{1} \\right)}\\end{matrix}\\right]$"
      ],
      "text/plain": [
       "Matrix([\n",
       "[l1*cos(theta1) + lc2*cos(\\theta2 + theta1)],\n",
       "[l1*sin(theta1) + lc2*sin(\\theta2 + theta1)]])"
      ]
     },
     "execution_count": 27,
     "metadata": {},
     "output_type": "execute_result"
    }
   ],
   "source": [
    "Pc1 = sym.Matrix([[lc1*sym.cos(theta1)],\n",
    "                 [lc1*sym.sin(theta1)]])\n",
    "Pc2 = sym.Matrix([[l1*sym.cos(theta1) + lc2*sym.cos(theta1 + theta2)],\n",
    "                 [l1*sym.sin(theta1) + lc2*sym.sin(theta1 + theta2)]])\n",
    "Pc2"
   ]
  },
  {
   "cell_type": "code",
   "execution_count": 28,
   "id": "8fdccecc-b88e-412c-842b-ff7a429e066a",
   "metadata": {},
   "outputs": [
    {
     "data": {
      "text/latex": [
       "$\\displaystyle \\left[\\begin{matrix}- lc_{1} \\sin{\\left(\\theta_{1} \\right)} \\dot{\\theta}_{1}\\\\lc_{1} \\cos{\\left(\\theta_{1} \\right)} \\dot{\\theta}_{1}\\end{matrix}\\right]$"
      ],
      "text/plain": [
       "Matrix([\n",
       "[-lc1*sin(theta1)*theta1'],\n",
       "[ lc1*cos(theta1)*theta1']])"
      ]
     },
     "execution_count": 28,
     "metadata": {},
     "output_type": "execute_result"
    }
   ],
   "source": [
    "Vc1 = sym.Matrix([[sym.diff(Pc1[0,0],t)],\n",
    "                 [sym.diff(Pc1[1,0],t)]])\n",
    "Vc2 = sym.Matrix([[sym.diff(Pc2[0,0],t)],\n",
    "                 [sym.diff(Pc2[1,0],t)]])\n",
    "Vc1"
   ]
  },
  {
   "cell_type": "code",
   "execution_count": 29,
   "id": "1307269f-fd0b-4bed-bbab-71c9c8a0716b",
   "metadata": {},
   "outputs": [],
   "source": [
    "V1_sqr = Vc1.T * Vc1\n",
    "V2_sqr = Vc2.T * Vc2\n",
    "V1_sqr= V1_sqr[0].simplify() "
   ]
  },
  {
   "cell_type": "code",
   "execution_count": 30,
   "id": "eded4517-a75d-4a15-a776-22f37280e457",
   "metadata": {},
   "outputs": [
    {
     "data": {
      "text/latex": [
       "$\\displaystyle \\frac{I_{1} \\dot{\\theta}_{1}^{2}}{2} + \\frac{lc_{1}^{2} m_{1} \\dot{\\theta}_{1}^{2}}{2}$"
      ],
      "text/plain": [
       "I1*theta1'**2/2 + lc1**2*m1*theta1'**2/2"
      ]
     },
     "execution_count": 30,
     "metadata": {},
     "output_type": "execute_result"
    }
   ],
   "source": [
    "T1 = sym.Rational(1,2) * m1 * V1_sqr + sym.Rational(1,2) * I1 * (dtheta1dt**2)\n",
    "T2 = sym.Rational(1,2) * m2 * V2_sqr[0] + sym.Rational(1,2) * I2 *(dtheta1dt + dtheta2dt)**2\n",
    "#T = T1 + T2 \n",
    "#T = T.simplify()\n",
    "T1"
   ]
  },
  {
   "cell_type": "code",
   "execution_count": 31,
   "id": "3b879332-2a94-4afb-8807-ba8796ec3156",
   "metadata": {},
   "outputs": [
    {
     "data": {
      "text/latex": [
       "$\\displaystyle g lc_{1} m_{1} \\sin{\\left(\\theta_{1} \\right)} + g m_{2} \\left(l_{1} \\sin{\\left(\\theta_{1} \\right)} + lc_{2} \\sin{\\left(\\theta2 + \\theta_{1} \\right)}\\right)$"
      ],
      "text/plain": [
       "g*lc1*m1*sin(theta1) + g*m2*(l1*sin(theta1) + lc2*sin(\\theta2 + theta1))"
      ]
     },
     "execution_count": 31,
     "metadata": {},
     "output_type": "execute_result"
    }
   ],
   "source": [
    "P1 = m1 * g *  Pc1[1,0]\n",
    "P2 = m2 * g * Pc2[1,0]\n",
    "P = P1 + P2 \n",
    "P"
   ]
  },
  {
   "cell_type": "code",
   "execution_count": 32,
   "id": "5f423f30-8ecd-455c-8808-60d98f001088",
   "metadata": {},
   "outputs": [
    {
     "ename": "NameError",
     "evalue": "name 'T' is not defined",
     "output_type": "error",
     "traceback": [
      "\u001b[1;31m---------------------------------------------------------------------------\u001b[0m",
      "\u001b[1;31mNameError\u001b[0m                                 Traceback (most recent call last)",
      "Input \u001b[1;32mIn [32]\u001b[0m, in \u001b[0;36m<cell line: 1>\u001b[1;34m()\u001b[0m\n\u001b[1;32m----> 1\u001b[0m L \u001b[38;5;241m=\u001b[39m \u001b[43mT\u001b[49m \u001b[38;5;241m-\u001b[39m P\n\u001b[0;32m      2\u001b[0m L\n",
      "\u001b[1;31mNameError\u001b[0m: name 'T' is not defined"
     ]
    }
   ],
   "source": [
    "L = T - P\n",
    "L"
   ]
  },
  {
   "cell_type": "code",
   "execution_count": null,
   "id": "16def24a-beb1-4b48-83e0-d98776d884e0",
   "metadata": {},
   "outputs": [],
   "source": [
    "L1 = sym.diff(sym.diff(L, dtheta1dt), t) - sym.diff(L, theta1)\n",
    "L2 = sym.diff(sym.diff(L, dtheta2dt), t) - sym.diff(L, theta2)\n",
    "L2.simplify()"
   ]
  },
  {
   "cell_type": "markdown",
   "id": "3b8622ae-abb7-46ec-b070-d1da948fb89a",
   "metadata": {},
   "source": []
  },
  {
   "cell_type": "markdown",
   "id": "b9ebb006-bb05-45b8-bb4f-e56993b54123",
   "metadata": {},
   "source": [
    "## Lagrange for 3DOF Robot Manipulator"
   ]
  },
  {
   "cell_type": "code",
   "execution_count": 40,
   "id": "8fc85022-f362-4e9b-9e67-d1f92589bf6b",
   "metadata": {},
   "outputs": [],
   "source": [
    "#initialization \n",
    "t, g, m1, m2, m3, Ic1, Ic2, Ic3, L1, L2, L3, Lc1, Lc2, Lc3, Pc1, Pc2, Pc3 = sym.symbols('t g m1 m2 m3 Ic1 Ic2 Ic3 L1 L2 L3 Lc1 Lc2 Lc3 Pc1 Pc2 Pc3')\n",
    "theta1, theta2, theta3 = sym.symbols(r'theta1 \\theta2 \\theta3', cls=sym.Function)\n",
    "theta1 = theta1(t)\n",
    "theta2 = theta2(t)\n",
    "theta3 = theta3(t)\n",
    "\n",
    "dtheta1dt = sym.diff(theta1,t)\n",
    "dtheta2dt = sym.diff(theta2,t)\n",
    "dtheta3dt = sym.diff(theta3,t)\n"
   ]
  },
  {
   "cell_type": "code",
   "execution_count": 41,
   "id": "431f3fb7-80da-4fa3-8873-987da735d962",
   "metadata": {},
   "outputs": [
    {
     "data": {
      "text/latex": [
       "$\\displaystyle \\left[\\begin{matrix}Lc_{1} \\cos{\\left(\\theta_{1} \\right)}\\\\Lc_{1} \\sin{\\left(\\theta_{1} \\right)}\\\\0\\end{matrix}\\right]$"
      ],
      "text/plain": [
       "Matrix([\n",
       "[Lc1*cos(theta1)],\n",
       "[Lc1*sin(theta1)],\n",
       "[              0]])"
      ]
     },
     "execution_count": 41,
     "metadata": {},
     "output_type": "execute_result"
    }
   ],
   "source": [
    "Pc1 = sym.Matrix([[Lc1*sym.cos(theta1)],\n",
    "                 [Lc1*sym.sin(theta1)],\n",
    "                 [0]])\n",
    "Pc2 = sym.Matrix([[L1*sym.cos(theta1) + Lc2*sym.cos(theta1 + theta2)],\n",
    "                 [L1*sym.sin(theta1) + Lc2*sym.sin(theta1 + theta2)],\n",
    "                 [0]])\n",
    "Pc3 = sym.Matrix([[L1*sym.cos(theta1) + L2*sym.cos(theta1 + theta2) + Lc3 * sym.cos(theta1 + theta2 + theta3) ],\n",
    "                 [L1*sym.sin(theta1) + L2*sym.sin(theta1 + theta2) + Lc3 * sym.sin(theta1 + theta2 + theta3)],\n",
    "                 [0]])\n",
    "Pc1"
   ]
  },
  {
   "cell_type": "code",
   "execution_count": 45,
   "id": "4b579d4e-5218-4dd3-86a8-9489dd26f6cd",
   "metadata": {},
   "outputs": [
    {
     "data": {
      "text/latex": [
       "$\\displaystyle \\left[\\begin{matrix}- L_{1} \\sin{\\left(\\theta_{1} \\right)} \\dot{\\theta}_{1} - L_{2} \\left(\\dot{\\theta2} + \\dot{\\theta}_{1}\\right) \\sin{\\left(\\theta2 + \\theta_{1} \\right)} - Lc_{3} \\left(\\dot{\\theta2} + \\dot{\\theta3} + \\dot{\\theta}_{1}\\right) \\sin{\\left(\\theta2 + \\theta3 + \\theta_{1} \\right)}\\\\L_{1} \\cos{\\left(\\theta_{1} \\right)} \\dot{\\theta}_{1} + L_{2} \\left(\\dot{\\theta2} + \\dot{\\theta}_{1}\\right) \\cos{\\left(\\theta2 + \\theta_{1} \\right)} + Lc_{3} \\left(\\dot{\\theta2} + \\dot{\\theta3} + \\dot{\\theta}_{1}\\right) \\cos{\\left(\\theta2 + \\theta3 + \\theta_{1} \\right)}\\\\0\\end{matrix}\\right]$"
      ],
      "text/plain": [
       "Matrix([\n",
       "[-L1*sin(theta1)*theta1' - L2*(\\theta2' + theta1')*sin(\\theta2 + theta1) - Lc3*(\\theta2' + \\theta3' + theta1')*sin(\\theta2 + \\theta3 + theta1)],\n",
       "[ L1*cos(theta1)*theta1' + L2*(\\theta2' + theta1')*cos(\\theta2 + theta1) + Lc3*(\\theta2' + \\theta3' + theta1')*cos(\\theta2 + \\theta3 + theta1)],\n",
       "[                                                                                                                                            0]])"
      ]
     },
     "execution_count": 45,
     "metadata": {},
     "output_type": "execute_result"
    }
   ],
   "source": [
    "Vc1 = sym.Matrix([[sym.diff(Pc1[0,0],t)],\n",
    "                 [sym.diff(Pc1[1,0],t)],\n",
    "                 [sym.diff(Pc1[2,0],t)]])\n",
    "Vc2 = sym.Matrix([[sym.diff(Pc2[0,0],t)],\n",
    "                 [sym.diff(Pc2[1,0],t)],\n",
    "                 [sym.diff(Pc2[2,0],t)]])\n",
    "Vc3 = sym.Matrix([[sym.diff(Pc3[0,0],t)],\n",
    "                 [sym.diff(Pc3[1,0],t)],\n",
    "                 [sym.diff(Pc3[2,0],t)]])\n",
    "Vc3"
   ]
  },
  {
   "cell_type": "code",
   "execution_count": 47,
   "id": "a401b08a-49cf-4b53-bc15-eee150ffc537",
   "metadata": {},
   "outputs": [],
   "source": [
    "V1_sqr = Vc1.T * Vc1\n",
    "V2_sqr = Vc2.T * Vc2\n",
    "V3_sqr = Vc3.T * Vc3\n",
    "\n",
    "V1_sqr= V1_sqr[0].simplify() \n",
    "V2_sqr= V2_sqr[0].simplify()\n",
    "V3_sqr= V3_sqr[0].simplify()\n"
   ]
  },
  {
   "cell_type": "code",
   "execution_count": 50,
   "id": "ec51402f-bd48-481c-80ec-d4e0ba4ff804",
   "metadata": {},
   "outputs": [
    {
     "data": {
      "text/latex": [
       "$\\displaystyle \\frac{I_{1} \\dot{\\theta}_{1}^{2}}{2} + \\frac{I_{2} \\left(\\dot{\\theta2} + \\dot{\\theta}_{1}\\right)^{2}}{2} + \\frac{I_{3} \\left(\\dot{\\theta2} + \\dot{\\theta3} + \\dot{\\theta}_{1}\\right)^{2}}{2} + \\frac{Lc_{1}^{2} m_{1} \\dot{\\theta}_{1}^{2}}{2} + \\frac{m_{2} \\left(L_{1}^{2} \\dot{\\theta}_{1}^{2} + 2 L_{1} Lc_{2} \\cos{\\left(\\theta2 \\right)} \\dot{\\theta2} \\dot{\\theta}_{1} + 2 L_{1} Lc_{2} \\cos{\\left(\\theta2 \\right)} \\dot{\\theta}_{1}^{2} + Lc_{2}^{2} \\dot{\\theta2}^{2} + 2 Lc_{2}^{2} \\dot{\\theta2} \\dot{\\theta}_{1} + Lc_{2}^{2} \\dot{\\theta}_{1}^{2}\\right)}{2} + \\frac{m_{3} \\left(\\left(L_{1} \\sin{\\left(\\theta_{1} \\right)} \\dot{\\theta}_{1} + L_{2} \\left(\\dot{\\theta2} + \\dot{\\theta}_{1}\\right) \\sin{\\left(\\theta2 + \\theta_{1} \\right)} + Lc_{3} \\left(\\dot{\\theta2} + \\dot{\\theta3} + \\dot{\\theta}_{1}\\right) \\sin{\\left(\\theta2 + \\theta3 + \\theta_{1} \\right)}\\right)^{2} + \\left(L_{1} \\cos{\\left(\\theta_{1} \\right)} \\dot{\\theta}_{1} + L_{2} \\left(\\dot{\\theta2} + \\dot{\\theta}_{1}\\right) \\cos{\\left(\\theta2 + \\theta_{1} \\right)} + Lc_{3} \\left(\\dot{\\theta2} + \\dot{\\theta3} + \\dot{\\theta}_{1}\\right) \\cos{\\left(\\theta2 + \\theta3 + \\theta_{1} \\right)}\\right)^{2}\\right)}{2}$"
      ],
      "text/plain": [
       "I1*theta1'**2/2 + I2*(\\theta2' + theta1')**2/2 + I3*(\\theta2' + \\theta3' + theta1')**2/2 + Lc1**2*m1*theta1'**2/2 + m2*(L1**2*theta1'**2 + 2*L1*Lc2*cos(\\theta2)*\\theta2'*theta1' + 2*L1*Lc2*cos(\\theta2)*theta1'**2 + Lc2**2*\\theta2'**2 + 2*Lc2**2*\\theta2'*theta1' + Lc2**2*theta1'**2)/2 + m3*((L1*sin(theta1)*theta1' + L2*(\\theta2' + theta1')*sin(\\theta2 + theta1) + Lc3*(\\theta2' + \\theta3' + theta1')*sin(\\theta2 + \\theta3 + theta1))**2 + (L1*cos(theta1)*theta1' + L2*(\\theta2' + theta1')*cos(\\theta2 + theta1) + Lc3*(\\theta2' + \\theta3' + theta1')*cos(\\theta2 + \\theta3 + theta1))**2)/2"
      ]
     },
     "execution_count": 50,
     "metadata": {},
     "output_type": "execute_result"
    }
   ],
   "source": [
    "# kinetic energy\n",
    "T1 = sym.Rational(1,2) * m1 * V1_sqr + sym.Rational(1,2) * Ic1 * (dtheta1dt**2)\n",
    "T2 = sym.Rational(1,2) * m2 * V2_sqr + sym.Rational(1,2) * Ic2 *(dtheta1dt + dtheta2dt)**2\n",
    "T3 = sym.Rational(1,2) * m3 * V3_sqr + sym.Rational(1,2) * Ic3 *(dtheta1dt + dtheta2dt + dtheta3dt)**2\n",
    "T = T1 + T2 + T3\n",
    "T"
   ]
  },
  {
   "cell_type": "code",
   "execution_count": 51,
   "id": "b39cb0db-ebc7-4e2c-9265-fcdd6736c90e",
   "metadata": {},
   "outputs": [
    {
     "data": {
      "text/latex": [
       "$\\displaystyle Lc_{1} g m_{1} \\sin{\\left(\\theta_{1} \\right)} + g m_{2} \\left(L_{1} \\sin{\\left(\\theta_{1} \\right)} + Lc_{2} \\sin{\\left(\\theta2 + \\theta_{1} \\right)}\\right) + g m_{3} \\left(L_{1} \\sin{\\left(\\theta_{1} \\right)} + L_{2} \\sin{\\left(\\theta2 + \\theta_{1} \\right)} + Lc_{3} \\sin{\\left(\\theta2 + \\theta3 + \\theta_{1} \\right)}\\right)$"
      ],
      "text/plain": [
       "Lc1*g*m1*sin(theta1) + g*m2*(L1*sin(theta1) + Lc2*sin(\\theta2 + theta1)) + g*m3*(L1*sin(theta1) + L2*sin(\\theta2 + theta1) + Lc3*sin(\\theta2 + \\theta3 + theta1))"
      ]
     },
     "execution_count": 51,
     "metadata": {},
     "output_type": "execute_result"
    }
   ],
   "source": [
    "#potential Energy\n",
    "P1 = m1 * g * Pc1[1,0]\n",
    "P2 = m2 * g * Pc2[1,0]\n",
    "P3 = m3 * g * Pc3[1,0]\n",
    "P = P1 + P2 + P3\n",
    "P"
   ]
  },
  {
   "cell_type": "code",
   "execution_count": 53,
   "id": "76dafd73-335f-4a8e-8b88-1a61f242e82d",
   "metadata": {},
   "outputs": [
    {
     "data": {
      "text/latex": [
       "$\\displaystyle \\frac{I_{1} \\dot{\\theta}_{1}^{2}}{2} + \\frac{I_{2} \\left(\\dot{\\theta2} + \\dot{\\theta}_{1}\\right)^{2}}{2} + \\frac{I_{3} \\left(\\dot{\\theta2} + \\dot{\\theta3} + \\dot{\\theta}_{1}\\right)^{2}}{2} + \\frac{Lc_{1}^{2} m_{1} \\dot{\\theta}_{1}^{2}}{2} - Lc_{1} g m_{1} \\sin{\\left(\\theta_{1} \\right)} - g m_{2} \\left(L_{1} \\sin{\\left(\\theta_{1} \\right)} + Lc_{2} \\sin{\\left(\\theta2 + \\theta_{1} \\right)}\\right) - g m_{3} \\left(L_{1} \\sin{\\left(\\theta_{1} \\right)} + L_{2} \\sin{\\left(\\theta2 + \\theta_{1} \\right)} + Lc_{3} \\sin{\\left(\\theta2 + \\theta3 + \\theta_{1} \\right)}\\right) + \\frac{m_{2} \\left(L_{1}^{2} \\dot{\\theta}_{1}^{2} + 2 L_{1} Lc_{2} \\cos{\\left(\\theta2 \\right)} \\dot{\\theta2} \\dot{\\theta}_{1} + 2 L_{1} Lc_{2} \\cos{\\left(\\theta2 \\right)} \\dot{\\theta}_{1}^{2} + Lc_{2}^{2} \\dot{\\theta2}^{2} + 2 Lc_{2}^{2} \\dot{\\theta2} \\dot{\\theta}_{1} + Lc_{2}^{2} \\dot{\\theta}_{1}^{2}\\right)}{2} + \\frac{m_{3} \\left(\\left(L_{1} \\sin{\\left(\\theta_{1} \\right)} \\dot{\\theta}_{1} + L_{2} \\left(\\dot{\\theta2} + \\dot{\\theta}_{1}\\right) \\sin{\\left(\\theta2 + \\theta_{1} \\right)} + Lc_{3} \\left(\\dot{\\theta2} + \\dot{\\theta3} + \\dot{\\theta}_{1}\\right) \\sin{\\left(\\theta2 + \\theta3 + \\theta_{1} \\right)}\\right)^{2} + \\left(L_{1} \\cos{\\left(\\theta_{1} \\right)} \\dot{\\theta}_{1} + L_{2} \\left(\\dot{\\theta2} + \\dot{\\theta}_{1}\\right) \\cos{\\left(\\theta2 + \\theta_{1} \\right)} + Lc_{3} \\left(\\dot{\\theta2} + \\dot{\\theta3} + \\dot{\\theta}_{1}\\right) \\cos{\\left(\\theta2 + \\theta3 + \\theta_{1} \\right)}\\right)^{2}\\right)}{2}$"
      ],
      "text/plain": [
       "I1*theta1'**2/2 + I2*(\\theta2' + theta1')**2/2 + I3*(\\theta2' + \\theta3' + theta1')**2/2 + Lc1**2*m1*theta1'**2/2 - Lc1*g*m1*sin(theta1) - g*m2*(L1*sin(theta1) + Lc2*sin(\\theta2 + theta1)) - g*m3*(L1*sin(theta1) + L2*sin(\\theta2 + theta1) + Lc3*sin(\\theta2 + \\theta3 + theta1)) + m2*(L1**2*theta1'**2 + 2*L1*Lc2*cos(\\theta2)*\\theta2'*theta1' + 2*L1*Lc2*cos(\\theta2)*theta1'**2 + Lc2**2*\\theta2'**2 + 2*Lc2**2*\\theta2'*theta1' + Lc2**2*theta1'**2)/2 + m3*((L1*sin(theta1)*theta1' + L2*(\\theta2' + theta1')*sin(\\theta2 + theta1) + Lc3*(\\theta2' + \\theta3' + theta1')*sin(\\theta2 + \\theta3 + theta1))**2 + (L1*cos(theta1)*theta1' + L2*(\\theta2' + theta1')*cos(\\theta2 + theta1) + Lc3*(\\theta2' + \\theta3' + theta1')*cos(\\theta2 + \\theta3 + theta1))**2)/2"
      ]
     },
     "execution_count": 53,
     "metadata": {},
     "output_type": "execute_result"
    }
   ],
   "source": [
    "# Lagrangian \n",
    "L = T - P\n",
    "L.simplify()\n",
    "L"
   ]
  },
  {
   "cell_type": "code",
   "execution_count": 62,
   "id": "319a7473-7530-432d-a4af-f287a3c28a54",
   "metadata": {},
   "outputs": [],
   "source": [
    "L1 = sym.diff(sym.diff(L, dtheta1dt), t) - sym.diff(L, theta1)\n",
    "L2 = sym.diff(sym.diff(L, dtheta2dt), t) - sym.diff(L, theta2)\n",
    "L3 = sym.diff(sym.diff(L, dtheta3dt), t) - sym.diff(L, theta3)\n"
   ]
  },
  {
   "cell_type": "code",
   "execution_count": 63,
   "id": "bc60ef59-36e2-49f0-9252-efe493897b15",
   "metadata": {},
   "outputs": [
    {
     "data": {
      "text/latex": [
       "$\\displaystyle I_{1} \\ddot{\\theta}_{1} + I_{2} \\left(\\ddot{\\theta2} + \\ddot{\\theta}_{1}\\right) + I_{3} \\left(\\ddot{\\theta2} + \\ddot{\\theta3} + \\ddot{\\theta}_{1}\\right) + Lc_{1}^{2} m_{1} \\ddot{\\theta}_{1} + Lc_{1} g m_{1} \\cos{\\left(\\theta_{1} \\right)} + g m_{2} \\left(L_{1} \\cos{\\left(\\theta_{1} \\right)} + Lc_{2} \\cos{\\left(\\theta2 + \\theta_{1} \\right)}\\right) + g m_{3} \\left(L_{1} \\cos{\\left(\\theta_{1} \\right)} + L_{2} \\cos{\\left(\\theta2 + \\theta_{1} \\right)} + Lc_{3} \\cos{\\left(\\theta2 + \\theta3 + \\theta_{1} \\right)}\\right) + m_{2} \\left(L_{1}^{2} \\ddot{\\theta}_{1} - L_{1} Lc_{2} \\sin{\\left(\\theta2 \\right)} \\dot{\\theta2}^{2} - 2 L_{1} Lc_{2} \\sin{\\left(\\theta2 \\right)} \\dot{\\theta2} \\dot{\\theta}_{1} + L_{1} Lc_{2} \\cos{\\left(\\theta2 \\right)} \\ddot{\\theta2} + 2 L_{1} Lc_{2} \\cos{\\left(\\theta2 \\right)} \\ddot{\\theta}_{1} + Lc_{2}^{2} \\ddot{\\theta2} + Lc_{2}^{2} \\ddot{\\theta}_{1}\\right) + m_{3} \\left(\\left(L_{1} \\sin{\\left(\\theta_{1} \\right)} + L_{2} \\sin{\\left(\\theta2 + \\theta_{1} \\right)} + Lc_{3} \\sin{\\left(\\theta2 + \\theta3 + \\theta_{1} \\right)}\\right) \\left(L_{1} \\sin{\\left(\\theta_{1} \\right)} \\ddot{\\theta}_{1} + L_{1} \\cos{\\left(\\theta_{1} \\right)} \\dot{\\theta}_{1}^{2} + L_{2} \\left(\\dot{\\theta2} + \\dot{\\theta}_{1}\\right)^{2} \\cos{\\left(\\theta2 + \\theta_{1} \\right)} + L_{2} \\left(\\ddot{\\theta2} + \\ddot{\\theta}_{1}\\right) \\sin{\\left(\\theta2 + \\theta_{1} \\right)} + Lc_{3} \\left(\\dot{\\theta2} + \\dot{\\theta3} + \\dot{\\theta}_{1}\\right)^{2} \\cos{\\left(\\theta2 + \\theta3 + \\theta_{1} \\right)} + Lc_{3} \\left(\\ddot{\\theta2} + \\ddot{\\theta3} + \\ddot{\\theta}_{1}\\right) \\sin{\\left(\\theta2 + \\theta3 + \\theta_{1} \\right)}\\right) - \\left(L_{1} \\cos{\\left(\\theta_{1} \\right)} + L_{2} \\cos{\\left(\\theta2 + \\theta_{1} \\right)} + Lc_{3} \\cos{\\left(\\theta2 + \\theta3 + \\theta_{1} \\right)}\\right) \\left(L_{1} \\sin{\\left(\\theta_{1} \\right)} \\dot{\\theta}_{1}^{2} - L_{1} \\cos{\\left(\\theta_{1} \\right)} \\ddot{\\theta}_{1} + L_{2} \\left(\\dot{\\theta2} + \\dot{\\theta}_{1}\\right)^{2} \\sin{\\left(\\theta2 + \\theta_{1} \\right)} - L_{2} \\left(\\ddot{\\theta2} + \\ddot{\\theta}_{1}\\right) \\cos{\\left(\\theta2 + \\theta_{1} \\right)} + Lc_{3} \\left(\\dot{\\theta2} + \\dot{\\theta3} + \\dot{\\theta}_{1}\\right)^{2} \\sin{\\left(\\theta2 + \\theta3 + \\theta_{1} \\right)} - Lc_{3} \\left(\\ddot{\\theta2} + \\ddot{\\theta3} + \\ddot{\\theta}_{1}\\right) \\cos{\\left(\\theta2 + \\theta3 + \\theta_{1} \\right)}\\right)\\right)$"
      ],
      "text/plain": [
       "I1*theta1'' + I2*(\\theta2'' + theta1'') + I3*(\\theta2'' + \\theta3'' + theta1'') + Lc1**2*m1*theta1'' + Lc1*g*m1*cos(theta1) + g*m2*(L1*cos(theta1) + Lc2*cos(\\theta2 + theta1)) + g*m3*(L1*cos(theta1) + L2*cos(\\theta2 + theta1) + Lc3*cos(\\theta2 + \\theta3 + theta1)) + m2*(L1**2*theta1'' - L1*Lc2*sin(\\theta2)*\\theta2'**2 - 2*L1*Lc2*sin(\\theta2)*\\theta2'*theta1' + L1*Lc2*cos(\\theta2)*\\theta2'' + 2*L1*Lc2*cos(\\theta2)*theta1'' + Lc2**2*\\theta2'' + Lc2**2*theta1'') + m3*((L1*sin(theta1) + L2*sin(\\theta2 + theta1) + Lc3*sin(\\theta2 + \\theta3 + theta1))*(L1*sin(theta1)*theta1'' + L1*cos(theta1)*theta1'**2 + L2*(\\theta2' + theta1')**2*cos(\\theta2 + theta1) + L2*(\\theta2'' + theta1'')*sin(\\theta2 + theta1) + Lc3*(\\theta2' + \\theta3' + theta1')**2*cos(\\theta2 + \\theta3 + theta1) + Lc3*(\\theta2'' + \\theta3'' + theta1'')*sin(\\theta2 + \\theta3 + theta1)) - (L1*cos(theta1) + L2*cos(\\theta2 + theta1) + Lc3*cos(\\theta2 + \\theta3 + theta1))*(L1*sin(theta1)*theta1'**2 - L1*cos(theta1)*theta1'' + L2*(\\theta2' + theta1')**2*sin(\\theta2 + theta1) - L2*(\\theta2'' + theta1'')*cos(\\theta2 + theta1) + Lc3*(\\theta2' + \\theta3' + theta1')**2*sin(\\theta2 + \\theta3 + theta1) - Lc3*(\\theta2'' + \\theta3'' + theta1'')*cos(\\theta2 + \\theta3 + theta1)))"
      ]
     },
     "execution_count": 63,
     "metadata": {},
     "output_type": "execute_result"
    }
   ],
   "source": [
    "L1.simplify()\n"
   ]
  },
  {
   "cell_type": "code",
   "execution_count": 64,
   "id": "b839b4a6-9cf5-4887-a8cb-cb4d65020bbe",
   "metadata": {},
   "outputs": [
    {
     "data": {
      "text/latex": [
       "$\\displaystyle I_{2} \\ddot{\\theta2} + I_{2} \\ddot{\\theta}_{1} + I_{3} \\ddot{\\theta2} + I_{3} \\ddot{\\theta3} + I_{3} \\ddot{\\theta}_{1} + L_{1} L_{2} m_{3} \\sin{\\left(\\theta2 \\right)} \\dot{\\theta}_{1}^{2} + L_{1} L_{2} m_{3} \\cos{\\left(\\theta2 \\right)} \\ddot{\\theta}_{1} + L_{1} Lc_{2} m_{2} \\sin{\\left(\\theta2 \\right)} \\dot{\\theta}_{1}^{2} + L_{1} Lc_{2} m_{2} \\cos{\\left(\\theta2 \\right)} \\ddot{\\theta}_{1} + L_{1} Lc_{3} m_{3} \\sin{\\left(\\theta2 + \\theta3 \\right)} \\dot{\\theta}_{1}^{2} + L_{1} Lc_{3} m_{3} \\cos{\\left(\\theta2 + \\theta3 \\right)} \\ddot{\\theta}_{1} + L_{2}^{2} m_{3} \\ddot{\\theta2} + L_{2}^{2} m_{3} \\ddot{\\theta}_{1} - 2 L_{2} Lc_{3} m_{3} \\sin{\\left(\\theta3 \\right)} \\dot{\\theta2} \\dot{\\theta3} - L_{2} Lc_{3} m_{3} \\sin{\\left(\\theta3 \\right)} \\dot{\\theta3}^{2} - 2 L_{2} Lc_{3} m_{3} \\sin{\\left(\\theta3 \\right)} \\dot{\\theta3} \\dot{\\theta}_{1} + 2 L_{2} Lc_{3} m_{3} \\cos{\\left(\\theta3 \\right)} \\ddot{\\theta2} + L_{2} Lc_{3} m_{3} \\cos{\\left(\\theta3 \\right)} \\ddot{\\theta3} + 2 L_{2} Lc_{3} m_{3} \\cos{\\left(\\theta3 \\right)} \\ddot{\\theta}_{1} + L_{2} g m_{3} \\cos{\\left(\\theta2 + \\theta_{1} \\right)} + Lc_{2}^{2} m_{2} \\ddot{\\theta2} + Lc_{2}^{2} m_{2} \\ddot{\\theta}_{1} + Lc_{2} g m_{2} \\cos{\\left(\\theta2 + \\theta_{1} \\right)} + Lc_{3}^{2} m_{3} \\ddot{\\theta2} + Lc_{3}^{2} m_{3} \\ddot{\\theta3} + Lc_{3}^{2} m_{3} \\ddot{\\theta}_{1} + Lc_{3} g m_{3} \\cos{\\left(\\theta2 + \\theta3 + \\theta_{1} \\right)}$"
      ],
      "text/plain": [
       "I2*\\theta2'' + I2*theta1'' + I3*\\theta2'' + I3*\\theta3'' + I3*theta1'' + L1*L2*m3*sin(\\theta2)*theta1'**2 + L1*L2*m3*cos(\\theta2)*theta1'' + L1*Lc2*m2*sin(\\theta2)*theta1'**2 + L1*Lc2*m2*cos(\\theta2)*theta1'' + L1*Lc3*m3*sin(\\theta2 + \\theta3)*theta1'**2 + L1*Lc3*m3*cos(\\theta2 + \\theta3)*theta1'' + L2**2*m3*\\theta2'' + L2**2*m3*theta1'' - 2*L2*Lc3*m3*sin(\\theta3)*\\theta2'*\\theta3' - L2*Lc3*m3*sin(\\theta3)*\\theta3'**2 - 2*L2*Lc3*m3*sin(\\theta3)*\\theta3'*theta1' + 2*L2*Lc3*m3*cos(\\theta3)*\\theta2'' + L2*Lc3*m3*cos(\\theta3)*\\theta3'' + 2*L2*Lc3*m3*cos(\\theta3)*theta1'' + L2*g*m3*cos(\\theta2 + theta1) + Lc2**2*m2*\\theta2'' + Lc2**2*m2*theta1'' + Lc2*g*m2*cos(\\theta2 + theta1) + Lc3**2*m3*\\theta2'' + Lc3**2*m3*\\theta3'' + Lc3**2*m3*theta1'' + Lc3*g*m3*cos(\\theta2 + \\theta3 + theta1)"
      ]
     },
     "execution_count": 64,
     "metadata": {},
     "output_type": "execute_result"
    }
   ],
   "source": [
    "L2.simplify()\n"
   ]
  },
  {
   "cell_type": "code",
   "execution_count": 65,
   "id": "6efe5ffb-888a-40bc-9a2c-8e7780158c44",
   "metadata": {},
   "outputs": [
    {
     "data": {
      "text/latex": [
       "$\\displaystyle I_{3} \\ddot{\\theta2} + I_{3} \\ddot{\\theta3} + I_{3} \\ddot{\\theta}_{1} + L_{1} Lc_{3} m_{3} \\sin{\\left(\\theta2 + \\theta3 \\right)} \\dot{\\theta}_{1}^{2} + L_{1} Lc_{3} m_{3} \\cos{\\left(\\theta2 + \\theta3 \\right)} \\ddot{\\theta}_{1} + L_{2} Lc_{3} m_{3} \\sin{\\left(\\theta3 \\right)} \\dot{\\theta2}^{2} + 2 L_{2} Lc_{3} m_{3} \\sin{\\left(\\theta3 \\right)} \\dot{\\theta2} \\dot{\\theta}_{1} + L_{2} Lc_{3} m_{3} \\sin{\\left(\\theta3 \\right)} \\dot{\\theta}_{1}^{2} + L_{2} Lc_{3} m_{3} \\cos{\\left(\\theta3 \\right)} \\ddot{\\theta2} + L_{2} Lc_{3} m_{3} \\cos{\\left(\\theta3 \\right)} \\ddot{\\theta}_{1} + Lc_{3}^{2} m_{3} \\ddot{\\theta2} + Lc_{3}^{2} m_{3} \\ddot{\\theta3} + Lc_{3}^{2} m_{3} \\ddot{\\theta}_{1} + Lc_{3} g m_{3} \\cos{\\left(\\theta2 + \\theta3 + \\theta_{1} \\right)}$"
      ],
      "text/plain": [
       "I3*\\theta2'' + I3*\\theta3'' + I3*theta1'' + L1*Lc3*m3*sin(\\theta2 + \\theta3)*theta1'**2 + L1*Lc3*m3*cos(\\theta2 + \\theta3)*theta1'' + L2*Lc3*m3*sin(\\theta3)*\\theta2'**2 + 2*L2*Lc3*m3*sin(\\theta3)*\\theta2'*theta1' + L2*Lc3*m3*sin(\\theta3)*theta1'**2 + L2*Lc3*m3*cos(\\theta3)*\\theta2'' + L2*Lc3*m3*cos(\\theta3)*theta1'' + Lc3**2*m3*\\theta2'' + Lc3**2*m3*\\theta3'' + Lc3**2*m3*theta1'' + Lc3*g*m3*cos(\\theta2 + \\theta3 + theta1)"
      ]
     },
     "execution_count": 65,
     "metadata": {},
     "output_type": "execute_result"
    }
   ],
   "source": [
    "L3.simplify()\n"
   ]
  },
  {
   "cell_type": "code",
   "execution_count": null,
   "id": "e870586f-a709-4b91-a159-9d90c7527aee",
   "metadata": {},
   "outputs": [],
   "source": []
  },
  {
   "cell_type": "code",
   "execution_count": null,
   "id": "e7cf7184-9fe9-4f31-a1d7-b15ea097ccc6",
   "metadata": {},
   "outputs": [],
   "source": []
  },
  {
   "cell_type": "code",
   "execution_count": null,
   "id": "026c5a5d-4bba-4a3f-a87d-15954ec9e003",
   "metadata": {},
   "outputs": [],
   "source": []
  },
  {
   "cell_type": "code",
   "execution_count": null,
   "id": "07ff56df-a299-4008-958d-050c117ab5f2",
   "metadata": {},
   "outputs": [],
   "source": []
  },
  {
   "cell_type": "code",
   "execution_count": null,
   "id": "032fbc3e-2752-4f05-b80b-94f42b6445f7",
   "metadata": {},
   "outputs": [],
   "source": []
  },
  {
   "cell_type": "code",
   "execution_count": null,
   "id": "5fca1131-ac77-41a4-b6d9-139d3a6123a4",
   "metadata": {},
   "outputs": [],
   "source": []
  },
  {
   "cell_type": "code",
   "execution_count": null,
   "id": "d50c3590-c819-493f-9e05-8f3bb263d46a",
   "metadata": {},
   "outputs": [],
   "source": []
  },
  {
   "cell_type": "code",
   "execution_count": null,
   "id": "6cb83193-948d-4a93-9c7e-62b4a8ade14c",
   "metadata": {},
   "outputs": [],
   "source": []
  },
  {
   "cell_type": "code",
   "execution_count": null,
   "id": "389ef56c-27f7-4dca-84e8-61d92b2e2e7f",
   "metadata": {},
   "outputs": [],
   "source": [
    "import sympy as sym\n",
    "from sympy.physics.mechanics import dynamicsymbols \n",
    "\n",
    "def forward_kinematics_symbolic():\n",
    "   \n",
    "    # Create symbols for the DH parameters\n",
    "    alpha1, a1, d1, theta1 = sym.symbols('alpha1 a1 d1 theta1')\n",
    "    alpha2, a2, d2, theta2 = sym.symbols('alpha2 a2 d2 theta2')\n",
    "    alpha3, a3, d3, theta3 = sym.symbols('alpha3 a3 d3 theta3')\n",
    "\n",
    "    # Define the individual transformation matrices\n",
    "    T_0_1 = sym.Matrix([[sym.cos(theta1), -sym.sin(theta1)*sym.cos(alpha1), sym.sin(theta1)*sym.sin(alpha1), a1*sym.cos(theta1)],\n",
    "                       [sym.sin(theta1), sym.cos(theta1)*sym.cos(alpha1), -sym.cos(theta1)*sym.sin(alpha1), a1*sym.sin(theta1)],\n",
    "                       [0, sym.sin(alpha1), sym.cos(alpha1), d1],\n",
    "                       [0, 0, 0, 1]])\n",
    "    T_1_2 = sym.Matrix([[sym.cos(theta2), -sym.sin(theta2)*sym.cos(alpha2), sym.sin(theta2)*sym.sin(alpha2), a2*sym.cos(theta2)],\n",
    "                       [sym.sin(theta2), sym.cos(theta2)*sym.cos(alpha2), -sym.cos(theta2)*sym.sin(alpha2), a2*sym.sin(theta2)],\n",
    "                       [0, sym.sin(alpha2), sym.cos(alpha2), d2],\n",
    "                       [0, 0, 0, 1]])\n",
    "    T_2_3 = sym.Matrix([[sym.cos(theta3), -sym.sin(theta3)*sym.cos(alpha3), sym.sin(theta3)*sym.sin(alpha3), a3*sym.cos(theta3)],\n",
    "                       [sym.sin(theta3), sym.cos(theta3)*sym.cos(alpha3), -sym.cos(theta3)*sym.sin(alpha3), a3*sym.sin(theta3)],\n",
    "                       [0, sym.sin(alpha3), sym.cos(alpha3), d3],\n",
    "                       [0, 0, 0, 1]])\n",
    "    # Compute the overall transformation matrix\n",
    "    T_0_n = T_0_1 * T_1_2 * T_2_3\n",
    "    #T_0_n = sym.trigsimp(T_0_n)\n",
    "    #T02_simplify= sym.Matrix([[sym.trigsimp(T_0_n[0,1].simplify()), sym.trigsimp(T_0_n[0,2].simplify()),sym.trigsimp(T_0_n[0,2].simplify()), sym.trigsimp(T_0_n[0,3].simplify())],\n",
    "       #          [sym.trigsimp(T_0_n[1,0].simplify()), sym.trigsimp(T_0_n[1,1].simplify()),sym.trigsimp(T_0_n[1,2].simplify()), sym.trigsimp(T_0_n[1,3].simplify())],\n",
    "      #           [sym.trigsimp(T_0_n[2,0].simplify()), sym.trigsimp(T_0_n[2,1].simplify()),sym.trigsimp(T_0_n[2,2].simplify()), sym.trigsimp(T_0_n[2,3].simplify())],\n",
    "     #            [sym.trigsimp(T_0_n[3,0].simplify()), sym.trigsimp(T_0_n[3,1].simplify()),sym.trigsimp(T_0_n[3,2].simplify()), sym.trigsimp(T_0_n[3,3].simplify())]])\n",
    "    \n",
    "    #return T02_simplify\n",
    "    T_0_n = T_0_n.applyfunc(sym.trigsimp)\n",
    "    return T_0_n\n",
    "#print(forward_kinematics_symbolic())"
   ]
  },
  {
   "cell_type": "code",
   "execution_count": null,
   "id": "357977a6-b32c-444c-b6ee-e1a6534948e2",
   "metadata": {},
   "outputs": [],
   "source": []
  },
  {
   "cell_type": "code",
   "execution_count": null,
   "id": "2b39759f-3893-4410-b93e-8afe301a962b",
   "metadata": {},
   "outputs": [],
   "source": []
  }
 ],
 "metadata": {
  "kernelspec": {
   "display_name": "Python 3 (ipykernel)",
   "language": "python",
   "name": "python3"
  },
  "language_info": {
   "codemirror_mode": {
    "name": "ipython",
    "version": 3
   },
   "file_extension": ".py",
   "mimetype": "text/x-python",
   "name": "python",
   "nbconvert_exporter": "python",
   "pygments_lexer": "ipython3",
   "version": "3.10.6"
  }
 },
 "nbformat": 4,
 "nbformat_minor": 5
}
