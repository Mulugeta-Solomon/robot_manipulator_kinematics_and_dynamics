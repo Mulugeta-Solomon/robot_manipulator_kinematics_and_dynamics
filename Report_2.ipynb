{
 "cells": [
  {
   "cell_type": "markdown",
   "id": "124c95fe-8374-4632-8d3a-1206ebc2c347",
   "metadata": {
    "tags": []
   },
   "source": [
    "## Kinematics and velocity relation using DH Method "
   ]
  },
  {
   "cell_type": "code",
   "execution_count": 5,
   "id": "4686dbba-36a2-4195-abcd-ce1c31ada5c6",
   "metadata": {},
   "outputs": [],
   "source": [
    "import sympy as sym"
   ]
  },
  {
   "cell_type": "code",
   "execution_count": 6,
   "id": "8420ce48-446f-46ae-9a9a-fc3cb61b6f53",
   "metadata": {},
   "outputs": [],
   "source": [
    "from sympy.physics.vector import init_vprinting\n",
    "init_vprinting(use_latex='mathjax', pretty_print=False)"
   ]
  },
  {
   "cell_type": "code",
   "execution_count": 7,
   "id": "57a7309e-a46b-47c8-a5b8-affc0308676d",
   "metadata": {},
   "outputs": [],
   "source": [
    "from sympy.physics.mechanics import dynamicsymbols \n",
    "from sympy.physics.vector import *\n",
    "from sympy.vector import CoordSys3D\n",
    "N = CoordSys3D('N')"
   ]
  },
  {
   "cell_type": "code",
   "execution_count": 20,
   "id": "ca7f695e-6076-4422-9797-75a0d3bcbc13",
   "metadata": {},
   "outputs": [
    {
     "data": {
      "text/latex": [
       "$\\displaystyle \\left( \\theta_{1}, \\  \\theta_{2}, \\  \\theta_{3}, \\  \\theta_{4}, \\  \\theta_{5}, \\  \\theta_{6}, \\  l_{1}, \\  l_{2}, \\  l_{3}, \\  h_{1}, \\  \\theta, \\  \\alpha, \\  a, \\  d\\right)$"
      ],
      "text/plain": [
       "(theta1, theta2, theta3, theta4, theta5, theta6, l1, l2, l3, h1, theta, alpha, a, d)"
      ]
     },
     "execution_count": 20,
     "metadata": {},
     "output_type": "execute_result"
    }
   ],
   "source": [
    "theta1, theta2, theta3, theta4, theta5, theta6, l1, l2, l3, h1, theta, alpha, a, d = dynamicsymbols('theta1 theta2 theta3 theta4 theta5 theta6 l1 l2 l3 h1 theta alpha a d')\n",
    "theta1, theta2,theta3, theta4, theta5, theta6, l1, l2, l3, h1, theta, alpha, a, d "
   ]
  },
  {
   "cell_type": "markdown",
   "id": "d0003dba-a681-43ce-b2bf-d90b129b6f47",
   "metadata": {},
   "source": [
    "## DH Table \n",
    "### The DH table for 6DOF Link Robot Mnipulator shown above can be formulated as,"
   ]
  },
  {
   "cell_type": "code",
   "execution_count": 9,
   "id": "bc401741-33c5-4b9c-a2f5-a8f8c6104346",
   "metadata": {},
   "outputs": [
    {
     "data": {
      "text/latex": [
       "$\\displaystyle \\left[\\begin{matrix}\\cos{\\left(\\theta \\right)} & - \\sin{\\left(\\theta \\right)} & 0 & a\\\\\\sin{\\left(\\theta \\right)} \\cos{\\left(\\alpha \\right)} & \\cos{\\left(\\alpha \\right)} \\cos{\\left(\\theta \\right)} & - \\sin{\\left(\\alpha \\right)} & - d \\sin{\\left(\\alpha \\right)}\\\\\\sin{\\left(\\alpha \\right)} \\sin{\\left(\\theta \\right)} & \\sin{\\left(\\alpha \\right)} \\cos{\\left(\\theta \\right)} & \\cos{\\left(\\alpha \\right)} & d \\cos{\\left(\\alpha \\right)}\\\\0 & 0 & 0 & 1\\end{matrix}\\right]$"
      ],
      "text/plain": [
       "Matrix([\n",
       "[           cos(theta),           -sin(theta),           0,             a],\n",
       "[sin(theta)*cos(alpha), cos(alpha)*cos(theta), -sin(alpha), -d*sin(alpha)],\n",
       "[sin(alpha)*sin(theta), sin(alpha)*cos(theta),  cos(alpha),  d*cos(alpha)],\n",
       "[                    0,                     0,           0,             1]])"
      ]
     },
     "execution_count": 9,
     "metadata": {},
     "output_type": "execute_result"
    }
   ],
   "source": [
    "#rot_matrix = sym.Matrix([[sym.cos(theta), -sym.sin(theta)*sym.cos(alpha), sym.sin(theta)*sym.sin(alpha)],\n",
    "                # [sym.sin(theta), sym.cos(theta)*sym.cos(alpha), -sym.cos(theta)*sym.sin(alpha)],\n",
    "                 #[0, sym.sin(alpha), sym.cos(alpha)]])\n",
    "#trans_matrix = sym.Matrix([a*sym.cos(theta),a*sym.sin(theta),d])\n",
    "#T_homog = T_homog.subs({alpha:alpha1, a:a1,theta:theta1, d:d1})\n",
    "\n",
    "rot_matrix = sym.Matrix([[sym.cos(theta), -sym.sin(theta), 0],\n",
    "                 [sym.cos(alpha)*sym.sin(theta), sym.cos(alpha)*sym.cos(theta), -sym.sin(alpha)],\n",
    "                 [sym.sin(alpha)*sym.sin(theta), sym.sin(alpha)*sym.cos(theta), sym.cos(alpha)]])\n",
    "\n",
    "\n",
    "trans_matrix = sym.Matrix([a, -sym.sin(alpha)*d, sym.cos(alpha)*d])\n",
    "\n",
    "last_row = sym.Matrix([[0, 0, 0, 1]])\n",
    "\n",
    "T_homog = sym.Matrix.vstack(sym.Matrix.hstack(rot_matrix, trans_matrix), last_row)\n",
    "T_homog\n"
   ]
  },
  {
   "cell_type": "markdown",
   "id": "3c93dda8-8064-4bbc-aae8-24c340b75f24",
   "metadata": {},
   "source": [
    "### Finding the homogenious matrices for each joint "
   ]
  },
  {
   "cell_type": "code",
   "execution_count": 21,
   "id": "f52b7971-a58a-471e-bec8-4d6dcd2ce3f3",
   "metadata": {},
   "outputs": [
    {
     "data": {
      "text/latex": [
       "$\\displaystyle \\left[\\begin{matrix}\\cos{\\left(\\theta_{1} \\right)} & - \\sin{\\left(\\theta_{1} \\right)} & 0 & 0\\\\\\sin{\\left(\\theta_{1} \\right)} & \\cos{\\left(\\theta_{1} \\right)} & 0 & 0\\\\0 & 0 & 1 & h_{1}\\\\0 & 0 & 0 & 1\\end{matrix}\\right]$"
      ],
      "text/plain": [
       "Matrix([\n",
       "[cos(theta1), -sin(theta1), 0,  0],\n",
       "[sin(theta1),  cos(theta1), 0,  0],\n",
       "[          0,            0, 1, h1],\n",
       "[          0,            0, 0,  1]])"
      ]
     },
     "execution_count": 21,
     "metadata": {},
     "output_type": "execute_result"
    }
   ],
   "source": [
    "T0_1 = T_homog.subs({alpha:0, a:0, theta:theta1, d:h1})\n",
    "T0_1"
   ]
  },
  {
   "cell_type": "code",
   "execution_count": 22,
   "id": "cf51117c-efd8-43b2-bb72-84410657bc58",
   "metadata": {},
   "outputs": [
    {
     "data": {
      "text/latex": [
       "$\\displaystyle \\left[\\begin{matrix}\\cos{\\left(\\theta_{2} \\right)} & - \\sin{\\left(\\theta_{2} \\right)} & 0 & 0\\\\\\sin{\\left(\\theta_{2} \\right)} & \\cos{\\left(\\theta_{2} \\right)} & 0 & 0\\\\0 & 0 & 1 & 0\\\\0 & 0 & 0 & 1\\end{matrix}\\right]$"
      ],
      "text/plain": [
       "Matrix([\n",
       "[cos(theta2), -sin(theta2), 0, 0],\n",
       "[sin(theta2),  cos(theta2), 0, 0],\n",
       "[          0,            0, 1, 0],\n",
       "[          0,            0, 0, 1]])"
      ]
     },
     "execution_count": 22,
     "metadata": {},
     "output_type": "execute_result"
    }
   ],
   "source": [
    "T1_2 = T_homog.subs({alpha:0, a:0, theta:theta2, d:0})\n",
    "T1_2"
   ]
  },
  {
   "cell_type": "code",
   "execution_count": 24,
   "id": "3baa0f00-0412-4916-9c29-604bdfc380de",
   "metadata": {},
   "outputs": [
    {
     "data": {
      "text/latex": [
       "$\\displaystyle \\left[\\begin{matrix}\\cos{\\left(\\theta_{3} \\right)} & - \\sin{\\left(\\theta_{3} \\right)} & 0 & l_{1}\\\\0 & 0 & -1 & 0\\\\\\sin{\\left(\\theta_{3} \\right)} & \\cos{\\left(\\theta_{3} \\right)} & 0 & 0\\\\0 & 0 & 0 & 1\\end{matrix}\\right]$"
      ],
      "text/plain": [
       "Matrix([\n",
       "[cos(theta3), -sin(theta3),  0, l1],\n",
       "[          0,            0, -1,  0],\n",
       "[sin(theta3),  cos(theta3),  0,  0],\n",
       "[          0,            0,  0,  1]])"
      ]
     },
     "execution_count": 24,
     "metadata": {},
     "output_type": "execute_result"
    }
   ],
   "source": [
    "T2_3 = T_homog.subs({alpha:sym.pi/2, a:l1, theta:theta3, d:0})\n",
    "T2_3"
   ]
  },
  {
   "cell_type": "code",
   "execution_count": 26,
   "id": "d417c804-8652-48c0-82b0-fe8a276d227e",
   "metadata": {},
   "outputs": [
    {
     "data": {
      "text/latex": [
       "$\\displaystyle \\left[\\begin{matrix}\\cos{\\left(\\theta_{4} \\right)} & - \\sin{\\left(\\theta_{4} \\right)} & 0 & l_{2}\\\\\\sin{\\left(\\theta_{4} \\right)} & \\cos{\\left(\\theta_{4} \\right)} & 0 & 0\\\\0 & 0 & 1 & 0\\\\0 & 0 & 0 & 1\\end{matrix}\\right]$"
      ],
      "text/plain": [
       "Matrix([\n",
       "[cos(theta4), -sin(theta4), 0, l2],\n",
       "[sin(theta4),  cos(theta4), 0,  0],\n",
       "[          0,            0, 1,  0],\n",
       "[          0,            0, 0,  1]])"
      ]
     },
     "execution_count": 26,
     "metadata": {},
     "output_type": "execute_result"
    }
   ],
   "source": [
    "T3_4 = T_homog.subs({alpha:0, a:l2, theta:theta4, d:0})\n",
    "T3_4"
   ]
  },
  {
   "cell_type": "code",
   "execution_count": 29,
   "id": "a60b5ee9-ed4f-4cd4-b44a-4645dfe3e5bb",
   "metadata": {},
   "outputs": [
    {
     "data": {
      "text/latex": [
       "$\\displaystyle \\left[\\begin{matrix}\\cos{\\left(\\theta_{5} \\right)} & - \\sin{\\left(\\theta_{5} \\right)} & 0 & l_{3}\\\\\\sin{\\left(\\theta_{5} \\right)} & \\cos{\\left(\\theta_{5} \\right)} & 0 & 0\\\\0 & 0 & 1 & 0\\\\0 & 0 & 0 & 1\\end{matrix}\\right]$"
      ],
      "text/plain": [
       "Matrix([\n",
       "[cos(theta5), -sin(theta5), 0, l3],\n",
       "[sin(theta5),  cos(theta5), 0,  0],\n",
       "[          0,            0, 1,  0],\n",
       "[          0,            0, 0,  1]])"
      ]
     },
     "execution_count": 29,
     "metadata": {},
     "output_type": "execute_result"
    }
   ],
   "source": [
    "T4_5 = T_homog.subs({alpha:0, a:l3, theta:theta5, d:0})\n",
    "T4_5"
   ]
  },
  {
   "cell_type": "code",
   "execution_count": 32,
   "id": "59f72b40-255d-4eea-9031-9f5d7e5225e2",
   "metadata": {},
   "outputs": [
    {
     "data": {
      "text/latex": [
       "$\\displaystyle \\left[\\begin{matrix}\\cos{\\left(\\theta_{6} \\right)} & - \\sin{\\left(\\theta_{6} \\right)} & 0 & 0\\\\0 & 0 & 1 & 0\\\\- \\sin{\\left(\\theta_{6} \\right)} & - \\cos{\\left(\\theta_{6} \\right)} & 0 & 0\\\\0 & 0 & 0 & 1\\end{matrix}\\right]$"
      ],
      "text/plain": [
       "Matrix([\n",
       "[ cos(theta6), -sin(theta6), 0, 0],\n",
       "[           0,            0, 1, 0],\n",
       "[-sin(theta6), -cos(theta6), 0, 0],\n",
       "[           0,            0, 0, 1]])"
      ]
     },
     "execution_count": 32,
     "metadata": {},
     "output_type": "execute_result"
    }
   ],
   "source": [
    "T5_6 = T_homog.subs({alpha:-sym.pi/2, a:0, theta:theta6, d:0})\n",
    "T5_6"
   ]
  },
  {
   "cell_type": "code",
   "execution_count": 33,
   "id": "a2c54cfb-bbed-4042-b907-df9e8cb9631e",
   "metadata": {},
   "outputs": [
    {
     "data": {
      "text/latex": [
       "$\\displaystyle \\left[\\begin{matrix}1 & 0 & 0 & 0\\\\0 & 0 & -1 & 0\\\\0 & 1 & 0 & 0\\\\0 & 0 & 0 & 1\\end{matrix}\\right]$"
      ],
      "text/plain": [
       "Matrix([\n",
       "[1, 0,  0, 0],\n",
       "[0, 0, -1, 0],\n",
       "[0, 1,  0, 0],\n",
       "[0, 0,  0, 1]])"
      ]
     },
     "execution_count": 33,
     "metadata": {},
     "output_type": "execute_result"
    }
   ],
   "source": [
    "T6_E = T_homog.subs({alpha:sym.pi/2, a:0, theta:0, d:0})\n",
    "T6_E"
   ]
  },
  {
   "cell_type": "code",
   "execution_count": 34,
   "id": "ad500599-5189-4f1e-9a87-dcf69e228466",
   "metadata": {},
   "outputs": [
    {
     "data": {
      "text/latex": [
       "$\\displaystyle \\left[\\begin{matrix}\\left(\\left(- \\left(- \\sin{\\left(\\theta_{1} \\right)} \\sin{\\left(\\theta_{2} \\right)} + \\cos{\\left(\\theta_{1} \\right)} \\cos{\\left(\\theta_{2} \\right)}\\right) \\sin{\\left(\\theta_{3} \\right)} \\sin{\\left(\\theta_{4} \\right)} + \\left(- \\sin{\\left(\\theta_{1} \\right)} \\sin{\\left(\\theta_{2} \\right)} + \\cos{\\left(\\theta_{1} \\right)} \\cos{\\left(\\theta_{2} \\right)}\\right) \\cos{\\left(\\theta_{3} \\right)} \\cos{\\left(\\theta_{4} \\right)}\\right) \\cos{\\left(\\theta_{5} \\right)} + \\left(- \\left(- \\sin{\\left(\\theta_{1} \\right)} \\sin{\\left(\\theta_{2} \\right)} + \\cos{\\left(\\theta_{1} \\right)} \\cos{\\left(\\theta_{2} \\right)}\\right) \\sin{\\left(\\theta_{3} \\right)} \\cos{\\left(\\theta_{4} \\right)} - \\left(- \\sin{\\left(\\theta_{1} \\right)} \\sin{\\left(\\theta_{2} \\right)} + \\cos{\\left(\\theta_{1} \\right)} \\cos{\\left(\\theta_{2} \\right)}\\right) \\sin{\\left(\\theta_{4} \\right)} \\cos{\\left(\\theta_{3} \\right)}\\right) \\sin{\\left(\\theta_{5} \\right)}\\right) \\cos{\\left(\\theta_{6} \\right)} - \\left(\\sin{\\left(\\theta_{1} \\right)} \\cos{\\left(\\theta_{2} \\right)} + \\sin{\\left(\\theta_{2} \\right)} \\cos{\\left(\\theta_{1} \\right)}\\right) \\sin{\\left(\\theta_{6} \\right)} & - \\left(- \\left(- \\sin{\\left(\\theta_{1} \\right)} \\sin{\\left(\\theta_{2} \\right)} + \\cos{\\left(\\theta_{1} \\right)} \\cos{\\left(\\theta_{2} \\right)}\\right) \\sin{\\left(\\theta_{3} \\right)} \\sin{\\left(\\theta_{4} \\right)} + \\left(- \\sin{\\left(\\theta_{1} \\right)} \\sin{\\left(\\theta_{2} \\right)} + \\cos{\\left(\\theta_{1} \\right)} \\cos{\\left(\\theta_{2} \\right)}\\right) \\cos{\\left(\\theta_{3} \\right)} \\cos{\\left(\\theta_{4} \\right)}\\right) \\sin{\\left(\\theta_{5} \\right)} + \\left(- \\left(- \\sin{\\left(\\theta_{1} \\right)} \\sin{\\left(\\theta_{2} \\right)} + \\cos{\\left(\\theta_{1} \\right)} \\cos{\\left(\\theta_{2} \\right)}\\right) \\sin{\\left(\\theta_{3} \\right)} \\cos{\\left(\\theta_{4} \\right)} - \\left(- \\sin{\\left(\\theta_{1} \\right)} \\sin{\\left(\\theta_{2} \\right)} + \\cos{\\left(\\theta_{1} \\right)} \\cos{\\left(\\theta_{2} \\right)}\\right) \\sin{\\left(\\theta_{4} \\right)} \\cos{\\left(\\theta_{3} \\right)}\\right) \\cos{\\left(\\theta_{5} \\right)} & \\left(\\left(- \\left(- \\sin{\\left(\\theta_{1} \\right)} \\sin{\\left(\\theta_{2} \\right)} + \\cos{\\left(\\theta_{1} \\right)} \\cos{\\left(\\theta_{2} \\right)}\\right) \\sin{\\left(\\theta_{3} \\right)} \\sin{\\left(\\theta_{4} \\right)} + \\left(- \\sin{\\left(\\theta_{1} \\right)} \\sin{\\left(\\theta_{2} \\right)} + \\cos{\\left(\\theta_{1} \\right)} \\cos{\\left(\\theta_{2} \\right)}\\right) \\cos{\\left(\\theta_{3} \\right)} \\cos{\\left(\\theta_{4} \\right)}\\right) \\cos{\\left(\\theta_{5} \\right)} + \\left(- \\left(- \\sin{\\left(\\theta_{1} \\right)} \\sin{\\left(\\theta_{2} \\right)} + \\cos{\\left(\\theta_{1} \\right)} \\cos{\\left(\\theta_{2} \\right)}\\right) \\sin{\\left(\\theta_{3} \\right)} \\cos{\\left(\\theta_{4} \\right)} - \\left(- \\sin{\\left(\\theta_{1} \\right)} \\sin{\\left(\\theta_{2} \\right)} + \\cos{\\left(\\theta_{1} \\right)} \\cos{\\left(\\theta_{2} \\right)}\\right) \\sin{\\left(\\theta_{4} \\right)} \\cos{\\left(\\theta_{3} \\right)}\\right) \\sin{\\left(\\theta_{5} \\right)}\\right) \\sin{\\left(\\theta_{6} \\right)} + \\left(\\sin{\\left(\\theta_{1} \\right)} \\cos{\\left(\\theta_{2} \\right)} + \\sin{\\left(\\theta_{2} \\right)} \\cos{\\left(\\theta_{1} \\right)}\\right) \\cos{\\left(\\theta_{6} \\right)} & \\left(- \\sin{\\left(\\theta_{1} \\right)} \\sin{\\left(\\theta_{2} \\right)} + \\cos{\\left(\\theta_{1} \\right)} \\cos{\\left(\\theta_{2} \\right)}\\right) l_{1} + \\left(- \\sin{\\left(\\theta_{1} \\right)} \\sin{\\left(\\theta_{2} \\right)} + \\cos{\\left(\\theta_{1} \\right)} \\cos{\\left(\\theta_{2} \\right)}\\right) l_{2} \\cos{\\left(\\theta_{3} \\right)} + \\left(- \\left(- \\sin{\\left(\\theta_{1} \\right)} \\sin{\\left(\\theta_{2} \\right)} + \\cos{\\left(\\theta_{1} \\right)} \\cos{\\left(\\theta_{2} \\right)}\\right) \\sin{\\left(\\theta_{3} \\right)} \\sin{\\left(\\theta_{4} \\right)} + \\left(- \\sin{\\left(\\theta_{1} \\right)} \\sin{\\left(\\theta_{2} \\right)} + \\cos{\\left(\\theta_{1} \\right)} \\cos{\\left(\\theta_{2} \\right)}\\right) \\cos{\\left(\\theta_{3} \\right)} \\cos{\\left(\\theta_{4} \\right)}\\right) l_{3}\\\\\\left(\\left(- \\left(\\sin{\\left(\\theta_{1} \\right)} \\cos{\\left(\\theta_{2} \\right)} + \\sin{\\left(\\theta_{2} \\right)} \\cos{\\left(\\theta_{1} \\right)}\\right) \\sin{\\left(\\theta_{3} \\right)} \\sin{\\left(\\theta_{4} \\right)} + \\left(\\sin{\\left(\\theta_{1} \\right)} \\cos{\\left(\\theta_{2} \\right)} + \\sin{\\left(\\theta_{2} \\right)} \\cos{\\left(\\theta_{1} \\right)}\\right) \\cos{\\left(\\theta_{3} \\right)} \\cos{\\left(\\theta_{4} \\right)}\\right) \\cos{\\left(\\theta_{5} \\right)} + \\left(- \\left(\\sin{\\left(\\theta_{1} \\right)} \\cos{\\left(\\theta_{2} \\right)} + \\sin{\\left(\\theta_{2} \\right)} \\cos{\\left(\\theta_{1} \\right)}\\right) \\sin{\\left(\\theta_{3} \\right)} \\cos{\\left(\\theta_{4} \\right)} - \\left(\\sin{\\left(\\theta_{1} \\right)} \\cos{\\left(\\theta_{2} \\right)} + \\sin{\\left(\\theta_{2} \\right)} \\cos{\\left(\\theta_{1} \\right)}\\right) \\sin{\\left(\\theta_{4} \\right)} \\cos{\\left(\\theta_{3} \\right)}\\right) \\sin{\\left(\\theta_{5} \\right)}\\right) \\cos{\\left(\\theta_{6} \\right)} - \\left(\\sin{\\left(\\theta_{1} \\right)} \\sin{\\left(\\theta_{2} \\right)} - \\cos{\\left(\\theta_{1} \\right)} \\cos{\\left(\\theta_{2} \\right)}\\right) \\sin{\\left(\\theta_{6} \\right)} & - \\left(- \\left(\\sin{\\left(\\theta_{1} \\right)} \\cos{\\left(\\theta_{2} \\right)} + \\sin{\\left(\\theta_{2} \\right)} \\cos{\\left(\\theta_{1} \\right)}\\right) \\sin{\\left(\\theta_{3} \\right)} \\sin{\\left(\\theta_{4} \\right)} + \\left(\\sin{\\left(\\theta_{1} \\right)} \\cos{\\left(\\theta_{2} \\right)} + \\sin{\\left(\\theta_{2} \\right)} \\cos{\\left(\\theta_{1} \\right)}\\right) \\cos{\\left(\\theta_{3} \\right)} \\cos{\\left(\\theta_{4} \\right)}\\right) \\sin{\\left(\\theta_{5} \\right)} + \\left(- \\left(\\sin{\\left(\\theta_{1} \\right)} \\cos{\\left(\\theta_{2} \\right)} + \\sin{\\left(\\theta_{2} \\right)} \\cos{\\left(\\theta_{1} \\right)}\\right) \\sin{\\left(\\theta_{3} \\right)} \\cos{\\left(\\theta_{4} \\right)} - \\left(\\sin{\\left(\\theta_{1} \\right)} \\cos{\\left(\\theta_{2} \\right)} + \\sin{\\left(\\theta_{2} \\right)} \\cos{\\left(\\theta_{1} \\right)}\\right) \\sin{\\left(\\theta_{4} \\right)} \\cos{\\left(\\theta_{3} \\right)}\\right) \\cos{\\left(\\theta_{5} \\right)} & \\left(\\left(- \\left(\\sin{\\left(\\theta_{1} \\right)} \\cos{\\left(\\theta_{2} \\right)} + \\sin{\\left(\\theta_{2} \\right)} \\cos{\\left(\\theta_{1} \\right)}\\right) \\sin{\\left(\\theta_{3} \\right)} \\sin{\\left(\\theta_{4} \\right)} + \\left(\\sin{\\left(\\theta_{1} \\right)} \\cos{\\left(\\theta_{2} \\right)} + \\sin{\\left(\\theta_{2} \\right)} \\cos{\\left(\\theta_{1} \\right)}\\right) \\cos{\\left(\\theta_{3} \\right)} \\cos{\\left(\\theta_{4} \\right)}\\right) \\cos{\\left(\\theta_{5} \\right)} + \\left(- \\left(\\sin{\\left(\\theta_{1} \\right)} \\cos{\\left(\\theta_{2} \\right)} + \\sin{\\left(\\theta_{2} \\right)} \\cos{\\left(\\theta_{1} \\right)}\\right) \\sin{\\left(\\theta_{3} \\right)} \\cos{\\left(\\theta_{4} \\right)} - \\left(\\sin{\\left(\\theta_{1} \\right)} \\cos{\\left(\\theta_{2} \\right)} + \\sin{\\left(\\theta_{2} \\right)} \\cos{\\left(\\theta_{1} \\right)}\\right) \\sin{\\left(\\theta_{4} \\right)} \\cos{\\left(\\theta_{3} \\right)}\\right) \\sin{\\left(\\theta_{5} \\right)}\\right) \\sin{\\left(\\theta_{6} \\right)} + \\left(\\sin{\\left(\\theta_{1} \\right)} \\sin{\\left(\\theta_{2} \\right)} - \\cos{\\left(\\theta_{1} \\right)} \\cos{\\left(\\theta_{2} \\right)}\\right) \\cos{\\left(\\theta_{6} \\right)} & \\left(\\sin{\\left(\\theta_{1} \\right)} \\cos{\\left(\\theta_{2} \\right)} + \\sin{\\left(\\theta_{2} \\right)} \\cos{\\left(\\theta_{1} \\right)}\\right) l_{1} + \\left(\\sin{\\left(\\theta_{1} \\right)} \\cos{\\left(\\theta_{2} \\right)} + \\sin{\\left(\\theta_{2} \\right)} \\cos{\\left(\\theta_{1} \\right)}\\right) l_{2} \\cos{\\left(\\theta_{3} \\right)} + \\left(- \\left(\\sin{\\left(\\theta_{1} \\right)} \\cos{\\left(\\theta_{2} \\right)} + \\sin{\\left(\\theta_{2} \\right)} \\cos{\\left(\\theta_{1} \\right)}\\right) \\sin{\\left(\\theta_{3} \\right)} \\sin{\\left(\\theta_{4} \\right)} + \\left(\\sin{\\left(\\theta_{1} \\right)} \\cos{\\left(\\theta_{2} \\right)} + \\sin{\\left(\\theta_{2} \\right)} \\cos{\\left(\\theta_{1} \\right)}\\right) \\cos{\\left(\\theta_{3} \\right)} \\cos{\\left(\\theta_{4} \\right)}\\right) l_{3}\\\\\\left(\\left(- \\sin{\\left(\\theta_{3} \\right)} \\sin{\\left(\\theta_{4} \\right)} + \\cos{\\left(\\theta_{3} \\right)} \\cos{\\left(\\theta_{4} \\right)}\\right) \\sin{\\left(\\theta_{5} \\right)} + \\left(\\sin{\\left(\\theta_{3} \\right)} \\cos{\\left(\\theta_{4} \\right)} + \\sin{\\left(\\theta_{4} \\right)} \\cos{\\left(\\theta_{3} \\right)}\\right) \\cos{\\left(\\theta_{5} \\right)}\\right) \\cos{\\left(\\theta_{6} \\right)} & \\left(- \\sin{\\left(\\theta_{3} \\right)} \\sin{\\left(\\theta_{4} \\right)} + \\cos{\\left(\\theta_{3} \\right)} \\cos{\\left(\\theta_{4} \\right)}\\right) \\cos{\\left(\\theta_{5} \\right)} - \\left(\\sin{\\left(\\theta_{3} \\right)} \\cos{\\left(\\theta_{4} \\right)} + \\sin{\\left(\\theta_{4} \\right)} \\cos{\\left(\\theta_{3} \\right)}\\right) \\sin{\\left(\\theta_{5} \\right)} & \\left(\\left(- \\sin{\\left(\\theta_{3} \\right)} \\sin{\\left(\\theta_{4} \\right)} + \\cos{\\left(\\theta_{3} \\right)} \\cos{\\left(\\theta_{4} \\right)}\\right) \\sin{\\left(\\theta_{5} \\right)} + \\left(\\sin{\\left(\\theta_{3} \\right)} \\cos{\\left(\\theta_{4} \\right)} + \\sin{\\left(\\theta_{4} \\right)} \\cos{\\left(\\theta_{3} \\right)}\\right) \\cos{\\left(\\theta_{5} \\right)}\\right) \\sin{\\left(\\theta_{6} \\right)} & \\left(\\sin{\\left(\\theta_{3} \\right)} \\cos{\\left(\\theta_{4} \\right)} + \\sin{\\left(\\theta_{4} \\right)} \\cos{\\left(\\theta_{3} \\right)}\\right) l_{3} + h_{1} + l_{2} \\sin{\\left(\\theta_{3} \\right)}\\\\0 & 0 & 0 & 1\\end{matrix}\\right]$"
      ],
      "text/plain": [
       "Matrix([\n",
       "[((-(-sin(theta1)*sin(theta2) + cos(theta1)*cos(theta2))*sin(theta3)*sin(theta4) + (-sin(theta1)*sin(theta2) + cos(theta1)*cos(theta2))*cos(theta3)*cos(theta4))*cos(theta5) + (-(-sin(theta1)*sin(theta2) + cos(theta1)*cos(theta2))*sin(theta3)*cos(theta4) - (-sin(theta1)*sin(theta2) + cos(theta1)*cos(theta2))*sin(theta4)*cos(theta3))*sin(theta5))*cos(theta6) - (sin(theta1)*cos(theta2) + sin(theta2)*cos(theta1))*sin(theta6), -(-(-sin(theta1)*sin(theta2) + cos(theta1)*cos(theta2))*sin(theta3)*sin(theta4) + (-sin(theta1)*sin(theta2) + cos(theta1)*cos(theta2))*cos(theta3)*cos(theta4))*sin(theta5) + (-(-sin(theta1)*sin(theta2) + cos(theta1)*cos(theta2))*sin(theta3)*cos(theta4) - (-sin(theta1)*sin(theta2) + cos(theta1)*cos(theta2))*sin(theta4)*cos(theta3))*cos(theta5), ((-(-sin(theta1)*sin(theta2) + cos(theta1)*cos(theta2))*sin(theta3)*sin(theta4) + (-sin(theta1)*sin(theta2) + cos(theta1)*cos(theta2))*cos(theta3)*cos(theta4))*cos(theta5) + (-(-sin(theta1)*sin(theta2) + cos(theta1)*cos(theta2))*sin(theta3)*cos(theta4) - (-sin(theta1)*sin(theta2) + cos(theta1)*cos(theta2))*sin(theta4)*cos(theta3))*sin(theta5))*sin(theta6) + (sin(theta1)*cos(theta2) + sin(theta2)*cos(theta1))*cos(theta6), (-sin(theta1)*sin(theta2) + cos(theta1)*cos(theta2))*l1 + (-sin(theta1)*sin(theta2) + cos(theta1)*cos(theta2))*l2*cos(theta3) + (-(-sin(theta1)*sin(theta2) + cos(theta1)*cos(theta2))*sin(theta3)*sin(theta4) + (-sin(theta1)*sin(theta2) + cos(theta1)*cos(theta2))*cos(theta3)*cos(theta4))*l3],\n",
       "[    ((-(sin(theta1)*cos(theta2) + sin(theta2)*cos(theta1))*sin(theta3)*sin(theta4) + (sin(theta1)*cos(theta2) + sin(theta2)*cos(theta1))*cos(theta3)*cos(theta4))*cos(theta5) + (-(sin(theta1)*cos(theta2) + sin(theta2)*cos(theta1))*sin(theta3)*cos(theta4) - (sin(theta1)*cos(theta2) + sin(theta2)*cos(theta1))*sin(theta4)*cos(theta3))*sin(theta5))*cos(theta6) - (sin(theta1)*sin(theta2) - cos(theta1)*cos(theta2))*sin(theta6),     -(-(sin(theta1)*cos(theta2) + sin(theta2)*cos(theta1))*sin(theta3)*sin(theta4) + (sin(theta1)*cos(theta2) + sin(theta2)*cos(theta1))*cos(theta3)*cos(theta4))*sin(theta5) + (-(sin(theta1)*cos(theta2) + sin(theta2)*cos(theta1))*sin(theta3)*cos(theta4) - (sin(theta1)*cos(theta2) + sin(theta2)*cos(theta1))*sin(theta4)*cos(theta3))*cos(theta5),     ((-(sin(theta1)*cos(theta2) + sin(theta2)*cos(theta1))*sin(theta3)*sin(theta4) + (sin(theta1)*cos(theta2) + sin(theta2)*cos(theta1))*cos(theta3)*cos(theta4))*cos(theta5) + (-(sin(theta1)*cos(theta2) + sin(theta2)*cos(theta1))*sin(theta3)*cos(theta4) - (sin(theta1)*cos(theta2) + sin(theta2)*cos(theta1))*sin(theta4)*cos(theta3))*sin(theta5))*sin(theta6) + (sin(theta1)*sin(theta2) - cos(theta1)*cos(theta2))*cos(theta6),     (sin(theta1)*cos(theta2) + sin(theta2)*cos(theta1))*l1 + (sin(theta1)*cos(theta2) + sin(theta2)*cos(theta1))*l2*cos(theta3) + (-(sin(theta1)*cos(theta2) + sin(theta2)*cos(theta1))*sin(theta3)*sin(theta4) + (sin(theta1)*cos(theta2) + sin(theta2)*cos(theta1))*cos(theta3)*cos(theta4))*l3],\n",
       "[                                                                                                                                                                                                                                                                                       ((-sin(theta3)*sin(theta4) + cos(theta3)*cos(theta4))*sin(theta5) + (sin(theta3)*cos(theta4) + sin(theta4)*cos(theta3))*cos(theta5))*cos(theta6),                                                                                                                                                                                                                       (-sin(theta3)*sin(theta4) + cos(theta3)*cos(theta4))*cos(theta5) - (sin(theta3)*cos(theta4) + sin(theta4)*cos(theta3))*sin(theta5),                                                                                                                                                                                                                                                                                        ((-sin(theta3)*sin(theta4) + cos(theta3)*cos(theta4))*sin(theta5) + (sin(theta3)*cos(theta4) + sin(theta4)*cos(theta3))*cos(theta5))*sin(theta6),                                                                                                                                                                                                                      (sin(theta3)*cos(theta4) + sin(theta4)*cos(theta3))*l3 + h1 + l2*sin(theta3)],\n",
       "[                                                                                                                                                                                                                                                                                                                                                                                                                                      0,                                                                                                                                                                                                                                                                                                                                                        0,                                                                                                                                                                                                                                                                                                                                                                                                                                       0,                                                                                                                                                                                                                                                                                                 1]])"
      ]
     },
     "execution_count": 34,
     "metadata": {},
     "output_type": "execute_result"
    }
   ],
   "source": [
    "T_B_E = (T0_1 * T1_2 * T2_3 * T3_4 * T4_5 * T5_6 * T6_E)\n",
    "#T02 = T02.subs({ theta1:sym.pi/2, theta2: sym.pi/3,  l1:0.5, h1:0.5, h2:0.5, h3:0.5,})\n",
    "T_B_E"
   ]
  },
  {
   "cell_type": "markdown",
   "id": "37654298-b150-4660-b7ee-57253b6ca949",
   "metadata": {},
   "source": [
    "##### Simplify the final transformation matrix"
   ]
  },
  {
   "cell_type": "code",
   "execution_count": 35,
   "id": "afd91f9d-34c3-4c86-a9c1-dcb6f6fa0871",
   "metadata": {},
   "outputs": [
    {
     "data": {
      "text/latex": [
       "$\\displaystyle \\left[\\begin{matrix}- \\sin{\\left(\\theta_{1} + \\theta_{2} \\right)} \\sin{\\left(\\theta_{6} \\right)} + \\cos{\\left(\\theta_{1} + \\theta_{2} \\right)} \\cos{\\left(\\theta_{3} + \\theta_{4} + \\theta_{5} \\right)} \\cos{\\left(\\theta_{6} \\right)} & - \\sin{\\left(\\theta_{3} + \\theta_{4} + \\theta_{5} \\right)} \\cos{\\left(\\theta_{1} + \\theta_{2} \\right)} & \\sin{\\left(\\theta_{1} + \\theta_{2} \\right)} \\cos{\\left(\\theta_{6} \\right)} + \\sin{\\left(\\theta_{6} \\right)} \\cos{\\left(\\theta_{1} + \\theta_{2} \\right)} \\cos{\\left(\\theta_{3} + \\theta_{4} + \\theta_{5} \\right)} & \\left(l_{1} + l_{2} \\cos{\\left(\\theta_{3} \\right)} + l_{3} \\cos{\\left(\\theta_{3} + \\theta_{4} \\right)}\\right) \\cos{\\left(\\theta_{1} + \\theta_{2} \\right)}\\\\\\sin{\\left(\\theta_{1} + \\theta_{2} \\right)} \\cos{\\left(\\theta_{3} + \\theta_{4} + \\theta_{5} \\right)} \\cos{\\left(\\theta_{6} \\right)} + \\sin{\\left(\\theta_{6} \\right)} \\cos{\\left(\\theta_{1} + \\theta_{2} \\right)} & - \\sin{\\left(\\theta_{1} + \\theta_{2} \\right)} \\sin{\\left(\\theta_{3} + \\theta_{4} + \\theta_{5} \\right)} & \\sin{\\left(\\theta_{1} + \\theta_{2} \\right)} \\sin{\\left(\\theta_{6} \\right)} \\cos{\\left(\\theta_{3} + \\theta_{4} + \\theta_{5} \\right)} - \\cos{\\left(\\theta_{1} + \\theta_{2} \\right)} \\cos{\\left(\\theta_{6} \\right)} & \\left(l_{1} + l_{2} \\cos{\\left(\\theta_{3} \\right)} + l_{3} \\cos{\\left(\\theta_{3} + \\theta_{4} \\right)}\\right) \\sin{\\left(\\theta_{1} + \\theta_{2} \\right)}\\\\\\sin{\\left(\\theta_{3} + \\theta_{4} + \\theta_{5} \\right)} \\cos{\\left(\\theta_{6} \\right)} & \\cos{\\left(\\theta_{3} + \\theta_{4} + \\theta_{5} \\right)} & \\sin{\\left(\\theta_{3} + \\theta_{4} + \\theta_{5} \\right)} \\sin{\\left(\\theta_{6} \\right)} & h_{1} + l_{2} \\sin{\\left(\\theta_{3} \\right)} + l_{3} \\sin{\\left(\\theta_{3} + \\theta_{4} \\right)}\\\\0 & 0 & 0 & 1\\end{matrix}\\right]$"
      ],
      "text/plain": [
       "Matrix([\n",
       "[-sin(theta1 + theta2)*sin(theta6) + cos(theta1 + theta2)*cos(theta3 + theta4 + theta5)*cos(theta6), -sin(theta3 + theta4 + theta5)*cos(theta1 + theta2), sin(theta1 + theta2)*cos(theta6) + sin(theta6)*cos(theta1 + theta2)*cos(theta3 + theta4 + theta5), (l1 + l2*cos(theta3) + l3*cos(theta3 + theta4))*cos(theta1 + theta2)],\n",
       "[ sin(theta1 + theta2)*cos(theta3 + theta4 + theta5)*cos(theta6) + sin(theta6)*cos(theta1 + theta2), -sin(theta1 + theta2)*sin(theta3 + theta4 + theta5), sin(theta1 + theta2)*sin(theta6)*cos(theta3 + theta4 + theta5) - cos(theta1 + theta2)*cos(theta6), (l1 + l2*cos(theta3) + l3*cos(theta3 + theta4))*sin(theta1 + theta2)],\n",
       "[                                                         sin(theta3 + theta4 + theta5)*cos(theta6),                       cos(theta3 + theta4 + theta5),                                                         sin(theta3 + theta4 + theta5)*sin(theta6),                        h1 + l2*sin(theta3) + l3*sin(theta3 + theta4)],\n",
       "[                                                                                                 0,                                                   0,                                                                                                 0,                                                                    1]])"
      ]
     },
     "execution_count": 35,
     "metadata": {},
     "output_type": "execute_result"
    }
   ],
   "source": [
    "T_B_E_simplify= sym.Matrix([[T_B_E[0,0].simplify(), T_B_E[0,1].simplify(),T_B_E[0,2].simplify(), sym.trigsimp(T_B_E[0,3].simplify())],\n",
    "                 [T_B_E[1,0].simplify(), T_B_E[1,1].simplify(), T_B_E[1,2].simplify(), sym.trigsimp(T_B_E[1,3].simplify())],\n",
    "                 [T_B_E[2,0].simplify(), T_B_E[2,1].simplify(), T_B_E[2,2].simplify(), sym.trigsimp(T_B_E[2,3].simplify())],\n",
    "                 [T_B_E[3,0].simplify(), T_B_E[3,1].simplify(), T_B_E[3,2].simplify(), sym.trigsimp(T_B_E[3,3].simplify())]])\n",
    "\n",
    "T_B_E_simplify"
   ]
  },
  {
   "cell_type": "markdown",
   "id": "64192f85-b8a9-4292-9293-c9f7e7a33547",
   "metadata": {},
   "source": [
    "## Finding the Jacobian matrix"
   ]
  },
  {
   "cell_type": "code",
   "execution_count": 38,
   "id": "7cc488bb-2522-426a-84b3-eebd8bea3119",
   "metadata": {},
   "outputs": [
    {
     "data": {
      "text/latex": [
       "$\\displaystyle \\left[\\begin{matrix}- \\left(l_{1} + l_{2} \\cos{\\left(\\theta_{3} \\right)} + l_{3} \\cos{\\left(\\theta_{3} + \\theta_{4} \\right)}\\right) \\sin{\\left(\\theta_{1} + \\theta_{2} \\right)} & - \\left(l_{1} + l_{2} \\cos{\\left(\\theta_{3} \\right)} + l_{3} \\cos{\\left(\\theta_{3} + \\theta_{4} \\right)}\\right) \\sin{\\left(\\theta_{1} + \\theta_{2} \\right)} & \\left(- l_{2} \\sin{\\left(\\theta_{3} \\right)} - l_{3} \\sin{\\left(\\theta_{3} + \\theta_{4} \\right)}\\right) \\cos{\\left(\\theta_{1} + \\theta_{2} \\right)} & - l_{3} \\sin{\\left(\\theta_{3} + \\theta_{4} \\right)} \\cos{\\left(\\theta_{1} + \\theta_{2} \\right)} & 0 & 0\\\\\\left(l_{1} + l_{2} \\cos{\\left(\\theta_{3} \\right)} + l_{3} \\cos{\\left(\\theta_{3} + \\theta_{4} \\right)}\\right) \\cos{\\left(\\theta_{1} + \\theta_{2} \\right)} & \\left(l_{1} + l_{2} \\cos{\\left(\\theta_{3} \\right)} + l_{3} \\cos{\\left(\\theta_{3} + \\theta_{4} \\right)}\\right) \\cos{\\left(\\theta_{1} + \\theta_{2} \\right)} & \\left(- l_{2} \\sin{\\left(\\theta_{3} \\right)} - l_{3} \\sin{\\left(\\theta_{3} + \\theta_{4} \\right)}\\right) \\sin{\\left(\\theta_{1} + \\theta_{2} \\right)} & - l_{3} \\sin{\\left(\\theta_{1} + \\theta_{2} \\right)} \\sin{\\left(\\theta_{3} + \\theta_{4} \\right)} & 0 & 0\\\\0 & 0 & l_{2} \\cos{\\left(\\theta_{3} \\right)} + l_{3} \\cos{\\left(\\theta_{3} + \\theta_{4} \\right)} & l_{3} \\cos{\\left(\\theta_{3} + \\theta_{4} \\right)} & 0 & 0\\end{matrix}\\right]$"
      ],
      "text/plain": [
       "Matrix([\n",
       "[-(l1 + l2*cos(theta3) + l3*cos(theta3 + theta4))*sin(theta1 + theta2), -(l1 + l2*cos(theta3) + l3*cos(theta3 + theta4))*sin(theta1 + theta2), (-l2*sin(theta3) - l3*sin(theta3 + theta4))*cos(theta1 + theta2), -l3*sin(theta3 + theta4)*cos(theta1 + theta2), 0, 0],\n",
       "[ (l1 + l2*cos(theta3) + l3*cos(theta3 + theta4))*cos(theta1 + theta2),  (l1 + l2*cos(theta3) + l3*cos(theta3 + theta4))*cos(theta1 + theta2), (-l2*sin(theta3) - l3*sin(theta3 + theta4))*sin(theta1 + theta2), -l3*sin(theta1 + theta2)*sin(theta3 + theta4), 0, 0],\n",
       "[                                                                    0,                                                                     0,                         l2*cos(theta3) + l3*cos(theta3 + theta4),                       l3*cos(theta3 + theta4), 0, 0]])"
      ]
     },
     "execution_count": 38,
     "metadata": {},
     "output_type": "execute_result"
    }
   ],
   "source": [
    "T_B_E_Position = T_B_E_simplify[:3,3]\n",
    "# Define the Jacobian matrix\n",
    "J = sym.Matrix([[sym.diff(T_B_E_Position[0], theta1), sym.diff(T_B_E_Position[0], theta2), sym.diff(T_B_E_Position[0], theta3), sym.diff(T_B_E_Position[0], theta4),sym.diff(T_B_E_Position[0],theta5), sym.diff(T_B_E_Position[0],theta6)],\n",
    "[sym.diff(T_B_E_Position[1], theta1), sym.diff(T_B_E_Position[1], theta2), sym.diff(T_B_E_Position[1], theta3), sym.diff(T_B_E_Position[1], theta4), sym.diff(T_B_E_Position[1], theta5), sym.diff(T_B_E_Position[1], theta6)],\n",
    "[sym.diff(T_B_E_Position[2], theta1), sym.diff(T_B_E_Position[2], theta2), sym.diff(T_B_E_Position[2], theta3), sym.diff(T_B_E_Position[2], theta4), sym.diff(T_B_E_Position[2], theta5), sym.diff(T_B_E_Position[2], theta6)]])\n",
    "J"
   ]
  },
  {
   "cell_type": "code",
   "execution_count": 55,
   "id": "d8a93337-ba7d-4e21-ba12-2ce5aa1b6121",
   "metadata": {},
   "outputs": [
    {
     "data": {
      "text/latex": [
       "$\\displaystyle \\left[\\begin{matrix}\\cos{\\left(\\theta_{1} + \\theta_{2} \\right)} \\cos{\\left(\\theta_{3} \\right)} & - \\sin{\\left(\\theta_{3} \\right)} \\cos{\\left(\\theta_{1} + \\theta_{2} \\right)} & \\sin{\\left(\\theta_{1} + \\theta_{2} \\right)} & l_{1} \\cos{\\left(\\theta_{1} + \\theta_{2} \\right)}\\\\\\sin{\\left(\\theta_{1} + \\theta_{2} \\right)} \\cos{\\left(\\theta_{3} \\right)} & - \\sin{\\left(\\theta_{1} + \\theta_{2} \\right)} \\sin{\\left(\\theta_{3} \\right)} & - \\cos{\\left(\\theta_{1} + \\theta_{2} \\right)} & l_{1} \\sin{\\left(\\theta_{1} + \\theta_{2} \\right)}\\\\\\sin{\\left(\\theta_{3} \\right)} & \\cos{\\left(\\theta_{3} \\right)} & 0 & h_{1}\\\\0 & 0 & 0 & 1\\end{matrix}\\right]$"
      ],
      "text/plain": [
       "Matrix([\n",
       "[cos(theta1 + theta2)*cos(theta3), -sin(theta3)*cos(theta1 + theta2),  sin(theta1 + theta2), l1*cos(theta1 + theta2)],\n",
       "[sin(theta1 + theta2)*cos(theta3), -sin(theta1 + theta2)*sin(theta3), -cos(theta1 + theta2), l1*sin(theta1 + theta2)],\n",
       "[                     sin(theta3),                       cos(theta3),                     0,                      h1],\n",
       "[                               0,                                 0,                     0,                       1]])"
      ]
     },
     "execution_count": 55,
     "metadata": {},
     "output_type": "execute_result"
    }
   ],
   "source": [
    "T0_2 = T0_1 * T1_2\n",
    "T_0_2_simplify= sym.Matrix([[T0_2[0,0].simplify(), T0_2[0,1].simplify(),T0_2[0,2].simplify(), sym.trigsimp(T0_2[0,3].simplify())],\n",
    "                 [T0_2[1,0].simplify(), T0_2[1,1].simplify(), T0_2[1,2].simplify(), sym.trigsimp(T0_2[1,3].simplify())],\n",
    "                 [T0_2[2,0].simplify(), T0_2[2,1].simplify(), T0_2[2,2].simplify(), sym.trigsimp(T0_2[2,3].simplify())],\n",
    "                 [T0_2[3,0].simplify(), T0_2[3,1].simplify(), T0_2[3,2].simplify(), sym.trigsimp(T0_2[3,3].simplify())]])\n",
    "\n",
    "\n",
    "T0_3 = T0_1 * T1_2 * T2_3\n",
    "T_0_3_simplify= sym.Matrix([[T0_3[0,0].simplify(), T0_3[0,1].simplify(),T0_3[0,2].simplify(), sym.trigsimp(T0_3[0,3].simplify())],\n",
    "                 [T0_3[1,0].simplify(), T0_3[1,1].simplify(), T0_3[1,2].simplify(), sym.trigsimp(T0_3[1,3].simplify())],\n",
    "                 [T0_3[2,0].simplify(), T0_3[2,1].simplify(), T0_3[2,2].simplify(), sym.trigsimp(T0_3[2,3].simplify())],\n",
    "                 [T0_3[3,0].simplify(), T0_3[3,1].simplify(), T0_3[3,2].simplify(), sym.trigsimp(T0_3[3,3].simplify())]])\n",
    "\n",
    "T0_4 = T0_1 * T1_2 * T2_3 *T3_4\n",
    "T_0_4_simplify= sym.Matrix([[T0_4[0,0].simplify(), T0_4[0,1].simplify(),T0_4[0,2].simplify(), sym.trigsimp(T0_4[0,3].simplify())],\n",
    "                 [T0_4[1,0].simplify(), T0_4[1,1].simplify(), T0_4[1,2].simplify(), sym.trigsimp(T0_4[1,3].simplify())],\n",
    "                 [T0_4[2,0].simplify(), T0_4[2,1].simplify(), T0_4[2,2].simplify(), sym.trigsimp(T0_4[2,3].simplify())],\n",
    "                 [T0_4[3,0].simplify(), T0_4[3,1].simplify(), T0_4[3,2].simplify(), sym.trigsimp(T0_4[3,3].simplify())]])\n",
    "\n",
    "T0_5 = T0_1 * T1_2 * T2_3 * T3_4 * T4_5\n",
    "T_0_5_simplify= sym.Matrix([[T0_5[0,0].simplify(), T0_5[0,1].simplify(),T0_5[0,2].simplify(), sym.trigsimp(T0_5[0,3].simplify())],\n",
    "                 [T0_5[1,0].simplify(), T0_5[1,1].simplify(), T0_5[1,2].simplify(), sym.trigsimp(T0_5[1,3].simplify())],\n",
    "                 [T0_5[2,0].simplify(), T0_5[2,1].simplify(), T0_5[2,2].simplify(), sym.trigsimp(T0_5[2,3].simplify())],\n",
    "                 [T0_5[3,0].simplify(), T0_5[3,1].simplify(), T0_5[3,2].simplify(), sym.trigsimp(T0_5[3,3].simplify())]])\n"
   ]
  },
  {
   "cell_type": "code",
   "execution_count": 63,
   "id": "fecd1cf1-013e-4b53-9587-1a1f62d29fde",
   "metadata": {},
   "outputs": [
    {
     "data": {
      "text/latex": [
       "$\\displaystyle \\left[\\begin{matrix}\\left(- l_{2} \\sin{\\left(\\theta_{3} \\right)} - l_{3} \\sin{\\left(\\theta_{3} + \\theta_{4} \\right)}\\right) \\cos{\\left(\\theta_{1} + \\theta_{2} \\right)}\\\\\\left(- l_{2} \\sin{\\left(\\theta_{3} \\right)} - l_{3} \\sin{\\left(\\theta_{3} + \\theta_{4} \\right)}\\right) \\sin{\\left(\\theta_{1} + \\theta_{2} \\right)}\\\\l_{2} \\cos{\\left(\\theta_{3} \\right)} + l_{3} \\cos{\\left(\\theta_{3} + \\theta_{4} \\right)}\\\\\\sin{\\left(\\theta_{1} + \\theta_{2} \\right)}\\\\- \\cos{\\left(\\theta_{1} + \\theta_{2} \\right)}\\\\0\\end{matrix}\\right]$"
      ],
      "text/plain": [
       "Matrix([\n",
       "[(-l2*sin(theta3) - l3*sin(theta3 + theta4))*cos(theta1 + theta2)],\n",
       "[(-l2*sin(theta3) - l3*sin(theta3 + theta4))*sin(theta1 + theta2)],\n",
       "[                        l2*cos(theta3) + l3*cos(theta3 + theta4)],\n",
       "[                                            sin(theta1 + theta2)],\n",
       "[                                           -cos(theta1 + theta2)],\n",
       "[                                                               0]])"
      ]
     },
     "execution_count": 63,
     "metadata": {},
     "output_type": "execute_result"
    }
   ],
   "source": [
    "P_E = sym.Matrix([[T_B_E_simplify[0,3]],\n",
    "                 [T_B_E_simplify[1,3]],\n",
    "                 [T_B_E_simplify[2,3]]])\n",
    "\n",
    "P0_1 = sym.Matrix([[T0_1[0,3]],\n",
    "                 [T0_1[1,3]],\n",
    "                 [T0_1[2,3]]])\n",
    "\n",
    "P1_2 = sym.Matrix([[T_0_2_simplify[0,3]],\n",
    "                 [T_0_2_simplify[1,3]],\n",
    "                 [T_0_2_simplify[2,3]]])\n",
    "\n",
    "P2_3 = sym.Matrix([[T_0_3_simplify[0,3]],\n",
    "                 [T_0_3_simplify[1,3]],\n",
    "                 [T_0_3_simplify[2,3]]])\n",
    "\n",
    "Z0_1 = sym.Matrix([[T0_1[0,2]],\n",
    "                 [T0_1[1,2]],\n",
    "                 [T0_1[2,2]]])\n",
    "Z1_2 = sym.Matrix([[T_0_2_simplify[0,2]],\n",
    "                 [T_0_2_simplify[1,2]],\n",
    "                 [T_0_2_simplify[2,2]]])\n",
    "Z2_3 = sym.Matrix([[T_0_3_simplify[0,2]],\n",
    "                 [T_0_3_simplify[1,2]],\n",
    "                 [T_0_3_simplify[2,2]]])\n",
    "#Z2_3\n",
    "\n",
    "\n"
   ]
  },
  {
   "cell_type": "markdown",
   "id": "724d61ea-9139-4d20-8123-767c51c85a67",
   "metadata": {},
   "source": [
    "#### Find the jacobian for each column (joint vector)"
   ]
  },
  {
   "cell_type": "code",
   "execution_count": 65,
   "id": "14129b06-396a-4bc5-a7b1-4892bf78b33f",
   "metadata": {},
   "outputs": [
    {
     "data": {
      "text/latex": [
       "$\\displaystyle \\left[\\begin{matrix}\\left(- l_{2} \\sin{\\left(\\theta_{3} \\right)} - l_{3} \\sin{\\left(\\theta_{3} + \\theta_{4} \\right)}\\right) \\cos{\\left(\\theta_{1} + \\theta_{2} \\right)}\\\\\\left(- l_{2} \\sin{\\left(\\theta_{3} \\right)} - l_{3} \\sin{\\left(\\theta_{3} + \\theta_{4} \\right)}\\right) \\sin{\\left(\\theta_{1} + \\theta_{2} \\right)}\\\\l_{2} \\cos{\\left(\\theta_{3} \\right)} + l_{3} \\cos{\\left(\\theta_{3} + \\theta_{4} \\right)}\\\\\\sin{\\left(\\theta_{1} + \\theta_{2} \\right)}\\\\- \\cos{\\left(\\theta_{1} + \\theta_{2} \\right)}\\\\0\\end{matrix}\\right]$"
      ],
      "text/plain": [
       "Matrix([\n",
       "[(-l2*sin(theta3) - l3*sin(theta3 + theta4))*cos(theta1 + theta2)],\n",
       "[(-l2*sin(theta3) - l3*sin(theta3 + theta4))*sin(theta1 + theta2)],\n",
       "[                        l2*cos(theta3) + l3*cos(theta3 + theta4)],\n",
       "[                                            sin(theta1 + theta2)],\n",
       "[                                           -cos(theta1 + theta2)],\n",
       "[                                                               0]])"
      ]
     },
     "execution_count": 65,
     "metadata": {},
     "output_type": "execute_result"
    }
   ],
   "source": [
    "Jv_3_half = sym.Matrix([[J[0,2]],\n",
    "                 [J[1,2]],\n",
    "                 [J[2,2]]])\n",
    "Jv_3 = sym.Matrix.vstack(Jv_3_half, Z2_3)\n",
    "Jv_3"
   ]
  },
  {
   "cell_type": "code",
   "execution_count": 58,
   "id": "aae0cb8a-3b41-4618-a912-cdf0c4f43e73",
   "metadata": {},
   "outputs": [
    {
     "data": {
      "text/latex": [
       "$\\displaystyle \\left[\\begin{matrix}\\left(l_{1} + l_{2} \\cos{\\left(\\theta_{3} \\right)} + l_{3} \\cos{\\left(\\theta_{3} + \\theta_{4} \\right)}\\right) \\cos{\\left(\\theta_{1} + \\theta_{2} \\right)} - l_{1} \\cos{\\left(\\theta_{1} + \\theta_{2} \\right)}\\\\\\left(l_{1} + l_{2} \\cos{\\left(\\theta_{3} \\right)} + l_{3} \\cos{\\left(\\theta_{3} + \\theta_{4} \\right)}\\right) \\sin{\\left(\\theta_{1} + \\theta_{2} \\right)} - l_{1} \\sin{\\left(\\theta_{1} + \\theta_{2} \\right)}\\\\l_{2} \\sin{\\left(\\theta_{3} \\right)} + l_{3} \\sin{\\left(\\theta_{3} + \\theta_{4} \\right)}\\end{matrix}\\right]$"
      ],
      "text/plain": [
       "Matrix([\n",
       "[(l1 + l2*cos(theta3) + l3*cos(theta3 + theta4))*cos(theta1 + theta2) - l1*cos(theta1 + theta2)],\n",
       "[(l1 + l2*cos(theta3) + l3*cos(theta3 + theta4))*sin(theta1 + theta2) - l1*sin(theta1 + theta2)],\n",
       "[                                                      l2*sin(theta3) + l3*sin(theta3 + theta4)]])"
      ]
     },
     "execution_count": 58,
     "metadata": {},
     "output_type": "execute_result"
    }
   ],
   "source": [
    "P1 = P_E - P0_1\n",
    "P2 = P_E - P1_2\n",
    "P3 = P_E - P2_3\n",
    "P3"
   ]
  },
  {
   "cell_type": "markdown",
   "id": "e257a449-1a39-43ca-bdfd-507ea62e3e31",
   "metadata": {},
   "source": [
    "#### Check the jacobian with vector cross product "
   ]
  },
  {
   "cell_type": "code",
   "execution_count": 61,
   "id": "340e03f1-7750-490a-ad78-bbb60e6a158f",
   "metadata": {},
   "outputs": [
    {
     "data": {
      "text/latex": [
       "$\\displaystyle \\left(- \\left(l_{2} \\sin{\\left(\\theta_{3} \\right)} + l_{3} \\sin{\\left(\\theta_{3} + \\theta_{4} \\right)}\\right) \\cos{\\left(\\theta_{1} + \\theta_{2} \\right)}\\right)\\mathbf{\\hat{i}_{N}} + \\left(- \\left(l_{2} \\sin{\\left(\\theta_{3} \\right)} + l_{3} \\sin{\\left(\\theta_{3} + \\theta_{4} \\right)}\\right) \\sin{\\left(\\theta_{1} + \\theta_{2} \\right)}\\right)\\mathbf{\\hat{j}_{N}} + \\left(l_{2} \\cos{\\left(\\theta_{3} \\right)} + l_{3} \\cos{\\left(\\theta_{3} + \\theta_{4} \\right)}\\right)\\mathbf{\\hat{k}_{N}}$"
      ],
      "text/plain": [
       "(-(l2*sin(theta3) + l3*sin(theta3 + theta4))*cos(theta1 + theta2))*N.i + (-(l2*sin(theta3) + l3*sin(theta3 + theta4))*sin(theta1 + theta2))*N.j + (l2*cos(theta3) + l3*cos(theta3 + theta4))*N.k"
      ]
     },
     "execution_count": 61,
     "metadata": {},
     "output_type": "execute_result"
    }
   ],
   "source": [
    "z0_1 = Z0_1[0] * N.i + Z0_1[1] * N.j + Z0_1[2] * N.k\n",
    "p1 = P1[0] * N.i + P1[1] * N.j + P1[2] * N.k\n",
    "Jv_1 = Vector.cross(z0_1, p1)\n",
    "\n",
    "z0_3 = Z2_3[0] * N.i + Z2_3[1] * N.j + Z2_3[2] * N.k\n",
    "p3 = P3[0] * N.i + P3[1] * N.j + P3[2] * N.k\n",
    "Jv_3 = Vector.cross(z0_3, p3)\n",
    "\n",
    "Jv_3.simplify()\n"
   ]
  },
  {
   "cell_type": "code",
   "execution_count": null,
   "id": "0b61d2cb-1cac-45ed-a7c4-4bed9c2f0a68",
   "metadata": {},
   "outputs": [],
   "source": []
  },
  {
   "cell_type": "code",
   "execution_count": 36,
   "id": "389ef56c-27f7-4dca-84e8-61d92b2e2e7f",
   "metadata": {},
   "outputs": [],
   "source": [
    "import sympy as sym\n",
    "from sympy.physics.mechanics import dynamicsymbols \n",
    "\n",
    "def forward_kinematics_symbolic():\n",
    "   \n",
    "    # Create symbols for the DH parameters\n",
    "    alpha1, a1, d1, theta1 = sym.symbols('alpha1 a1 d1 theta1')\n",
    "    alpha2, a2, d2, theta2 = sym.symbols('alpha2 a2 d2 theta2')\n",
    "    alpha3, a3, d3, theta3 = sym.symbols('alpha3 a3 d3 theta3')\n",
    "\n",
    "    # Define the individual transformation matrices\n",
    "    T_0_1 = sym.Matrix([[sym.cos(theta1), -sym.sin(theta1)*sym.cos(alpha1), sym.sin(theta1)*sym.sin(alpha1), a1*sym.cos(theta1)],\n",
    "                       [sym.sin(theta1), sym.cos(theta1)*sym.cos(alpha1), -sym.cos(theta1)*sym.sin(alpha1), a1*sym.sin(theta1)],\n",
    "                       [0, sym.sin(alpha1), sym.cos(alpha1), d1],\n",
    "                       [0, 0, 0, 1]])\n",
    "    T_1_2 = sym.Matrix([[sym.cos(theta2), -sym.sin(theta2)*sym.cos(alpha2), sym.sin(theta2)*sym.sin(alpha2), a2*sym.cos(theta2)],\n",
    "                       [sym.sin(theta2), sym.cos(theta2)*sym.cos(alpha2), -sym.cos(theta2)*sym.sin(alpha2), a2*sym.sin(theta2)],\n",
    "                       [0, sym.sin(alpha2), sym.cos(alpha2), d2],\n",
    "                       [0, 0, 0, 1]])\n",
    "    T_2_3 = sym.Matrix([[sym.cos(theta3), -sym.sin(theta3)*sym.cos(alpha3), sym.sin(theta3)*sym.sin(alpha3), a3*sym.cos(theta3)],\n",
    "                       [sym.sin(theta3), sym.cos(theta3)*sym.cos(alpha3), -sym.cos(theta3)*sym.sin(alpha3), a3*sym.sin(theta3)],\n",
    "                       [0, sym.sin(alpha3), sym.cos(alpha3), d3],\n",
    "                       [0, 0, 0, 1]])\n",
    "    # Compute the overall transformation matrix\n",
    "    T_0_n = T_0_1 * T_1_2 * T_2_3\n",
    "    #T_0_n = sym.trigsimp(T_0_n)\n",
    "    #T02_simplify= sym.Matrix([[sym.trigsimp(T_0_n[0,1].simplify()), sym.trigsimp(T_0_n[0,2].simplify()),sym.trigsimp(T_0_n[0,2].simplify()), sym.trigsimp(T_0_n[0,3].simplify())],\n",
    "       #          [sym.trigsimp(T_0_n[1,0].simplify()), sym.trigsimp(T_0_n[1,1].simplify()),sym.trigsimp(T_0_n[1,2].simplify()), sym.trigsimp(T_0_n[1,3].simplify())],\n",
    "      #           [sym.trigsimp(T_0_n[2,0].simplify()), sym.trigsimp(T_0_n[2,1].simplify()),sym.trigsimp(T_0_n[2,2].simplify()), sym.trigsimp(T_0_n[2,3].simplify())],\n",
    "     #            [sym.trigsimp(T_0_n[3,0].simplify()), sym.trigsimp(T_0_n[3,1].simplify()),sym.trigsimp(T_0_n[3,2].simplify()), sym.trigsimp(T_0_n[3,3].simplify())]])\n",
    "    \n",
    "    #return T02_simplify\n",
    "    T_0_n = T_0_n.applyfunc(sym.trigsimp)\n",
    "    return T_0_n\n",
    "#print(forward_kinematics_symbolic())"
   ]
  },
  {
   "cell_type": "code",
   "execution_count": null,
   "id": "357977a6-b32c-444c-b6ee-e1a6534948e2",
   "metadata": {},
   "outputs": [],
   "source": [
    "T_0_n = T_0_n[:3,3]\n",
    "# Define the Jacobian matrix\n",
    "J = sym.Matrix([[sym.diff(T_0_n[0], theta1), sym.diff(T_0_n[0], theta2), sym.diff(T_0_n[0], theta3)],\n",
    "[sym.diff(T_0_n[1], theta1), sym.diff(T_0_n[1], theta2), sym.diff(T_0_n[1], theta3)],\n",
    "[sym.diff(T_0_n[2], theta1), sym.diff(T_0_n[2], theta2), sym.diff(T_0_n[2], theta3)]])\n",
    "J"
   ]
  }
 ],
 "metadata": {
  "kernelspec": {
   "display_name": "Python 3 (ipykernel)",
   "language": "python",
   "name": "python3"
  },
  "language_info": {
   "codemirror_mode": {
    "name": "ipython",
    "version": 3
   },
   "file_extension": ".py",
   "mimetype": "text/x-python",
   "name": "python",
   "nbconvert_exporter": "python",
   "pygments_lexer": "ipython3",
   "version": "3.10.6"
  }
 },
 "nbformat": 4,
 "nbformat_minor": 5
}
