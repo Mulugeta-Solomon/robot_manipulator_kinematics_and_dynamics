{
 "cells": [
  {
   "cell_type": "code",
   "execution_count": 1,
   "id": "d51e842e-f87e-4d41-8987-52f3d00d2ffe",
   "metadata": {},
   "outputs": [],
   "source": [
    "import sympy as sym"
   ]
  },
  {
   "cell_type": "code",
   "execution_count": 2,
   "id": "03220dfa-561f-4a0a-8d2f-f5b7b5bc75e9",
   "metadata": {},
   "outputs": [],
   "source": [
    "from sympy.physics.vector import init_vprinting\n",
    "init_vprinting(use_latex='mathjax', pretty_print=False)"
   ]
  },
  {
   "cell_type": "code",
   "execution_count": 3,
   "id": "21b3080d-cf84-4da5-ae6f-c806a0200fc4",
   "metadata": {},
   "outputs": [],
   "source": [
    "from sympy.physics.mechanics import dynamicsymbols \n",
    "from sympy.physics.vector import *\n",
    "from sympy.vector import CoordSys3D\n",
    "N = CoordSys3D('N')"
   ]
  },
  {
   "cell_type": "code",
   "execution_count": 11,
   "id": "82416f7c-092c-484c-a1cd-fc585ab0b197",
   "metadata": {},
   "outputs": [
    {
     "data": {
      "text/latex": [
       "$\\displaystyle \\left[\\begin{matrix}L_{1} \\cos{\\left(θ_{1} \\right)} + L_{2} \\cos{\\left(θ_{1} + θ_{2} \\right)} + Lc_{3} \\cos{\\left(θ_{1} + θ_{2} + θ_{3} \\right)}\\\\L_{1} \\sin{\\left(θ_{1} \\right)} + L_{2} \\sin{\\left(θ_{1} + θ_{2} \\right)} + Lc_{3} \\sin{\\left(θ_{1} + θ_{2} + θ_{3} \\right)}\\\\0\\end{matrix}\\right]$"
      ],
      "text/plain": [
       "Matrix([\n",
       "[L1*cos(θ1) + L2*cos(θ1 + θ2) + Lc3*cos(θ1 + θ2 + θ3)],\n",
       "[L1*sin(θ1) + L2*sin(θ1 + θ2) + Lc3*sin(θ1 + θ2 + θ3)],\n",
       "[                                                   0]])"
      ]
     },
     "execution_count": 11,
     "metadata": {},
     "output_type": "execute_result"
    }
   ],
   "source": [
    "# joint configuration and velocity are functions of time\n",
    "t, m1, m2, m3, Lc1, Lc2, Lc3, L1, L2, L3, I1, I2, I3, g = sym.symbols(\"t m1 m2 m3 Lc1 Lc2 Lc3 L1 L2 L3 I1 I2 I3 g\")\n",
    "q = sym.Array([sym.Function(\"θ1\")(t), sym.Function(\"θ2\")(t), sym.Function(\"θ3\")(t)])\n",
    "dq = q.diff(t)\n",
    "\n",
    "# link poses\n",
    "P1 = sym.Matrix([Lc1*sym.cos(q[0]),Lc1*sym.sin(q[0]), \n",
    "                 0])\n",
    "P2 =sym.Matrix([L1*sym.cos(q[0]) + Lc2*sym.cos(q[0] + q[1]), L1*sym.sin(q[0]) + Lc2*sym.sin(q[0] + q[1]),\n",
    "                0])\n",
    "P3 = sym.Matrix([L1*sym.cos(q[0]) + L2*sym.cos(q[0] + q[1]) + Lc3 * sym.cos(q[0] + q[1] + q[2]), L1*sym.sin(q[0]) + L2*sym.sin(q[0] + q[1]) + Lc3 * sym.sin(q[0] + q[1] + q[2]), 0])\n",
    "P3"
   ]
  },
  {
   "cell_type": "code",
   "execution_count": 5,
   "id": "e2733c7a-7424-49e8-a113-e00f79f33f1c",
   "metadata": {},
   "outputs": [
    {
     "data": {
      "text/latex": [
       "$\\displaystyle \\left[\\begin{matrix}- L_{1} \\sin{\\left(θ_{1} \\right)} - Lc_{2} \\sin{\\left(θ_{1} + θ_{2} \\right)} & - Lc_{2} \\sin{\\left(θ_{1} + θ_{2} \\right)} & 0\\\\L_{1} \\cos{\\left(θ_{1} \\right)} + Lc_{2} \\cos{\\left(θ_{1} + θ_{2} \\right)} & Lc_{2} \\cos{\\left(θ_{1} + θ_{2} \\right)} & 0\\\\0 & 0 & 0\\end{matrix}\\right]$"
      ],
      "text/plain": [
       "Matrix([\n",
       "[-L1*sin(θ1) - Lc2*sin(θ1 + θ2), -Lc2*sin(θ1 + θ2), 0],\n",
       "[ L1*cos(θ1) + Lc2*cos(θ1 + θ2),  Lc2*cos(θ1 + θ2), 0],\n",
       "[                             0,                 0, 0]])"
      ]
     },
     "execution_count": 5,
     "metadata": {},
     "output_type": "execute_result"
    }
   ],
   "source": [
    "\n",
    "    # link Jacobians\n",
    "J1 = P1.jacobian(q)\n",
    "J2 = P2.jacobian(q)\n",
    "J3 = P3.jacobian(q)\n",
    "J2\n"
   ]
  },
  {
   "cell_type": "code",
   "execution_count": 12,
   "id": "048ff0ab-8dac-44f3-8637-a1e5429bbe0b",
   "metadata": {},
   "outputs": [
    {
     "data": {
      "text/plain": [
       "array([[I1 + I2 + I3, I2 + I3, I3],\n",
       "       [I2 + I3, I2 + I3, I3],\n",
       "       [I3, I3, I3]], dtype=object)"
      ]
     },
     "execution_count": 12,
     "metadata": {},
     "output_type": "execute_result"
    }
   ],
   "source": [
    "import numpy as np\n",
    "\n",
    "\n",
    "# inertia matrices\n",
    "G1 = np.diag(np.array([m1, m1, m3]))\n",
    "G2 = np.diag(np.array([m2, m2, m3]))\n",
    "G3 = np.diag(np.array([m2, m2, m3]))\n",
    "\n",
    "I = np.array([[I1+I2+I3,I2+I3,I3],[I2+I3, I2+I3, I3],[I3,I3,I3]])\n",
    "\n",
    "# gravity\n",
    "I"
   ]
  },
  {
   "cell_type": "code",
   "execution_count": 13,
   "id": "44d6225c-10ef-4159-bc97-92270ab4ff66",
   "metadata": {},
   "outputs": [],
   "source": [
    "# mass matrix\n",
    "M = (J1.transpose() * G1 * J1 + J2.transpose() * G2 * J2 + J3.transpose() * G3 * J3) + I\n",
    "\n",
    "# Christoffel symbols and Coriolis matrix\n",
    "dMdq = M.diff(q)\n",
    "Γ = sym.permutedims(dMdq, (2, 1, 0)) - 0.5 * dMdq\n",
    "C = sym.tensorcontraction(sym.tensorproduct(dq, Γ), (0, 2)).tomatrix()\n",
    "\n",
    "# gravity vector\n",
    "V = g * (m1 * P1[1] + m2 * P2[1] + m3 * P3[1])\n",
    "g = V.diff(q)\n",
    "\n",
    "# compile functions to numerical code\n",
    "mass_matrix = sym.lambdify([q], M)\n",
    "coriolis_matrix = sym.lambdify([q, dq], C)\n",
    "gravity_vector = sym.lambdify([q], g)\n",
    "def force(cls, q, dq, ddq):\n",
    "        M = cls.mass_matrix(q)\n",
    "        C = cls.coriolis_matrix(q, dq)\n",
    "        g = cls.gravity_vector(q)\n",
    "\n",
    "        return M @ ddq + C @ dq + g\n",
    "M.simplify()"
   ]
  },
  {
   "cell_type": "code",
   "execution_count": 8,
   "id": "28b19364-a49b-49f9-b229-6c79c04cbe4f",
   "metadata": {},
   "outputs": [],
   "source": [
    "C.simplify()"
   ]
  },
  {
   "cell_type": "code",
   "execution_count": 15,
   "id": "129a550d-52aa-46da-b4fd-a84ac0cd6dd5",
   "metadata": {},
   "outputs": [
    {
     "data": {
      "text/latex": [
       "$\\displaystyle \\left[\\begin{matrix}I_{1} + I_{2} + I_{3} + 2 L_{1}^{2} m_{2} + 2 L_{1} L_{2} m_{2} \\cos{\\left(θ_{2} \\right)} + 2 L_{1} Lc_{2} m_{2} \\cos{\\left(θ_{2} \\right)} + 2 L_{1} Lc_{3} m_{2} \\cos{\\left(θ_{2} + θ_{3} \\right)} + L_{2}^{2} m_{2} + 2 L_{2} Lc_{3} m_{2} \\cos{\\left(θ_{3} \\right)} + Lc_{1}^{2} m_{1} + Lc_{2}^{2} m_{2} + Lc_{3}^{2} m_{2} & I_{2} + I_{3} + L_{1} L_{2} m_{2} \\cos{\\left(θ_{2} \\right)} + L_{1} Lc_{2} m_{2} \\cos{\\left(θ_{2} \\right)} + L_{1} Lc_{3} m_{2} \\cos{\\left(θ_{2} + θ_{3} \\right)} + L_{2}^{2} m_{2} + 2 L_{2} Lc_{3} m_{2} \\cos{\\left(θ_{3} \\right)} + Lc_{2}^{2} m_{2} + Lc_{3}^{2} m_{2} & I_{3} + L_{1} Lc_{3} m_{2} \\cos{\\left(θ_{2} + θ_{3} \\right)} + L_{2} Lc_{3} m_{2} \\cos{\\left(θ_{3} \\right)} + Lc_{3}^{2} m_{2}\\\\I_{2} + I_{3} + L_{1} L_{2} m_{2} \\cos{\\left(θ_{2} \\right)} + L_{1} Lc_{2} m_{2} \\cos{\\left(θ_{2} \\right)} + L_{1} Lc_{3} m_{2} \\cos{\\left(θ_{2} + θ_{3} \\right)} + L_{2}^{2} m_{2} + 2 L_{2} Lc_{3} m_{2} \\cos{\\left(θ_{3} \\right)} + Lc_{2}^{2} m_{2} + Lc_{3}^{2} m_{2} & I_{2} + I_{3} + L_{2}^{2} m_{2} + 2 L_{2} Lc_{3} m_{2} \\cos{\\left(θ_{3} \\right)} + Lc_{2}^{2} m_{2} + Lc_{3}^{2} m_{2} & I_{3} + L_{2} Lc_{3} m_{2} \\cos{\\left(θ_{3} \\right)} + Lc_{3}^{2} m_{2}\\\\I_{3} + L_{1} Lc_{3} m_{2} \\cos{\\left(θ_{2} + θ_{3} \\right)} + L_{2} Lc_{3} m_{2} \\cos{\\left(θ_{3} \\right)} + Lc_{3}^{2} m_{2} & I_{3} + L_{2} Lc_{3} m_{2} \\cos{\\left(θ_{3} \\right)} + Lc_{3}^{2} m_{2} & I_{3} + Lc_{3}^{2} m_{2}\\end{matrix}\\right]$"
      ],
      "text/plain": [
       "Matrix([\n",
       "[I1 + I2 + I3 + 2*L1**2*m2 + 2*L1*L2*m2*cos(θ2) + 2*L1*Lc2*m2*cos(θ2) + 2*L1*Lc3*m2*cos(θ2 + θ3) + L2**2*m2 + 2*L2*Lc3*m2*cos(θ3) + Lc1**2*m1 + Lc2**2*m2 + Lc3**2*m2, I2 + I3 + L1*L2*m2*cos(θ2) + L1*Lc2*m2*cos(θ2) + L1*Lc3*m2*cos(θ2 + θ3) + L2**2*m2 + 2*L2*Lc3*m2*cos(θ3) + Lc2**2*m2 + Lc3**2*m2, I3 + L1*Lc3*m2*cos(θ2 + θ3) + L2*Lc3*m2*cos(θ3) + Lc3**2*m2],\n",
       "[                                    I2 + I3 + L1*L2*m2*cos(θ2) + L1*Lc2*m2*cos(θ2) + L1*Lc3*m2*cos(θ2 + θ3) + L2**2*m2 + 2*L2*Lc3*m2*cos(θ3) + Lc2**2*m2 + Lc3**2*m2,                                                                 I2 + I3 + L2**2*m2 + 2*L2*Lc3*m2*cos(θ3) + Lc2**2*m2 + Lc3**2*m2,                          I3 + L2*Lc3*m2*cos(θ3) + Lc3**2*m2],\n",
       "[                                                                                                         I3 + L1*Lc3*m2*cos(θ2 + θ3) + L2*Lc3*m2*cos(θ3) + Lc3**2*m2,                                                                                               I3 + L2*Lc3*m2*cos(θ3) + Lc3**2*m2,                                              I3 + Lc3**2*m2]])"
      ]
     },
     "execution_count": 15,
     "metadata": {},
     "output_type": "execute_result"
    }
   ],
   "source": [
    "M\n"
   ]
  },
  {
   "cell_type": "code",
   "execution_count": null,
   "id": "f04fae18-ffaa-49c8-91eb-33a2427432ec",
   "metadata": {},
   "outputs": [],
   "source": []
  }
 ],
 "metadata": {
  "kernelspec": {
   "display_name": "Python 3 (ipykernel)",
   "language": "python",
   "name": "python3"
  },
  "language_info": {
   "codemirror_mode": {
    "name": "ipython",
    "version": 3
   },
   "file_extension": ".py",
   "mimetype": "text/x-python",
   "name": "python",
   "nbconvert_exporter": "python",
   "pygments_lexer": "ipython3",
   "version": "3.10.6"
  }
 },
 "nbformat": 4,
 "nbformat_minor": 5
}
