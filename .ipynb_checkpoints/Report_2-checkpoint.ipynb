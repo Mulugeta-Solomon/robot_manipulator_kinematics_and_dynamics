{
 "cells": [
  {
   "cell_type": "markdown",
   "id": "124c95fe-8374-4632-8d3a-1206ebc2c347",
   "metadata": {
    "tags": []
   },
   "source": [
    "## Kinematics and velocity relation using DH Method "
   ]
  },
  {
   "cell_type": "code",
   "execution_count": 9,
   "id": "4686dbba-36a2-4195-abcd-ce1c31ada5c6",
   "metadata": {},
   "outputs": [],
   "source": [
    "import sympy as sym"
   ]
  },
  {
   "cell_type": "code",
   "execution_count": 3,
   "id": "8420ce48-446f-46ae-9a9a-fc3cb61b6f53",
   "metadata": {},
   "outputs": [],
   "source": [
    "from sympy.physics.vector import init_vprinting\n",
    "init_vprinting(use_latex='mathjax', pretty_print=False)"
   ]
  },
  {
   "cell_type": "code",
   "execution_count": 83,
   "id": "57a7309e-a46b-47c8-a5b8-affc0308676d",
   "metadata": {},
   "outputs": [],
   "source": [
    "from sympy.physics.mechanics import dynamicsymbols \n",
    "from sympy.physics.vector import *\n",
    "from sympy.vector import CoordSys3D\n",
    "N = CoordSys3D('N')"
   ]
  },
  {
   "cell_type": "code",
   "execution_count": 44,
   "id": "ca7f695e-6076-4422-9797-75a0d3bcbc13",
   "metadata": {},
   "outputs": [
    {
     "data": {
      "text/latex": [
       "$\\displaystyle \\left( \\theta_{1}, \\  \\theta_{2}, \\  \\theta_{3}, \\  \\theta_{4}, \\  l_{1}, \\  l_{2}, \\  \\theta, \\  \\alpha, \\  a, \\  d\\right)$"
      ],
      "text/plain": [
       "(theta1, theta2, theta3, theta4, l1, l2, theta, alpha, a, d)"
      ]
     },
     "execution_count": 44,
     "metadata": {},
     "output_type": "execute_result"
    }
   ],
   "source": [
    "theta1, theta2, theta3, theta4, l1, l2, theta, alpha, a, d = dynamicsymbols('theta1 theta2 theta3 theta4 l1 l2 theta alpha a d')\n",
    "theta1, theta2,theta3, theta4, l1, l2, theta, alpha, a, d "
   ]
  },
  {
   "cell_type": "markdown",
   "id": "d0003dba-a681-43ce-b2bf-d90b129b6f47",
   "metadata": {},
   "source": [
    "### DH Table \n",
    "#### The DH table for 4DOF Link Planar Mnipulator shown above can be formulated as,"
   ]
  },
  {
   "cell_type": "code",
   "execution_count": 18,
   "id": "bc401741-33c5-4b9c-a2f5-a8f8c6104346",
   "metadata": {},
   "outputs": [
    {
     "data": {
      "text/latex": [
       "$\\displaystyle \\left[\\begin{matrix}\\cos{\\left(\\theta \\right)} & - \\sin{\\left(\\theta \\right)} & 0 & a\\\\\\sin{\\left(\\theta \\right)} \\cos{\\left(\\alpha \\right)} & \\cos{\\left(\\alpha \\right)} \\cos{\\left(\\theta \\right)} & - \\sin{\\left(\\alpha \\right)} & - d \\sin{\\left(\\alpha \\right)}\\\\\\sin{\\left(\\alpha \\right)} \\sin{\\left(\\theta \\right)} & \\sin{\\left(\\alpha \\right)} \\cos{\\left(\\theta \\right)} & \\cos{\\left(\\alpha \\right)} & d \\cos{\\left(\\alpha \\right)}\\\\0 & 0 & 0 & 1\\end{matrix}\\right]$"
      ],
      "text/plain": [
       "Matrix([\n",
       "[           cos(theta),           -sin(theta),           0,             a],\n",
       "[sin(theta)*cos(alpha), cos(alpha)*cos(theta), -sin(alpha), -d*sin(alpha)],\n",
       "[sin(alpha)*sin(theta), sin(alpha)*cos(theta),  cos(alpha),  d*cos(alpha)],\n",
       "[                    0,                     0,           0,             1]])"
      ]
     },
     "execution_count": 18,
     "metadata": {},
     "output_type": "execute_result"
    }
   ],
   "source": [
    "#rot_matrix = sym.Matrix([[sym.cos(theta), -sym.sin(theta)*sym.cos(alpha), sym.sin(theta)*sym.sin(alpha)],\n",
    "                # [sym.sin(theta), sym.cos(theta)*sym.cos(alpha), -sym.cos(theta)*sym.sin(alpha)],\n",
    "                 #[0, sym.sin(alpha), sym.cos(alpha)]])\n",
    "#trans_matrix = sym.Matrix([a*sym.cos(theta),a*sym.sin(theta),d])\n",
    "#T_homog = T_homog.subs({alpha:alpha1, a:a1,theta:theta1, d:d1})\n",
    "\n",
    "rot_matrix = sym.Matrix([[sym.cos(theta), -sym.sin(theta), 0],\n",
    "                 [sym.cos(alpha)*sym.sin(theta), sym.cos(alpha)*sym.cos(theta), -sym.sin(alpha)],\n",
    "                 [sym.sin(alpha)*sym.sin(theta), sym.sin(alpha)*sym.cos(theta), sym.cos(alpha)]])\n",
    "\n",
    "\n",
    "trans_matrix = sym.Matrix([a, -sym.sin(alpha)*d, sym.cos(alpha)*d])\n",
    "\n",
    "last_row = sym.Matrix([[0, 0, 0, 1]])\n",
    "\n",
    "T_homog = sym.Matrix.vstack(sym.Matrix.hstack(rot_matrix, trans_matrix), last_row)\n",
    "T_homog\n"
   ]
  },
  {
   "cell_type": "markdown",
   "id": "3c93dda8-8064-4bbc-aae8-24c340b75f24",
   "metadata": {},
   "source": [
    "### Finding the homogenious matrices for each joint "
   ]
  },
  {
   "cell_type": "code",
   "execution_count": 102,
   "id": "f52b7971-a58a-471e-bec8-4d6dcd2ce3f3",
   "metadata": {},
   "outputs": [
    {
     "data": {
      "text/latex": [
       "$\\displaystyle \\left[\\begin{matrix}\\cos{\\left(\\theta_{1} \\right)} & - \\sin{\\left(\\theta_{1} \\right)} & 0 & 0\\\\\\sin{\\left(\\theta_{1} \\right)} & \\cos{\\left(\\theta_{1} \\right)} & 0 & 0\\\\0 & 0 & 1 & l_{1}\\\\0 & 0 & 0 & 1\\end{matrix}\\right]$"
      ],
      "text/plain": [
       "Matrix([\n",
       "[cos(theta1), -sin(theta1), 0,  0],\n",
       "[sin(theta1),  cos(theta1), 0,  0],\n",
       "[          0,            0, 1, l1],\n",
       "[          0,            0, 0,  1]])"
      ]
     },
     "execution_count": 102,
     "metadata": {},
     "output_type": "execute_result"
    }
   ],
   "source": [
    "T01 = T_homog.subs({alpha:0, a:0, theta:theta1, d:l1})\n",
    "T01"
   ]
  },
  {
   "cell_type": "code",
   "execution_count": 39,
   "id": "cf51117c-efd8-43b2-bb72-84410657bc58",
   "metadata": {},
   "outputs": [
    {
     "data": {
      "text/latex": [
       "$\\displaystyle \\left[\\begin{matrix}\\cos{\\left(\\theta_{2} \\right)} & - \\sin{\\left(\\theta_{2} \\right)} & 0 & 0\\\\0 & 0 & -1 & 0\\\\\\sin{\\left(\\theta_{2} \\right)} & \\cos{\\left(\\theta_{2} \\right)} & 0 & 0\\\\0 & 0 & 0 & 1\\end{matrix}\\right]$"
      ],
      "text/plain": [
       "Matrix([\n",
       "[cos(theta2), -sin(theta2),  0, 0],\n",
       "[          0,            0, -1, 0],\n",
       "[sin(theta2),  cos(theta2),  0, 0],\n",
       "[          0,            0,  0, 1]])"
      ]
     },
     "execution_count": 96,
     "metadata": {},
     "output_type": "execute_result"
    }
   ],
   "source": [
    "T12 = T_homog.subs({alpha:sym.pi/2, a:0, theta:theta2, d:0})\n",
    "T12"
   ]
  },
  {
   "cell_type": "code",
   "execution_count": 105,
   "id": "ad500599-5189-4f1e-9a87-dcf69e228466",
   "metadata": {},
   "outputs": [
    {
     "data": {
      "text/latex": [
       "$\\displaystyle \\left[\\begin{matrix}\\cos{\\left(\\theta_{1} \\right)} \\cos{\\left(\\theta_{2} \\right)} & - \\sin{\\left(\\theta_{2} \\right)} \\cos{\\left(\\theta_{1} \\right)} & \\sin{\\left(\\theta_{1} \\right)} & 0\\\\\\sin{\\left(\\theta_{1} \\right)} \\cos{\\left(\\theta_{2} \\right)} & - \\sin{\\left(\\theta_{1} \\right)} \\sin{\\left(\\theta_{2} \\right)} & - \\cos{\\left(\\theta_{1} \\right)} & 0\\\\\\sin{\\left(\\theta_{2} \\right)} & \\cos{\\left(\\theta_{2} \\right)} & 0 & l_{1}\\\\0 & 0 & 0 & 1\\end{matrix}\\right]$"
      ],
      "text/plain": [
       "Matrix([\n",
       "[cos(theta1)*cos(theta2), -sin(theta2)*cos(theta1),  sin(theta1),  0],\n",
       "[sin(theta1)*cos(theta2), -sin(theta1)*sin(theta2), -cos(theta1),  0],\n",
       "[            sin(theta2),              cos(theta2),            0, l1],\n",
       "[                      0,                        0,            0,  1]])"
      ]
     },
     "execution_count": 105,
     "metadata": {},
     "output_type": "execute_result"
    }
   ],
   "source": [
    "T02 = (T01*T12)\n",
    "#T02 = T02.subs({ theta1:sym.pi/2, theta2: sym.pi/3,  l1:0.5})\n",
    "T02"
   ]
  },
  {
   "cell_type": "code",
   "execution_count": 42,
   "id": "afd91f9d-34c3-4c86-a9c1-dcb6f6fa0871",
   "metadata": {},
   "outputs": [
    {
     "data": {
      "text/latex": [
       "$\\displaystyle \\left[\\begin{matrix}\\cos{\\left(\\theta_{1} \\right)} \\cos{\\left(\\theta_{2} \\right)} & - \\sin{\\left(\\theta_{2} \\right)} \\cos{\\left(\\theta_{1} \\right)} & \\sin{\\left(\\theta_{1} \\right)} & 0\\\\\\sin{\\left(\\theta_{1} \\right)} \\cos{\\left(\\theta_{2} \\right)} & - \\sin{\\left(\\theta_{1} \\right)} \\sin{\\left(\\theta_{2} \\right)} & - \\cos{\\left(\\theta_{1} \\right)} & 0\\\\\\sin{\\left(\\theta_{2} \\right)} & \\cos{\\left(\\theta_{2} \\right)} & 0 & l_{1}\\\\0 & 0 & 0 & 1\\end{matrix}\\right]$"
      ],
      "text/plain": [
       "Matrix([\n",
       "[cos(theta1)*cos(theta2), -sin(theta2)*cos(theta1),  sin(theta1),  0],\n",
       "[sin(theta1)*cos(theta2), -sin(theta1)*sin(theta2), -cos(theta1),  0],\n",
       "[            sin(theta2),              cos(theta2),            0, l1],\n",
       "[                      0,                        0,            0,  1]])"
      ]
     },
     "execution_count": 42,
     "metadata": {},
     "output_type": "execute_result"
    }
   ],
   "source": [
    "T02_simplify= sym.Matrix([[T02[0,0].simplify(), T02[0,1].simplify(),T02[0,2].simplify(), sym.trigsimp(T02[0,3].simplify())],\n",
    "                 [T02[1,0].simplify(), T02[1,1].simplify(), T02[1,2].simplify(), sym.trigsimp(T02[1,3].simplify())],\n",
    "                 [T02[2,0].simplify(), T02[2,1].simplify(), T02[2,2].simplify(), sym.trigsimp(T02[2,3].simplify())],\n",
    "                 [T02[3,0].simplify(), T02[3,1].simplify(), T02[3,2].simplify(), sym.trigsimp(T02[3,3].simplify())]])\n",
    "\n",
    "T02_simplify"
   ]
  },
  {
   "cell_type": "code",
   "execution_count": 58,
   "id": "fecd1cf1-013e-4b53-9587-1a1f62d29fde",
   "metadata": {},
   "outputs": [
    {
     "data": {
      "text/latex": [
       "$\\displaystyle \\left[\\begin{matrix}\\sin{\\left(\\theta_{1} \\right)}\\\\- \\cos{\\left(\\theta_{1} \\right)}\\\\0\\end{matrix}\\right]$"
      ],
      "text/plain": [
       "Matrix([\n",
       "[ sin(theta1)],\n",
       "[-cos(theta1)],\n",
       "[           0]])"
      ]
     },
     "execution_count": 58,
     "metadata": {},
     "output_type": "execute_result"
    }
   ],
   "source": [
    "P02 = sym.Matrix([[T02[0,3]],\n",
    "                 [T02[1,3]],\n",
    "                 [T02[2,3]]])\n",
    "\n",
    "P01 = sym.Matrix([[T01[0,3]],\n",
    "                 [T01[1,3]],\n",
    "                 [T01[2,3]]])\n",
    "\n",
    "P12 = sym.Matrix([[T12[0,3]],\n",
    "                 [T12[1,3]],\n",
    "                 [T12[2,3]]])\n",
    "\n",
    "Z02 = sym.Matrix([[T02[0,2]],\n",
    "                 [T02[1,2]],\n",
    "                 [T02[2,2]]])\n",
    "Z02"
   ]
  },
  {
   "cell_type": "code",
   "execution_count": 57,
   "id": "aae0cb8a-3b41-4618-a912-cdf0c4f43e73",
   "metadata": {},
   "outputs": [
    {
     "data": {
      "text/latex": [
       "$\\displaystyle \\left[\\begin{matrix}0\\\\0\\\\0\\end{matrix}\\right]$"
      ],
      "text/plain": [
       "Matrix([\n",
       "[0],\n",
       "[0],\n",
       "[0]])"
      ]
     },
     "execution_count": 57,
     "metadata": {},
     "output_type": "execute_result"
    }
   ],
   "source": [
    "P1 = P02 - P01\n",
    "P2 = P02 - P1"
   ]
  },
  {
   "cell_type": "code",
   "execution_count": 101,
   "id": "340e03f1-7750-490a-ad78-bbb60e6a158f",
   "metadata": {},
   "outputs": [
    {
     "data": {
      "text/latex": [
       "$\\displaystyle \\left(- l_{1} \\cos{\\left(\\theta_{1} \\right)}\\right)\\mathbf{\\hat{i}_{N}} + \\left(- l_{1} \\sin{\\left(\\theta_{1} \\right)}\\right)\\mathbf{\\hat{j}_{N}}$"
      ],
      "text/plain": [
       "(-l1*cos(theta1))*N.i + (-l1*sin(theta1))*N.j"
      ]
     },
     "execution_count": 101,
     "metadata": {},
     "output_type": "execute_result"
    }
   ],
   "source": [
    "z02 = Z02[0] * N.i + Z02[1] * N.j + Z02[2] * N.k\n",
    "p2 = P2[0] * N.i + P2[1] * N.j + P2[2] * N.k\n",
    "W = Vector.cross(z02, p2)\n",
    "W"
   ]
  },
  {
   "cell_type": "code",
   "execution_count": null,
   "id": "389ef56c-27f7-4dca-84e8-61d92b2e2e7f",
   "metadata": {},
   "outputs": [],
   "source": []
  }
 ],
 "metadata": {
  "kernelspec": {
   "display_name": "Python 3 (ipykernel)",
   "language": "python",
   "name": "python3"
  },
  "language_info": {
   "codemirror_mode": {
    "name": "ipython",
    "version": 3
   },
   "file_extension": ".py",
   "mimetype": "text/x-python",
   "name": "python",
   "nbconvert_exporter": "python",
   "pygments_lexer": "ipython3",
   "version": "3.10.6"
  }
 },
 "nbformat": 4,
 "nbformat_minor": 5
}
